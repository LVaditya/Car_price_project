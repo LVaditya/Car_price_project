{
  "cells": [
    {
      "cell_type": "markdown",
      "metadata": {
        "id": "view-in-github",
        "colab_type": "text"
      },
      "source": [
        "<a href=\"https://colab.research.google.com/github/LVaditya/Car_price_project/blob/main/cars_classfn.ipynb\" target=\"_parent\"><img src=\"https://colab.research.google.com/assets/colab-badge.svg\" alt=\"Open In Colab\"/></a>"
      ]
    },
    {
      "cell_type": "code",
      "execution_count": null,
      "metadata": {
        "id": "Q1-Xc_Yr1aSz"
      },
      "outputs": [],
      "source": [
        "import pandas as pd\n",
        "import numpy as np\n",
        "import seaborn as sns"
      ]
    },
    {
      "cell_type": "code",
      "execution_count": null,
      "metadata": {
        "id": "LXL-Q1tk1sq-"
      },
      "outputs": [],
      "source": [
        "df= pd.read_csv(\"cars_class.csv\")"
      ]
    },
    {
      "cell_type": "code",
      "execution_count": null,
      "metadata": {
        "id": "nufP0JTa13-F",
        "colab": {
          "base_uri": "https://localhost:8080/"
        },
        "outputId": "c0bda2be-5629-4e7f-a077-4eb0bd93e105"
      },
      "outputs": [
        {
          "output_type": "stream",
          "name": "stdout",
          "text": [
            "<class 'pandas.core.frame.DataFrame'>\n",
            "RangeIndex: 719 entries, 0 to 718\n",
            "Data columns (total 20 columns):\n",
            " #   Column        Non-Null Count  Dtype\n",
            "---  ------        --------------  -----\n",
            " 0   ID            719 non-null    int64\n",
            " 1   Comp          719 non-null    int64\n",
            " 2   Circ          719 non-null    int64\n",
            " 3   D.Circ        719 non-null    int64\n",
            " 4   Rad.Ra        719 non-null    int64\n",
            " 5   Pr.Axis.Ra    719 non-null    int64\n",
            " 6   Max.L.Ra      719 non-null    int64\n",
            " 7   Scat.Ra       719 non-null    int64\n",
            " 8   Elong         719 non-null    int64\n",
            " 9   Pr.Axis.Rect  719 non-null    int64\n",
            " 10  Max.L.Rect    719 non-null    int64\n",
            " 11  Sc.Var.Maxis  719 non-null    int64\n",
            " 12  Sc.Var.maxis  719 non-null    int64\n",
            " 13  Ra.Gyr        719 non-null    int64\n",
            " 14  Skew.Maxis    719 non-null    int64\n",
            " 15  Skew.maxis    719 non-null    int64\n",
            " 16  Kurt.maxis    719 non-null    int64\n",
            " 17  Kurt.Maxis    719 non-null    int64\n",
            " 18  Holl.Ra       719 non-null    int64\n",
            " 19  Class         719 non-null    int64\n",
            "dtypes: int64(20)\n",
            "memory usage: 112.5 KB\n"
          ]
        }
      ],
      "source": [
        "df.info() #to get an idea about types of feature and finding if any null values"
      ]
    },
    {
      "cell_type": "code",
      "execution_count": null,
      "metadata": {
        "id": "ZYkFt4VSZ9FC",
        "colab": {
          "base_uri": "https://localhost:8080/",
          "height": 364
        },
        "outputId": "1040082e-633e-47c4-8c4f-c0e2ccf6ae4b"
      },
      "outputs": [
        {
          "output_type": "execute_result",
          "data": {
            "text/plain": [
              "               ID        Comp        Circ      D.Circ      Rad.Ra  Pr.Axis.Ra  \\\n",
              "count  719.000000  719.000000  719.000000  719.000000  719.000000  719.000000   \n",
              "mean   360.000000   93.435327   44.851182   81.723227  168.579972   61.847010   \n",
              "std    207.701709    8.111406    6.150286   15.528208   33.809172    8.259136   \n",
              "min      1.000000   73.000000   33.000000   40.000000  105.000000   47.000000   \n",
              "25%    180.500000   87.000000   40.000000   70.000000  141.000000   57.000000   \n",
              "50%    360.000000   93.000000   44.000000   79.000000  166.000000   61.000000   \n",
              "75%    539.500000   99.000000   49.000000   96.000000  194.500000   65.000000   \n",
              "max    719.000000  119.000000   59.000000  110.000000  333.000000  138.000000   \n",
              "\n",
              "         Max.L.Ra     Scat.Ra       Elong  Pr.Axis.Rect  Max.L.Rect  \\\n",
              "count  719.000000  719.000000  719.000000    719.000000  719.000000   \n",
              "mean     8.625869  168.137691   41.075104     20.531293  148.030598   \n",
              "std      4.916908   32.937591    7.764459      2.560969   14.560092   \n",
              "min      2.000000  112.000000   26.000000     17.000000  118.000000   \n",
              "25%      6.000000  146.000000   33.000000     19.000000  137.000000   \n",
              "50%      8.000000  157.000000   43.000000     20.000000  146.000000   \n",
              "75%     10.000000  197.500000   46.000000     23.000000  159.000000   \n",
              "max     55.000000  265.000000   61.000000     29.000000  188.000000   \n",
              "\n",
              "       Sc.Var.Maxis  Sc.Var.maxis      Ra.Gyr  Skew.Maxis  Skew.maxis  \\\n",
              "count    719.000000    719.000000  719.000000  719.000000  719.000000   \n",
              "mean     188.168289    436.215577  174.726008   72.682893    6.343533   \n",
              "std       31.235395    174.964977   32.149568    7.542055    4.856169   \n",
              "min      130.000000    184.000000  109.000000   59.000000    0.000000   \n",
              "25%      167.000000    317.000000  149.000000   68.000000    2.000000   \n",
              "50%      178.000000    362.000000  174.000000   72.000000    6.000000   \n",
              "75%      216.000000    584.500000  198.000000   76.000000    9.000000   \n",
              "max      320.000000   1018.000000  262.000000  135.000000   22.000000   \n",
              "\n",
              "       Kurt.maxis  Kurt.Maxis     Holl.Ra       Class  \n",
              "count  719.000000  719.000000  719.000000  719.000000  \n",
              "mean    12.394993  188.798331  195.407510    1.470097  \n",
              "std      8.742511    6.048522    7.235166    1.126477  \n",
              "min      0.000000  176.000000  181.000000    0.000000  \n",
              "25%      5.500000  184.000000  190.000000    0.000000  \n",
              "50%     11.000000  188.000000  196.000000    1.000000  \n",
              "75%     18.000000  193.000000  201.000000    2.000000  \n",
              "max     41.000000  204.000000  211.000000    3.000000  "
            ],
            "text/html": [
              "\n",
              "  <div id=\"df-aa812d6e-23a1-468c-aaa1-6eabaa83944c\">\n",
              "    <div class=\"colab-df-container\">\n",
              "      <div>\n",
              "<style scoped>\n",
              "    .dataframe tbody tr th:only-of-type {\n",
              "        vertical-align: middle;\n",
              "    }\n",
              "\n",
              "    .dataframe tbody tr th {\n",
              "        vertical-align: top;\n",
              "    }\n",
              "\n",
              "    .dataframe thead th {\n",
              "        text-align: right;\n",
              "    }\n",
              "</style>\n",
              "<table border=\"1\" class=\"dataframe\">\n",
              "  <thead>\n",
              "    <tr style=\"text-align: right;\">\n",
              "      <th></th>\n",
              "      <th>ID</th>\n",
              "      <th>Comp</th>\n",
              "      <th>Circ</th>\n",
              "      <th>D.Circ</th>\n",
              "      <th>Rad.Ra</th>\n",
              "      <th>Pr.Axis.Ra</th>\n",
              "      <th>Max.L.Ra</th>\n",
              "      <th>Scat.Ra</th>\n",
              "      <th>Elong</th>\n",
              "      <th>Pr.Axis.Rect</th>\n",
              "      <th>Max.L.Rect</th>\n",
              "      <th>Sc.Var.Maxis</th>\n",
              "      <th>Sc.Var.maxis</th>\n",
              "      <th>Ra.Gyr</th>\n",
              "      <th>Skew.Maxis</th>\n",
              "      <th>Skew.maxis</th>\n",
              "      <th>Kurt.maxis</th>\n",
              "      <th>Kurt.Maxis</th>\n",
              "      <th>Holl.Ra</th>\n",
              "      <th>Class</th>\n",
              "    </tr>\n",
              "  </thead>\n",
              "  <tbody>\n",
              "    <tr>\n",
              "      <th>count</th>\n",
              "      <td>719.000000</td>\n",
              "      <td>719.000000</td>\n",
              "      <td>719.000000</td>\n",
              "      <td>719.000000</td>\n",
              "      <td>719.000000</td>\n",
              "      <td>719.000000</td>\n",
              "      <td>719.000000</td>\n",
              "      <td>719.000000</td>\n",
              "      <td>719.000000</td>\n",
              "      <td>719.000000</td>\n",
              "      <td>719.000000</td>\n",
              "      <td>719.000000</td>\n",
              "      <td>719.000000</td>\n",
              "      <td>719.000000</td>\n",
              "      <td>719.000000</td>\n",
              "      <td>719.000000</td>\n",
              "      <td>719.000000</td>\n",
              "      <td>719.000000</td>\n",
              "      <td>719.000000</td>\n",
              "      <td>719.000000</td>\n",
              "    </tr>\n",
              "    <tr>\n",
              "      <th>mean</th>\n",
              "      <td>360.000000</td>\n",
              "      <td>93.435327</td>\n",
              "      <td>44.851182</td>\n",
              "      <td>81.723227</td>\n",
              "      <td>168.579972</td>\n",
              "      <td>61.847010</td>\n",
              "      <td>8.625869</td>\n",
              "      <td>168.137691</td>\n",
              "      <td>41.075104</td>\n",
              "      <td>20.531293</td>\n",
              "      <td>148.030598</td>\n",
              "      <td>188.168289</td>\n",
              "      <td>436.215577</td>\n",
              "      <td>174.726008</td>\n",
              "      <td>72.682893</td>\n",
              "      <td>6.343533</td>\n",
              "      <td>12.394993</td>\n",
              "      <td>188.798331</td>\n",
              "      <td>195.407510</td>\n",
              "      <td>1.470097</td>\n",
              "    </tr>\n",
              "    <tr>\n",
              "      <th>std</th>\n",
              "      <td>207.701709</td>\n",
              "      <td>8.111406</td>\n",
              "      <td>6.150286</td>\n",
              "      <td>15.528208</td>\n",
              "      <td>33.809172</td>\n",
              "      <td>8.259136</td>\n",
              "      <td>4.916908</td>\n",
              "      <td>32.937591</td>\n",
              "      <td>7.764459</td>\n",
              "      <td>2.560969</td>\n",
              "      <td>14.560092</td>\n",
              "      <td>31.235395</td>\n",
              "      <td>174.964977</td>\n",
              "      <td>32.149568</td>\n",
              "      <td>7.542055</td>\n",
              "      <td>4.856169</td>\n",
              "      <td>8.742511</td>\n",
              "      <td>6.048522</td>\n",
              "      <td>7.235166</td>\n",
              "      <td>1.126477</td>\n",
              "    </tr>\n",
              "    <tr>\n",
              "      <th>min</th>\n",
              "      <td>1.000000</td>\n",
              "      <td>73.000000</td>\n",
              "      <td>33.000000</td>\n",
              "      <td>40.000000</td>\n",
              "      <td>105.000000</td>\n",
              "      <td>47.000000</td>\n",
              "      <td>2.000000</td>\n",
              "      <td>112.000000</td>\n",
              "      <td>26.000000</td>\n",
              "      <td>17.000000</td>\n",
              "      <td>118.000000</td>\n",
              "      <td>130.000000</td>\n",
              "      <td>184.000000</td>\n",
              "      <td>109.000000</td>\n",
              "      <td>59.000000</td>\n",
              "      <td>0.000000</td>\n",
              "      <td>0.000000</td>\n",
              "      <td>176.000000</td>\n",
              "      <td>181.000000</td>\n",
              "      <td>0.000000</td>\n",
              "    </tr>\n",
              "    <tr>\n",
              "      <th>25%</th>\n",
              "      <td>180.500000</td>\n",
              "      <td>87.000000</td>\n",
              "      <td>40.000000</td>\n",
              "      <td>70.000000</td>\n",
              "      <td>141.000000</td>\n",
              "      <td>57.000000</td>\n",
              "      <td>6.000000</td>\n",
              "      <td>146.000000</td>\n",
              "      <td>33.000000</td>\n",
              "      <td>19.000000</td>\n",
              "      <td>137.000000</td>\n",
              "      <td>167.000000</td>\n",
              "      <td>317.000000</td>\n",
              "      <td>149.000000</td>\n",
              "      <td>68.000000</td>\n",
              "      <td>2.000000</td>\n",
              "      <td>5.500000</td>\n",
              "      <td>184.000000</td>\n",
              "      <td>190.000000</td>\n",
              "      <td>0.000000</td>\n",
              "    </tr>\n",
              "    <tr>\n",
              "      <th>50%</th>\n",
              "      <td>360.000000</td>\n",
              "      <td>93.000000</td>\n",
              "      <td>44.000000</td>\n",
              "      <td>79.000000</td>\n",
              "      <td>166.000000</td>\n",
              "      <td>61.000000</td>\n",
              "      <td>8.000000</td>\n",
              "      <td>157.000000</td>\n",
              "      <td>43.000000</td>\n",
              "      <td>20.000000</td>\n",
              "      <td>146.000000</td>\n",
              "      <td>178.000000</td>\n",
              "      <td>362.000000</td>\n",
              "      <td>174.000000</td>\n",
              "      <td>72.000000</td>\n",
              "      <td>6.000000</td>\n",
              "      <td>11.000000</td>\n",
              "      <td>188.000000</td>\n",
              "      <td>196.000000</td>\n",
              "      <td>1.000000</td>\n",
              "    </tr>\n",
              "    <tr>\n",
              "      <th>75%</th>\n",
              "      <td>539.500000</td>\n",
              "      <td>99.000000</td>\n",
              "      <td>49.000000</td>\n",
              "      <td>96.000000</td>\n",
              "      <td>194.500000</td>\n",
              "      <td>65.000000</td>\n",
              "      <td>10.000000</td>\n",
              "      <td>197.500000</td>\n",
              "      <td>46.000000</td>\n",
              "      <td>23.000000</td>\n",
              "      <td>159.000000</td>\n",
              "      <td>216.000000</td>\n",
              "      <td>584.500000</td>\n",
              "      <td>198.000000</td>\n",
              "      <td>76.000000</td>\n",
              "      <td>9.000000</td>\n",
              "      <td>18.000000</td>\n",
              "      <td>193.000000</td>\n",
              "      <td>201.000000</td>\n",
              "      <td>2.000000</td>\n",
              "    </tr>\n",
              "    <tr>\n",
              "      <th>max</th>\n",
              "      <td>719.000000</td>\n",
              "      <td>119.000000</td>\n",
              "      <td>59.000000</td>\n",
              "      <td>110.000000</td>\n",
              "      <td>333.000000</td>\n",
              "      <td>138.000000</td>\n",
              "      <td>55.000000</td>\n",
              "      <td>265.000000</td>\n",
              "      <td>61.000000</td>\n",
              "      <td>29.000000</td>\n",
              "      <td>188.000000</td>\n",
              "      <td>320.000000</td>\n",
              "      <td>1018.000000</td>\n",
              "      <td>262.000000</td>\n",
              "      <td>135.000000</td>\n",
              "      <td>22.000000</td>\n",
              "      <td>41.000000</td>\n",
              "      <td>204.000000</td>\n",
              "      <td>211.000000</td>\n",
              "      <td>3.000000</td>\n",
              "    </tr>\n",
              "  </tbody>\n",
              "</table>\n",
              "</div>\n",
              "      <button class=\"colab-df-convert\" onclick=\"convertToInteractive('df-aa812d6e-23a1-468c-aaa1-6eabaa83944c')\"\n",
              "              title=\"Convert this dataframe to an interactive table.\"\n",
              "              style=\"display:none;\">\n",
              "        \n",
              "  <svg xmlns=\"http://www.w3.org/2000/svg\" height=\"24px\"viewBox=\"0 0 24 24\"\n",
              "       width=\"24px\">\n",
              "    <path d=\"M0 0h24v24H0V0z\" fill=\"none\"/>\n",
              "    <path d=\"M18.56 5.44l.94 2.06.94-2.06 2.06-.94-2.06-.94-.94-2.06-.94 2.06-2.06.94zm-11 1L8.5 8.5l.94-2.06 2.06-.94-2.06-.94L8.5 2.5l-.94 2.06-2.06.94zm10 10l.94 2.06.94-2.06 2.06-.94-2.06-.94-.94-2.06-.94 2.06-2.06.94z\"/><path d=\"M17.41 7.96l-1.37-1.37c-.4-.4-.92-.59-1.43-.59-.52 0-1.04.2-1.43.59L10.3 9.45l-7.72 7.72c-.78.78-.78 2.05 0 2.83L4 21.41c.39.39.9.59 1.41.59.51 0 1.02-.2 1.41-.59l7.78-7.78 2.81-2.81c.8-.78.8-2.07 0-2.86zM5.41 20L4 18.59l7.72-7.72 1.47 1.35L5.41 20z\"/>\n",
              "  </svg>\n",
              "      </button>\n",
              "      \n",
              "  <style>\n",
              "    .colab-df-container {\n",
              "      display:flex;\n",
              "      flex-wrap:wrap;\n",
              "      gap: 12px;\n",
              "    }\n",
              "\n",
              "    .colab-df-convert {\n",
              "      background-color: #E8F0FE;\n",
              "      border: none;\n",
              "      border-radius: 50%;\n",
              "      cursor: pointer;\n",
              "      display: none;\n",
              "      fill: #1967D2;\n",
              "      height: 32px;\n",
              "      padding: 0 0 0 0;\n",
              "      width: 32px;\n",
              "    }\n",
              "\n",
              "    .colab-df-convert:hover {\n",
              "      background-color: #E2EBFA;\n",
              "      box-shadow: 0px 1px 2px rgba(60, 64, 67, 0.3), 0px 1px 3px 1px rgba(60, 64, 67, 0.15);\n",
              "      fill: #174EA6;\n",
              "    }\n",
              "\n",
              "    [theme=dark] .colab-df-convert {\n",
              "      background-color: #3B4455;\n",
              "      fill: #D2E3FC;\n",
              "    }\n",
              "\n",
              "    [theme=dark] .colab-df-convert:hover {\n",
              "      background-color: #434B5C;\n",
              "      box-shadow: 0px 1px 3px 1px rgba(0, 0, 0, 0.15);\n",
              "      filter: drop-shadow(0px 1px 2px rgba(0, 0, 0, 0.3));\n",
              "      fill: #FFFFFF;\n",
              "    }\n",
              "  </style>\n",
              "\n",
              "      <script>\n",
              "        const buttonEl =\n",
              "          document.querySelector('#df-aa812d6e-23a1-468c-aaa1-6eabaa83944c button.colab-df-convert');\n",
              "        buttonEl.style.display =\n",
              "          google.colab.kernel.accessAllowed ? 'block' : 'none';\n",
              "\n",
              "        async function convertToInteractive(key) {\n",
              "          const element = document.querySelector('#df-aa812d6e-23a1-468c-aaa1-6eabaa83944c');\n",
              "          const dataTable =\n",
              "            await google.colab.kernel.invokeFunction('convertToInteractive',\n",
              "                                                     [key], {});\n",
              "          if (!dataTable) return;\n",
              "\n",
              "          const docLinkHtml = 'Like what you see? Visit the ' +\n",
              "            '<a target=\"_blank\" href=https://colab.research.google.com/notebooks/data_table.ipynb>data table notebook</a>'\n",
              "            + ' to learn more about interactive tables.';\n",
              "          element.innerHTML = '';\n",
              "          dataTable['output_type'] = 'display_data';\n",
              "          await google.colab.output.renderOutput(dataTable, element);\n",
              "          const docLink = document.createElement('div');\n",
              "          docLink.innerHTML = docLinkHtml;\n",
              "          element.appendChild(docLink);\n",
              "        }\n",
              "      </script>\n",
              "    </div>\n",
              "  </div>\n",
              "  "
            ]
          },
          "metadata": {},
          "execution_count": 4
        }
      ],
      "source": [
        "df.describe()  # to get the distribution of features. min and max values give the range of values in each feature\n",
        "                # also an idea of whether a scaling is needed "
      ]
    },
    {
      "cell_type": "code",
      "execution_count": null,
      "metadata": {
        "id": "4Xf0Ls-K14-5",
        "colab": {
          "base_uri": "https://localhost:8080/",
          "height": 427
        },
        "outputId": "c7690695-a215-49ad-ed3c-bfa0d401b46e"
      },
      "outputs": [
        {
          "output_type": "execute_result",
          "data": {
            "text/plain": [
              "   ID  Comp  Circ  D.Circ  Rad.Ra  Pr.Axis.Ra  Max.L.Ra  Scat.Ra  Elong  \\\n",
              "0   1    88    39      70     166          66         7      148     44   \n",
              "1   2    85    35      64     129          57         6      116     57   \n",
              "2   3    91    41      84     141          57         9      149     45   \n",
              "3   4   102    54      98     177          56        10      219     31   \n",
              "4   5    87    39      74     152          58         6      151     44   \n",
              "5   6    95    46      76     162          66        11      162     42   \n",
              "6   7    97    35      66     151          64         8      128     52   \n",
              "7   8    96    37      74     199          74         5      165     39   \n",
              "8   9   107    55      98     199          59         7      240     27   \n",
              "9  10    86    38      89     176          59         9      169     39   \n",
              "\n",
              "   Pr.Axis.Rect  Max.L.Rect  Sc.Var.Maxis  Sc.Var.maxis  Ra.Gyr  Skew.Maxis  \\\n",
              "0            19         134           167           332     143          69   \n",
              "1            17         125           138           200     123          65   \n",
              "2            19         143           170           330     158          72   \n",
              "3            25         171           219           706     223          72   \n",
              "4            19         136           174           337     140          70   \n",
              "5            20         155           175           381     172          74   \n",
              "6            18         129           148           246     112          66   \n",
              "7            20         128           188           419     136          72   \n",
              "8            26         168           258           866     245          80   \n",
              "9            20         132           190           428     148          67   \n",
              "\n",
              "   Skew.maxis  Kurt.maxis  Kurt.Maxis  Holl.Ra  Class  \n",
              "0           5          13         193      201      0  \n",
              "1           1          23         196      203      3  \n",
              "2           9          14         189      199      3  \n",
              "3           5          17         186      196      1  \n",
              "4           1          33         187      196      2  \n",
              "5           8           4         184      193      3  \n",
              "6           6           2         195      200      3  \n",
              "7           1           3         196      200      0  \n",
              "8           3           1         186      184      0  \n",
              "9           7          33         193      202      1  "
            ],
            "text/html": [
              "\n",
              "  <div id=\"df-784d7815-bdb3-4ce5-a76e-e58100be0240\">\n",
              "    <div class=\"colab-df-container\">\n",
              "      <div>\n",
              "<style scoped>\n",
              "    .dataframe tbody tr th:only-of-type {\n",
              "        vertical-align: middle;\n",
              "    }\n",
              "\n",
              "    .dataframe tbody tr th {\n",
              "        vertical-align: top;\n",
              "    }\n",
              "\n",
              "    .dataframe thead th {\n",
              "        text-align: right;\n",
              "    }\n",
              "</style>\n",
              "<table border=\"1\" class=\"dataframe\">\n",
              "  <thead>\n",
              "    <tr style=\"text-align: right;\">\n",
              "      <th></th>\n",
              "      <th>ID</th>\n",
              "      <th>Comp</th>\n",
              "      <th>Circ</th>\n",
              "      <th>D.Circ</th>\n",
              "      <th>Rad.Ra</th>\n",
              "      <th>Pr.Axis.Ra</th>\n",
              "      <th>Max.L.Ra</th>\n",
              "      <th>Scat.Ra</th>\n",
              "      <th>Elong</th>\n",
              "      <th>Pr.Axis.Rect</th>\n",
              "      <th>Max.L.Rect</th>\n",
              "      <th>Sc.Var.Maxis</th>\n",
              "      <th>Sc.Var.maxis</th>\n",
              "      <th>Ra.Gyr</th>\n",
              "      <th>Skew.Maxis</th>\n",
              "      <th>Skew.maxis</th>\n",
              "      <th>Kurt.maxis</th>\n",
              "      <th>Kurt.Maxis</th>\n",
              "      <th>Holl.Ra</th>\n",
              "      <th>Class</th>\n",
              "    </tr>\n",
              "  </thead>\n",
              "  <tbody>\n",
              "    <tr>\n",
              "      <th>0</th>\n",
              "      <td>1</td>\n",
              "      <td>88</td>\n",
              "      <td>39</td>\n",
              "      <td>70</td>\n",
              "      <td>166</td>\n",
              "      <td>66</td>\n",
              "      <td>7</td>\n",
              "      <td>148</td>\n",
              "      <td>44</td>\n",
              "      <td>19</td>\n",
              "      <td>134</td>\n",
              "      <td>167</td>\n",
              "      <td>332</td>\n",
              "      <td>143</td>\n",
              "      <td>69</td>\n",
              "      <td>5</td>\n",
              "      <td>13</td>\n",
              "      <td>193</td>\n",
              "      <td>201</td>\n",
              "      <td>0</td>\n",
              "    </tr>\n",
              "    <tr>\n",
              "      <th>1</th>\n",
              "      <td>2</td>\n",
              "      <td>85</td>\n",
              "      <td>35</td>\n",
              "      <td>64</td>\n",
              "      <td>129</td>\n",
              "      <td>57</td>\n",
              "      <td>6</td>\n",
              "      <td>116</td>\n",
              "      <td>57</td>\n",
              "      <td>17</td>\n",
              "      <td>125</td>\n",
              "      <td>138</td>\n",
              "      <td>200</td>\n",
              "      <td>123</td>\n",
              "      <td>65</td>\n",
              "      <td>1</td>\n",
              "      <td>23</td>\n",
              "      <td>196</td>\n",
              "      <td>203</td>\n",
              "      <td>3</td>\n",
              "    </tr>\n",
              "    <tr>\n",
              "      <th>2</th>\n",
              "      <td>3</td>\n",
              "      <td>91</td>\n",
              "      <td>41</td>\n",
              "      <td>84</td>\n",
              "      <td>141</td>\n",
              "      <td>57</td>\n",
              "      <td>9</td>\n",
              "      <td>149</td>\n",
              "      <td>45</td>\n",
              "      <td>19</td>\n",
              "      <td>143</td>\n",
              "      <td>170</td>\n",
              "      <td>330</td>\n",
              "      <td>158</td>\n",
              "      <td>72</td>\n",
              "      <td>9</td>\n",
              "      <td>14</td>\n",
              "      <td>189</td>\n",
              "      <td>199</td>\n",
              "      <td>3</td>\n",
              "    </tr>\n",
              "    <tr>\n",
              "      <th>3</th>\n",
              "      <td>4</td>\n",
              "      <td>102</td>\n",
              "      <td>54</td>\n",
              "      <td>98</td>\n",
              "      <td>177</td>\n",
              "      <td>56</td>\n",
              "      <td>10</td>\n",
              "      <td>219</td>\n",
              "      <td>31</td>\n",
              "      <td>25</td>\n",
              "      <td>171</td>\n",
              "      <td>219</td>\n",
              "      <td>706</td>\n",
              "      <td>223</td>\n",
              "      <td>72</td>\n",
              "      <td>5</td>\n",
              "      <td>17</td>\n",
              "      <td>186</td>\n",
              "      <td>196</td>\n",
              "      <td>1</td>\n",
              "    </tr>\n",
              "    <tr>\n",
              "      <th>4</th>\n",
              "      <td>5</td>\n",
              "      <td>87</td>\n",
              "      <td>39</td>\n",
              "      <td>74</td>\n",
              "      <td>152</td>\n",
              "      <td>58</td>\n",
              "      <td>6</td>\n",
              "      <td>151</td>\n",
              "      <td>44</td>\n",
              "      <td>19</td>\n",
              "      <td>136</td>\n",
              "      <td>174</td>\n",
              "      <td>337</td>\n",
              "      <td>140</td>\n",
              "      <td>70</td>\n",
              "      <td>1</td>\n",
              "      <td>33</td>\n",
              "      <td>187</td>\n",
              "      <td>196</td>\n",
              "      <td>2</td>\n",
              "    </tr>\n",
              "    <tr>\n",
              "      <th>5</th>\n",
              "      <td>6</td>\n",
              "      <td>95</td>\n",
              "      <td>46</td>\n",
              "      <td>76</td>\n",
              "      <td>162</td>\n",
              "      <td>66</td>\n",
              "      <td>11</td>\n",
              "      <td>162</td>\n",
              "      <td>42</td>\n",
              "      <td>20</td>\n",
              "      <td>155</td>\n",
              "      <td>175</td>\n",
              "      <td>381</td>\n",
              "      <td>172</td>\n",
              "      <td>74</td>\n",
              "      <td>8</td>\n",
              "      <td>4</td>\n",
              "      <td>184</td>\n",
              "      <td>193</td>\n",
              "      <td>3</td>\n",
              "    </tr>\n",
              "    <tr>\n",
              "      <th>6</th>\n",
              "      <td>7</td>\n",
              "      <td>97</td>\n",
              "      <td>35</td>\n",
              "      <td>66</td>\n",
              "      <td>151</td>\n",
              "      <td>64</td>\n",
              "      <td>8</td>\n",
              "      <td>128</td>\n",
              "      <td>52</td>\n",
              "      <td>18</td>\n",
              "      <td>129</td>\n",
              "      <td>148</td>\n",
              "      <td>246</td>\n",
              "      <td>112</td>\n",
              "      <td>66</td>\n",
              "      <td>6</td>\n",
              "      <td>2</td>\n",
              "      <td>195</td>\n",
              "      <td>200</td>\n",
              "      <td>3</td>\n",
              "    </tr>\n",
              "    <tr>\n",
              "      <th>7</th>\n",
              "      <td>8</td>\n",
              "      <td>96</td>\n",
              "      <td>37</td>\n",
              "      <td>74</td>\n",
              "      <td>199</td>\n",
              "      <td>74</td>\n",
              "      <td>5</td>\n",
              "      <td>165</td>\n",
              "      <td>39</td>\n",
              "      <td>20</td>\n",
              "      <td>128</td>\n",
              "      <td>188</td>\n",
              "      <td>419</td>\n",
              "      <td>136</td>\n",
              "      <td>72</td>\n",
              "      <td>1</td>\n",
              "      <td>3</td>\n",
              "      <td>196</td>\n",
              "      <td>200</td>\n",
              "      <td>0</td>\n",
              "    </tr>\n",
              "    <tr>\n",
              "      <th>8</th>\n",
              "      <td>9</td>\n",
              "      <td>107</td>\n",
              "      <td>55</td>\n",
              "      <td>98</td>\n",
              "      <td>199</td>\n",
              "      <td>59</td>\n",
              "      <td>7</td>\n",
              "      <td>240</td>\n",
              "      <td>27</td>\n",
              "      <td>26</td>\n",
              "      <td>168</td>\n",
              "      <td>258</td>\n",
              "      <td>866</td>\n",
              "      <td>245</td>\n",
              "      <td>80</td>\n",
              "      <td>3</td>\n",
              "      <td>1</td>\n",
              "      <td>186</td>\n",
              "      <td>184</td>\n",
              "      <td>0</td>\n",
              "    </tr>\n",
              "    <tr>\n",
              "      <th>9</th>\n",
              "      <td>10</td>\n",
              "      <td>86</td>\n",
              "      <td>38</td>\n",
              "      <td>89</td>\n",
              "      <td>176</td>\n",
              "      <td>59</td>\n",
              "      <td>9</td>\n",
              "      <td>169</td>\n",
              "      <td>39</td>\n",
              "      <td>20</td>\n",
              "      <td>132</td>\n",
              "      <td>190</td>\n",
              "      <td>428</td>\n",
              "      <td>148</td>\n",
              "      <td>67</td>\n",
              "      <td>7</td>\n",
              "      <td>33</td>\n",
              "      <td>193</td>\n",
              "      <td>202</td>\n",
              "      <td>1</td>\n",
              "    </tr>\n",
              "  </tbody>\n",
              "</table>\n",
              "</div>\n",
              "      <button class=\"colab-df-convert\" onclick=\"convertToInteractive('df-784d7815-bdb3-4ce5-a76e-e58100be0240')\"\n",
              "              title=\"Convert this dataframe to an interactive table.\"\n",
              "              style=\"display:none;\">\n",
              "        \n",
              "  <svg xmlns=\"http://www.w3.org/2000/svg\" height=\"24px\"viewBox=\"0 0 24 24\"\n",
              "       width=\"24px\">\n",
              "    <path d=\"M0 0h24v24H0V0z\" fill=\"none\"/>\n",
              "    <path d=\"M18.56 5.44l.94 2.06.94-2.06 2.06-.94-2.06-.94-.94-2.06-.94 2.06-2.06.94zm-11 1L8.5 8.5l.94-2.06 2.06-.94-2.06-.94L8.5 2.5l-.94 2.06-2.06.94zm10 10l.94 2.06.94-2.06 2.06-.94-2.06-.94-.94-2.06-.94 2.06-2.06.94z\"/><path d=\"M17.41 7.96l-1.37-1.37c-.4-.4-.92-.59-1.43-.59-.52 0-1.04.2-1.43.59L10.3 9.45l-7.72 7.72c-.78.78-.78 2.05 0 2.83L4 21.41c.39.39.9.59 1.41.59.51 0 1.02-.2 1.41-.59l7.78-7.78 2.81-2.81c.8-.78.8-2.07 0-2.86zM5.41 20L4 18.59l7.72-7.72 1.47 1.35L5.41 20z\"/>\n",
              "  </svg>\n",
              "      </button>\n",
              "      \n",
              "  <style>\n",
              "    .colab-df-container {\n",
              "      display:flex;\n",
              "      flex-wrap:wrap;\n",
              "      gap: 12px;\n",
              "    }\n",
              "\n",
              "    .colab-df-convert {\n",
              "      background-color: #E8F0FE;\n",
              "      border: none;\n",
              "      border-radius: 50%;\n",
              "      cursor: pointer;\n",
              "      display: none;\n",
              "      fill: #1967D2;\n",
              "      height: 32px;\n",
              "      padding: 0 0 0 0;\n",
              "      width: 32px;\n",
              "    }\n",
              "\n",
              "    .colab-df-convert:hover {\n",
              "      background-color: #E2EBFA;\n",
              "      box-shadow: 0px 1px 2px rgba(60, 64, 67, 0.3), 0px 1px 3px 1px rgba(60, 64, 67, 0.15);\n",
              "      fill: #174EA6;\n",
              "    }\n",
              "\n",
              "    [theme=dark] .colab-df-convert {\n",
              "      background-color: #3B4455;\n",
              "      fill: #D2E3FC;\n",
              "    }\n",
              "\n",
              "    [theme=dark] .colab-df-convert:hover {\n",
              "      background-color: #434B5C;\n",
              "      box-shadow: 0px 1px 3px 1px rgba(0, 0, 0, 0.15);\n",
              "      filter: drop-shadow(0px 1px 2px rgba(0, 0, 0, 0.3));\n",
              "      fill: #FFFFFF;\n",
              "    }\n",
              "  </style>\n",
              "\n",
              "      <script>\n",
              "        const buttonEl =\n",
              "          document.querySelector('#df-784d7815-bdb3-4ce5-a76e-e58100be0240 button.colab-df-convert');\n",
              "        buttonEl.style.display =\n",
              "          google.colab.kernel.accessAllowed ? 'block' : 'none';\n",
              "\n",
              "        async function convertToInteractive(key) {\n",
              "          const element = document.querySelector('#df-784d7815-bdb3-4ce5-a76e-e58100be0240');\n",
              "          const dataTable =\n",
              "            await google.colab.kernel.invokeFunction('convertToInteractive',\n",
              "                                                     [key], {});\n",
              "          if (!dataTable) return;\n",
              "\n",
              "          const docLinkHtml = 'Like what you see? Visit the ' +\n",
              "            '<a target=\"_blank\" href=https://colab.research.google.com/notebooks/data_table.ipynb>data table notebook</a>'\n",
              "            + ' to learn more about interactive tables.';\n",
              "          element.innerHTML = '';\n",
              "          dataTable['output_type'] = 'display_data';\n",
              "          await google.colab.output.renderOutput(dataTable, element);\n",
              "          const docLink = document.createElement('div');\n",
              "          docLink.innerHTML = docLinkHtml;\n",
              "          element.appendChild(docLink);\n",
              "        }\n",
              "      </script>\n",
              "    </div>\n",
              "  </div>\n",
              "  "
            ]
          },
          "metadata": {},
          "execution_count": 5
        }
      ],
      "source": [
        "df.head(10)  # all values are integers and id value is ordered number. it doesn't contribute to the analysis, hence we can drop this column"
      ]
    },
    {
      "cell_type": "code",
      "execution_count": null,
      "metadata": {
        "id": "_GG9RmBncs5B",
        "colab": {
          "base_uri": "https://localhost:8080/"
        },
        "outputId": "70912ebc-0525-47c8-89de-565e9906f0eb"
      },
      "outputs": [
        {
          "output_type": "execute_result",
          "data": {
            "text/plain": [
              "0    189\n",
              "1    180\n",
              "3    177\n",
              "2    173\n",
              "Name: Class, dtype: int64"
            ]
          },
          "metadata": {},
          "execution_count": 6
        }
      ],
      "source": [
        "df[\"Class\"].value_counts()    # class is the target vector. there are 4 classes and values are almost balanced"
      ]
    },
    {
      "cell_type": "code",
      "execution_count": null,
      "metadata": {
        "colab": {
          "base_uri": "https://localhost:8080/",
          "height": 340
        },
        "id": "Plvx62gNETom",
        "outputId": "03d3fa07-a61f-42bf-b00a-4ccee37ffc97"
      },
      "outputs": [
        {
          "data": {
            "text/plain": [
              "<AxesSubplot:>"
            ]
          },
          "execution_count": 17,
          "metadata": {},
          "output_type": "execute_result"
        },
        {
          "data": {
            "image/png": "[encoded data removed]",
            "text/plain": [
              "<Figure size 432x288 with 2 Axes>"
            ]
          },
          "metadata": {},
          "output_type": "display_data"
        }
      ],
      "source": [
        "sns.heatmap(X.corr())   #plotting correlation of features. we can see a higher correlation \n",
        "                        #between features (circ and Max.L.Rect)also between(circ and Ra.Gyr) \n",
        "                        #there might be a need for feature reduction"
      ]
    },
    {
      "cell_type": "markdown",
      "source": [
        "Converting whole data into X and y"
      ],
      "metadata": {
        "id": "ylJyD9Ib-UwM"
      }
    },
    {
      "cell_type": "code",
      "execution_count": null,
      "metadata": {
        "id": "NeUrfc2J4sU_"
      },
      "outputs": [],
      "source": [
        "y=df[\"Class\"]           #target vector"
      ]
    },
    {
      "cell_type": "code",
      "execution_count": null,
      "metadata": {
        "id": "qwsHb5TS450p"
      },
      "outputs": [],
      "source": [
        "X=df.drop(['ID','Class'],axis=1)      #feature matrix"
      ]
    },
    {
      "cell_type": "markdown",
      "metadata": {
        "id": "7UuR-vyZGj0y"
      },
      "source": [
        "Splitting X and y into train and test data"
      ]
    },
    {
      "cell_type": "code",
      "execution_count": null,
      "metadata": {
        "id": "9ibQBxCQ6Rzx"
      },
      "outputs": [],
      "source": [
        "from sklearn.model_selection import train_test_split"
      ]
    },
    {
      "cell_type": "code",
      "execution_count": null,
      "metadata": {
        "id": "pDxPGPYv6isa"
      },
      "outputs": [],
      "source": [
        "X_train, X_test, y_train, y_test = train_test_split(X, y, test_size= 0.2, random_state=0)"
      ]
    },
    {
      "cell_type": "code",
      "execution_count": null,
      "metadata": {
        "id": "gBaZWLq_FrpT"
      },
      "outputs": [],
      "source": [
        "col_1 = X_test.columns        #feature names saved as col_1 for future use"
      ]
    },
    {
      "cell_type": "code",
      "source": [
        "X_train.reset_index(drop = True, inplace = True)"
      ],
      "metadata": {
        "id": "OquaU8jfMrZH"
      },
      "execution_count": null,
      "outputs": []
    },
    {
      "cell_type": "code",
      "source": [
        "y_train.reset_index(drop = True, inplace = True)"
      ],
      "metadata": {
        "id": "eJJuWqpfNAaN"
      },
      "execution_count": null,
      "outputs": []
    },
    {
      "cell_type": "code",
      "source": [
        "y_train[415]"
      ],
      "metadata": {
        "colab": {
          "base_uri": "https://localhost:8080/"
        },
        "id": "YepkatawM7IM",
        "outputId": "74cc3138-e363-49d4-e3c8-b9df91a385d6"
      },
      "execution_count": null,
      "outputs": [
        {
          "output_type": "execute_result",
          "data": {
            "text/plain": [
              "3"
            ]
          },
          "metadata": {},
          "execution_count": 69
        }
      ]
    },
    {
      "cell_type": "code",
      "execution_count": null,
      "metadata": {
        "colab": {
          "base_uri": "https://localhost:8080/",
          "height": 282
        },
        "id": "m5bG8mIR7hQR",
        "outputId": "8f3b6ebd-199c-4ae2-c525-3594bc2e735d"
      },
      "outputs": [
        {
          "output_type": "execute_result",
          "data": {
            "text/plain": [
              "<AxesSubplot:>"
            ]
          },
          "metadata": {},
          "execution_count": 13
        },
        {
          "output_type": "display_data",
          "data": {
            "text/plain": [
              "<Figure size 432x288 with 1 Axes>"
            ],
            "image/png": "[encoded data removed]"
          },
          "metadata": {
            "needs_background": "light"
          }
        }
      ],
      "source": [
        "#To compare the distribution of various features and compare them using boxplot\n",
        "sns.boxplot(data=X_train)\n",
        "\n",
        "#boxplot result shows a need of scaling the data"
      ]
    },
    {
      "cell_type": "markdown",
      "metadata": {
        "id": "S88jh8pIGzVl"
      },
      "source": [
        "Applying scaling to features"
      ]
    },
    {
      "cell_type": "code",
      "execution_count": null,
      "metadata": {
        "id": "IJLU77n4B_ck"
      },
      "outputs": [],
      "source": [
        "#applying standard scaling to the features\n",
        "from sklearn.preprocessing import StandardScaler\n",
        "from sklearn.preprocessing import MinMaxScaler\n",
        "SS= StandardScaler()\n",
        "X_std=SS.fit_transform(X_train)"
      ]
    },
    {
      "cell_type": "code",
      "execution_count": null,
      "metadata": {
        "colab": {
          "base_uri": "https://localhost:8080/",
          "height": 282
        },
        "id": "F8WTCf-qHN84",
        "outputId": "729b9a17-321f-489a-e79e-a356c03a07ac"
      },
      "outputs": [
        {
          "output_type": "execute_result",
          "data": {
            "text/plain": [
              "<AxesSubplot:>"
            ]
          },
          "metadata": {},
          "execution_count": 15
        },
        {
          "output_type": "display_data",
          "data": {
            "text/plain": [
              "<Figure size 432x288 with 1 Axes>"
            ],
            "image/png": "[encoded data removed]"
          },
          "metadata": {
            "needs_background": "light"
          }
        }
      ],
      "source": [
        "sns.boxplot(data= X_std)        #boxplot after scaling"
      ]
    },
    {
      "cell_type": "code",
      "execution_count": null,
      "metadata": {
        "id": "NRiNVVF2HVcN"
      },
      "outputs": [],
      "source": [
        "#Scaling applied on test data\n",
        "X_std_test = SS.transform(X_test)"
      ]
    },
    {
      "cell_type": "code",
      "execution_count": null,
      "metadata": {
        "id": "4qaepu6UQu5l"
      },
      "outputs": [],
      "source": [
        "X_new=X_std\n",
        "X_test_new = X_std_test"
      ]
    },
    {
      "cell_type": "markdown",
      "metadata": {
        "id": "PgDlfZCEQL2n"
      },
      "source": [
        "#Training Model on scaled data with default parameters."
      ]
    },
    {
      "cell_type": "code",
      "execution_count": null,
      "metadata": {
        "id": "5uYAigBkQKWF"
      },
      "outputs": [],
      "source": [
        "from sklearn.linear_model import LogisticRegression\n",
        "from sklearn.neighbors import KNeighborsClassifier\n",
        "from sklearn.tree import DecisionTreeClassifier\n",
        "from sklearn.ensemble import RandomForestClassifier\n",
        "from sklearn.ensemble import GradientBoostingClassifier"
      ]
    },
    {
      "cell_type": "code",
      "execution_count": null,
      "metadata": {
        "id": "QuKEfi6bQY2P"
      },
      "outputs": [],
      "source": [
        "lrc=LogisticRegression()\n",
        "knn= KNeighborsClassifier()\n",
        "dt=DecisionTreeClassifier()\n",
        "rfc=RandomForestClassifier()\n",
        "gbc=GradientBoostingClassifier()"
      ]
    },
    {
      "cell_type": "code",
      "execution_count": null,
      "metadata": {
        "colab": {
          "base_uri": "https://localhost:8080/",
          "height": 74
        },
        "id": "gQ2tnJ0rQi1r",
        "outputId": "428564dd-917d-4be4-809f-3839e8f0c0b1"
      },
      "outputs": [
        {
          "output_type": "execute_result",
          "data": {
            "text/plain": [
              "GradientBoostingClassifier()"
            ],
            "text/html": [
              "<style>#sk-container-id-1 {color: black;background-color: white;}#sk-container-id-1 pre{padding: 0;}#sk-container-id-1 div.sk-toggleable {background-color: white;}#sk-container-id-1 label.sk-toggleable__label {cursor: pointer;display: block;width: 100%;margin-bottom: 0;padding: 0.3em;box-sizing: border-box;text-align: center;}#sk-container-id-1 label.sk-toggleable__label-arrow:before {content: \"▸\";float: left;margin-right: 0.25em;color: #696969;}#sk-container-id-1 label.sk-toggleable__label-arrow:hover:before {color: black;}#sk-container-id-1 div.sk-estimator:hover label.sk-toggleable__label-arrow:before {color: black;}#sk-container-id-1 div.sk-toggleable__content {max-height: 0;max-width: 0;overflow: hidden;text-align: left;background-color: #f0f8ff;}#sk-container-id-1 div.sk-toggleable__content pre {margin: 0.2em;color: black;border-radius: 0.25em;background-color: #f0f8ff;}#sk-container-id-1 input.sk-toggleable__control:checked~div.sk-toggleable__content {max-height: 200px;max-width: 100%;overflow: auto;}#sk-container-id-1 input.sk-toggleable__control:checked~label.sk-toggleable__label-arrow:before {content: \"▾\";}#sk-container-id-1 div.sk-estimator input.sk-toggleable__control:checked~label.sk-toggleable__label {background-color: #d4ebff;}#sk-container-id-1 div.sk-label input.sk-toggleable__control:checked~label.sk-toggleable__label {background-color: #d4ebff;}#sk-container-id-1 input.sk-hidden--visually {border: 0;clip: rect(1px 1px 1px 1px);clip: rect(1px, 1px, 1px, 1px);height: 1px;margin: -1px;overflow: hidden;padding: 0;position: absolute;width: 1px;}#sk-container-id-1 div.sk-estimator {font-family: monospace;background-color: #f0f8ff;border: 1px dotted black;border-radius: 0.25em;box-sizing: border-box;margin-bottom: 0.5em;}#sk-container-id-1 div.sk-estimator:hover {background-color: #d4ebff;}#sk-container-id-1 div.sk-parallel-item::after {content: \"\";width: 100%;border-bottom: 1px solid gray;flex-grow: 1;}#sk-container-id-1 div.sk-label:hover label.sk-toggleable__label {background-color: #d4ebff;}#sk-container-id-1 div.sk-serial::before {content: \"\";position: absolute;border-left: 1px solid gray;box-sizing: border-box;top: 0;bottom: 0;left: 50%;z-index: 0;}#sk-container-id-1 div.sk-serial {display: flex;flex-direction: column;align-items: center;background-color: white;padding-right: 0.2em;padding-left: 0.2em;position: relative;}#sk-container-id-1 div.sk-item {position: relative;z-index: 1;}#sk-container-id-1 div.sk-parallel {display: flex;align-items: stretch;justify-content: center;background-color: white;position: relative;}#sk-container-id-1 div.sk-item::before, #sk-container-id-1 div.sk-parallel-item::before {content: \"\";position: absolute;border-left: 1px solid gray;box-sizing: border-box;top: 0;bottom: 0;left: 50%;z-index: -1;}#sk-container-id-1 div.sk-parallel-item {display: flex;flex-direction: column;z-index: 1;position: relative;background-color: white;}#sk-container-id-1 div.sk-parallel-item:first-child::after {align-self: flex-end;width: 50%;}#sk-container-id-1 div.sk-parallel-item:last-child::after {align-self: flex-start;width: 50%;}#sk-container-id-1 div.sk-parallel-item:only-child::after {width: 0;}#sk-container-id-1 div.sk-dashed-wrapped {border: 1px dashed gray;margin: 0 0.4em 0.5em 0.4em;box-sizing: border-box;padding-bottom: 0.4em;background-color: white;}#sk-container-id-1 div.sk-label label {font-family: monospace;font-weight: bold;display: inline-block;line-height: 1.2em;}#sk-container-id-1 div.sk-label-container {text-align: center;}#sk-container-id-1 div.sk-container {/* jupyter's `normalize.less` sets `[hidden] { display: none; }` but bootstrap.min.css set `[hidden] { display: none !important; }` so we also need the `!important` here to be able to override the default hidden behavior on the sphinx rendered scikit-learn.org. See: https://github.com/scikit-learn/scikit-learn/issues/21755 */display: inline-block !important;position: relative;}#sk-container-id-1 div.sk-text-repr-fallback {display: none;}</style><div id=\"sk-container-id-1\" class=\"sk-top-container\"><div class=\"sk-text-repr-fallback\"><pre>GradientBoostingClassifier()</pre><b>In a Jupyter environment, please rerun this cell to show the HTML representation or trust the notebook. <br />On GitHub, the HTML representation is unable to render, please try loading this page with nbviewer.org.</b></div><div class=\"sk-container\" hidden><div class=\"sk-item\"><div class=\"sk-estimator sk-toggleable\"><input class=\"sk-toggleable__control sk-hidden--visually\" id=\"sk-estimator-id-1\" type=\"checkbox\" checked><label for=\"sk-estimator-id-1\" class=\"sk-toggleable__label sk-toggleable__label-arrow\">GradientBoostingClassifier</label><div class=\"sk-toggleable__content\"><pre>GradientBoostingClassifier()</pre></div></div></div></div></div>"
            ]
          },
          "metadata": {},
          "execution_count": 20
        }
      ],
      "source": [
        "lrc.fit(X_new,y_train)\n",
        "knn.fit(X_new,y_train)\n",
        "dt.fit(X_new,y_train)\n",
        "rfc.fit(X_new,y_train)\n",
        "gbc.fit(X_new,y_train)"
      ]
    },
    {
      "cell_type": "code",
      "execution_count": null,
      "metadata": {
        "id": "StN-YU_qQ7kM"
      },
      "outputs": [],
      "source": [
        "lrc_train_score=lrc.score(X_new,y_train)\n",
        "knn_train_score=knn.score(X_new,y_train)\n",
        "dt_train_score=dt.score(X_new,y_train)\n",
        "rfc_train_score=rfc.score(X_new,y_train)\n",
        "gbc_train_score=gbc.score(X_new,y_train)"
      ]
    },
    {
      "cell_type": "code",
      "execution_count": null,
      "metadata": {
        "id": "XcETXxoZRCpd"
      },
      "outputs": [],
      "source": [
        "lrc_test_score=lrc.score(X_test_new,y_test)\n",
        "knn_test_score=knn.score(X_test_new,y_test)\n",
        "dt_test_score=dt.score(X_test_new,y_test)\n",
        "rfc_test_score=rfc.score(X_test_new,y_test)\n",
        "gbc_test_score=gbc.score(X_test_new,y_test)"
      ]
    },
    {
      "cell_type": "code",
      "execution_count": null,
      "metadata": {
        "colab": {
          "base_uri": "https://localhost:8080/"
        },
        "id": "Zr-mpS6lRDGH",
        "outputId": "669dccdd-06c9-4ec5-c6c0-580821be9843"
      },
      "outputs": [
        {
          "output_type": "stream",
          "name": "stdout",
          "text": [
            "lrc:  0.8139130434782609 0.7986111111111112\n",
            "knn:  0.8226086956521739 0.7361111111111112\n",
            "dt:  1.0 0.7708333333333334\n",
            "rfc:  1.0 0.7847222222222222\n",
            "gbc:  0.9947826086956522 0.7986111111111112\n"
          ]
        }
      ],
      "source": [
        "print(\"lrc: \",lrc_train_score,lrc_test_score)\n",
        "print(\"knn: \",knn_train_score,knn_test_score)\n",
        "print(\"dt: \",dt_train_score,dt_test_score)\n",
        "print(\"rfc: \",rfc_train_score,rfc_test_score)\n",
        "print(\"gbc: \",gbc_train_score,gbc_test_score)"
      ]
    },
    {
      "cell_type": "code",
      "execution_count": null,
      "metadata": {
        "id": "1x5I-EOrMv3T"
      },
      "outputs": [],
      "source": [
        "y_pred_lrc=lrc.predict(X_test_new)\n",
        "y_pred_knn=knn.predict(X_test_new)\n",
        "y_pred_dt=dt.predict(X_test_new)\n",
        "y_pred_rfc=rfc.predict(X_test_new)\n",
        "y_pred_gbc=gbc.predict(X_test_new)"
      ]
    },
    {
      "cell_type": "code",
      "source": [
        "from sklearn.metrics import mean_absolute_error, mean_squared_error, f1_score"
      ],
      "metadata": {
        "id": "0hAKkfnZNAzl"
      },
      "execution_count": null,
      "outputs": []
    },
    {
      "cell_type": "code",
      "source": [
        "#logistic regression\n",
        "print(\"MSE:\",mean_squared_error(y_test,y_pred_lrc))\n",
        "print(\"f1_score:\",f1_score(y_test,y_pred_lrc, average= 'micro'))"
      ],
      "metadata": {
        "colab": {
          "base_uri": "https://localhost:8080/"
        },
        "id": "Qqm9hkQbN85w",
        "outputId": "6db197ef-4e61-468d-f15d-4bebf1852011"
      },
      "execution_count": null,
      "outputs": [
        {
          "output_type": "stream",
          "name": "stdout",
          "text": [
            "MSE: 0.4097222222222222\n",
            "f1_score: 0.7986111111111112\n"
          ]
        }
      ]
    },
    {
      "cell_type": "code",
      "source": [
        "#knn\n",
        "print(\"MSE:\",mean_squared_error(y_test,y_pred_knn))\n",
        "print(\"f1_score:\",f1_score(y_test,y_pred_knn, average= 'micro'))"
      ],
      "metadata": {
        "colab": {
          "base_uri": "https://localhost:8080/"
        },
        "id": "tzMtFSAANULN",
        "outputId": "60615888-7854-4517-a57d-bf33e075909b"
      },
      "execution_count": null,
      "outputs": [
        {
          "output_type": "stream",
          "name": "stdout",
          "text": [
            "MSE: 0.7152777777777778\n",
            "f1_score: 0.7361111111111113\n"
          ]
        }
      ]
    },
    {
      "cell_type": "code",
      "source": [
        "#decision tree\n",
        "print(\"MSE:\",mean_squared_error(y_test,y_pred_dt))\n",
        "print(\"f1_score:\",f1_score(y_test,y_pred_dt, average= 'micro'))"
      ],
      "metadata": {
        "colab": {
          "base_uri": "https://localhost:8080/"
        },
        "id": "Q7PVQoyrNpdg",
        "outputId": "c9e1437e-4478-4781-8864-ceaad01d4246"
      },
      "execution_count": null,
      "outputs": [
        {
          "output_type": "stream",
          "name": "stdout",
          "text": [
            "MSE: 0.5347222222222222\n",
            "f1_score: 0.7569444444444444\n"
          ]
        }
      ]
    },
    {
      "cell_type": "code",
      "source": [
        "#Random forest\n",
        "print(\"MSE:\",mean_squared_error(y_test,y_pred_rfc))\n",
        "print(\"f1_score:\",f1_score(y_test,y_pred_rfc, average= 'micro'))"
      ],
      "metadata": {
        "colab": {
          "base_uri": "https://localhost:8080/"
        },
        "id": "hKZ6vvGFOThu",
        "outputId": "33c139a8-8fd1-435f-a208-6a5c3260381a"
      },
      "execution_count": null,
      "outputs": [
        {
          "output_type": "stream",
          "name": "stdout",
          "text": [
            "MSE: 0.5555555555555556\n",
            "f1_score: 0.7708333333333333\n"
          ]
        }
      ]
    },
    {
      "cell_type": "code",
      "source": [
        "#Gradient Boosting\n",
        "print(\"MSE:\",mean_squared_error(y_test,y_pred_gbc))\n",
        "print(\"f1_score:\",f1_score(y_test,y_pred_knn, average= 'micro'))"
      ],
      "metadata": {
        "colab": {
          "base_uri": "https://localhost:8080/"
        },
        "id": "U35L602ROb7I",
        "outputId": "f2c14612-48a9-4ca1-a8d1-8f14e19dff3d"
      },
      "execution_count": null,
      "outputs": [
        {
          "output_type": "stream",
          "name": "stdout",
          "text": [
            "MSE: 0.3472222222222222\n",
            "f1_score: 0.7361111111111113\n"
          ]
        }
      ]
    },
    {
      "cell_type": "markdown",
      "source": [
        "With default values of parameter we can see that there is a good result also the best result is for **logistic regression** since it has the least Squared error**:0.40** and best f1_score: **0.798**."
      ],
      "metadata": {
        "id": "_fyMGwPq_VdT"
      }
    },
    {
      "cell_type": "markdown",
      "source": [
        "#Confusion Matrix\n",
        "plotting confusion matrix for various models"
      ],
      "metadata": {
        "id": "7y3Sy1KKRQNb"
      }
    },
    {
      "cell_type": "code",
      "source": [
        "from sklearn.metrics import confusion_matrix"
      ],
      "metadata": {
        "id": "sy7BaWm-SDVt"
      },
      "execution_count": null,
      "outputs": []
    },
    {
      "cell_type": "code",
      "source": [
        "cm_lrc=confusion_matrix(y_test,y_pred_lrc)\n",
        "cm_knn=confusion_matrix(y_test,y_pred_knn)\n",
        "cm_dt=confusion_matrix(y_test,y_pred_dt)\n",
        "cm_rfc=confusion_matrix(y_test,y_pred_rfc)\n",
        "cm_gbc=confusion_matrix(y_test,y_pred_gbc)"
      ],
      "metadata": {
        "id": "EhxOs0OrTKAQ"
      },
      "execution_count": null,
      "outputs": []
    },
    {
      "cell_type": "code",
      "source": [
        "sns.heatmap(cm_lrc)"
      ],
      "metadata": {
        "colab": {
          "base_uri": "https://localhost:8080/",
          "height": 282
        },
        "id": "ZWLf6loQVX9B",
        "outputId": "e65a8308-1b41-40ee-8193-776def808e87"
      },
      "execution_count": null,
      "outputs": [
        {
          "output_type": "execute_result",
          "data": {
            "text/plain": [
              "<AxesSubplot:>"
            ]
          },
          "metadata": {},
          "execution_count": 66
        },
        {
          "output_type": "display_data",
          "data": {
            "text/plain": [
              "<Figure size 432x288 with 2 Axes>"
            ],
            "image/png": "[encoded data removed]"
          },
          "metadata": {
            "needs_background": "light"
          }
        }
      ]
    },
    {
      "cell_type": "code",
      "source": [
        "sns.heatmap(cm_knn)"
      ],
      "metadata": {
        "colab": {
          "base_uri": "https://localhost:8080/",
          "height": 282
        },
        "id": "Uw6KKsa1VnO5",
        "outputId": "ac9b5220-b026-4eaa-983d-26a471d4a55c"
      },
      "execution_count": null,
      "outputs": [
        {
          "output_type": "execute_result",
          "data": {
            "text/plain": [
              "<AxesSubplot:>"
            ]
          },
          "metadata": {},
          "execution_count": 67
        },
        {
          "output_type": "display_data",
          "data": {
            "text/plain": [
              "<Figure size 432x288 with 2 Axes>"
            ],
            "image/png": "[encoded data removed]"
          },
          "metadata": {
            "needs_background": "light"
          }
        }
      ]
    },
    {
      "cell_type": "code",
      "source": [
        "sns.heatmap(cm_dt)"
      ],
      "metadata": {
        "colab": {
          "base_uri": "https://localhost:8080/",
          "height": 282
        },
        "id": "P_Q4HobqVsZF",
        "outputId": "ffe3ff0f-ee5c-4fef-821c-b7774bb9cd85"
      },
      "execution_count": null,
      "outputs": [
        {
          "output_type": "execute_result",
          "data": {
            "text/plain": [
              "<AxesSubplot:>"
            ]
          },
          "metadata": {},
          "execution_count": 68
        },
        {
          "output_type": "display_data",
          "data": {
            "text/plain": [
              "<Figure size 432x288 with 2 Axes>"
            ],
            "image/png": "[encoded data removed]"
          },
          "metadata": {
            "needs_background": "light"
          }
        }
      ]
    },
    {
      "cell_type": "code",
      "source": [
        "sns.heatmap(cm_rfc)"
      ],
      "metadata": {
        "colab": {
          "base_uri": "https://localhost:8080/",
          "height": 282
        },
        "id": "U2CWzGLoVyA2",
        "outputId": "48b7a1f8-1312-4a11-a799-bc0dc6c98744"
      },
      "execution_count": null,
      "outputs": [
        {
          "output_type": "execute_result",
          "data": {
            "text/plain": [
              "<AxesSubplot:>"
            ]
          },
          "metadata": {},
          "execution_count": 69
        },
        {
          "output_type": "display_data",
          "data": {
            "text/plain": [
              "<Figure size 432x288 with 2 Axes>"
            ],
            "image/png": "[encoded data removed]"
          },
          "metadata": {
            "needs_background": "light"
          }
        }
      ]
    },
    {
      "cell_type": "code",
      "source": [
        "sns.heatmap(cm_gbc)"
      ],
      "metadata": {
        "colab": {
          "base_uri": "https://localhost:8080/",
          "height": 282
        },
        "id": "rrjI9G8xVz9F",
        "outputId": "3d4c13da-9987-4a9d-d13e-b65c5f9a18d3"
      },
      "execution_count": null,
      "outputs": [
        {
          "output_type": "execute_result",
          "data": {
            "text/plain": [
              "<AxesSubplot:>"
            ]
          },
          "metadata": {},
          "execution_count": 70
        },
        {
          "output_type": "display_data",
          "data": {
            "text/plain": [
              "<Figure size 432x288 with 2 Axes>"
            ],
            "image/png": "[encoded data removed]"
          },
          "metadata": {
            "needs_background": "light"
          }
        }
      ]
    },
    {
      "cell_type": "markdown",
      "metadata": {
        "id": "GOB0rciooYgT"
      },
      "source": [
        "# Removing Outliers and applying RFE"
      ]
    },
    {
      "cell_type": "code",
      "execution_count": null,
      "metadata": {
        "id": "TSkSVhgSFOVN"
      },
      "outputs": [],
      "source": [
        "X_train_1=pd.DataFrame(X_std,columns=col_1)"
      ]
    },
    {
      "cell_type": "code",
      "execution_count": null,
      "metadata": {
        "colab": {
          "base_uri": "https://localhost:8080/"
        },
        "id": "NQqpo6ZQhh4Q",
        "outputId": "e8148d93-e6c3-47c2-c13d-7d16cec0ca77"
      },
      "outputs": [
        {
          "data": {
            "text/plain": [
              "Index(['Comp', 'Circ', 'D.Circ', 'Rad.Ra', 'Pr.Axis.Ra', 'Max.L.Ra', 'Scat.Ra',\n",
              "       'Elong', 'Pr.Axis.Rect', 'Max.L.Rect', 'Sc.Var.Maxis', 'Sc.Var.maxis',\n",
              "       'Ra.Gyr', 'Skew.Maxis', 'Skew.maxis', 'Kurt.maxis', 'Kurt.Maxis',\n",
              "       'Holl.Ra'],\n",
              "      dtype='object')"
            ]
          },
          "execution_count": 45,
          "metadata": {},
          "output_type": "execute_result"
        }
      ],
      "source": [
        "col_1"
      ]
    },
    {
      "cell_type": "code",
      "execution_count": null,
      "metadata": {
        "id": "6aPaZsGCV1ho"
      },
      "outputs": [],
      "source": [
        "X_test_1=pd.DataFrame(X_std_test,columns=col_1)"
      ]
    },
    {
      "cell_type": "code",
      "execution_count": null,
      "metadata": {
        "colab": {
          "base_uri": "https://localhost:8080/"
        },
        "id": "rt8Jak2ygJCC",
        "outputId": "0749151a-c570-4356-daa2-0fc4a4fdf13c"
      },
      "outputs": [
        {
          "output_type": "execute_result",
          "data": {
            "text/plain": [
              "(array([ 43,  74, 120, 174, 284, 344, 415, 516]),)"
            ]
          },
          "metadata": {},
          "execution_count": 16
        }
      ],
      "source": [
        "np.where(X_train_1['Max.L.Ra']>4)"
      ]
    },
    {
      "cell_type": "code",
      "execution_count": null,
      "metadata": {
        "id": "eJeWsu0ElMz5"
      },
      "outputs": [],
      "source": [
        "X_train_1.drop([43,  74, 120, 174, 284, 344, 415, 516],axis = 0, inplace = True)"
      ]
    },
    {
      "cell_type": "code",
      "execution_count": null,
      "metadata": {
        "id": "jjti-rLi-o-J"
      },
      "outputs": [],
      "source": [
        "y_train.drop([43,  74, 120, 174, 284, 344, 415, 516],axis = 0, inplace = True)"
      ]
    },
    {
      "cell_type": "code",
      "execution_count": null,
      "metadata": {
        "id": "kX1xHPsJqG7m"
      },
      "outputs": [],
      "source": [
        "X_new=X_train_1\n",
        "X_test_new = X_test_1"
      ]
    },
    {
      "cell_type": "code",
      "execution_count": null,
      "metadata": {
        "colab": {
          "base_uri": "https://localhost:8080/",
          "height": 282
        },
        "id": "hRCRTd7bF4e4",
        "outputId": "2c5fc12f-0359-489e-ed84-8626b16ccc46"
      },
      "outputs": [
        {
          "output_type": "execute_result",
          "data": {
            "text/plain": [
              "<AxesSubplot:>"
            ]
          },
          "metadata": {},
          "execution_count": 60
        },
        {
          "output_type": "display_data",
          "data": {
            "text/plain": [
              "<Figure size 432x288 with 1 Axes>"
            ],
            "image/png": "[encoded data removed]"
          },
          "metadata": {
            "needs_background": "light"
          }
        }
      ],
      "source": [
        "#boxplot after outlier removal\n",
        "sns.boxplot(data = X_train_1)"
      ]
    },
    {
      "cell_type": "code",
      "execution_count": null,
      "metadata": {
        "id": "djfPjs67odrh"
      },
      "outputs": [],
      "source": [
        "from sklearn.linear_model import LogisticRegression\n",
        "from sklearn.neighbors import KNeighborsClassifier\n",
        "from sklearn.tree import DecisionTreeClassifier\n",
        "from sklearn.ensemble import RandomForestClassifier\n",
        "from sklearn.ensemble import GradientBoostingClassifier"
      ]
    },
    {
      "cell_type": "code",
      "execution_count": null,
      "metadata": {
        "id": "inc3ykrTqfZ2"
      },
      "outputs": [],
      "source": [
        "lrc=LogisticRegression()\n",
        "knn= KNeighborsClassifier()\n",
        "dt=DecisionTreeClassifier()\n",
        "rfc=RandomForestClassifier()\n",
        "gbc=GradientBoostingClassifier()"
      ]
    },
    {
      "cell_type": "code",
      "execution_count": null,
      "metadata": {
        "colab": {
          "base_uri": "https://localhost:8080/",
          "height": 74
        },
        "id": "84dB3d9wql1n",
        "outputId": "bf41dea6-8a9c-404c-df53-c8b73868b878"
      },
      "outputs": [
        {
          "output_type": "execute_result",
          "data": {
            "text/plain": [
              "GradientBoostingClassifier()"
            ],
            "text/html": [
              "<style>#sk-container-id-2 {color: black;background-color: white;}#sk-container-id-2 pre{padding: 0;}#sk-container-id-2 div.sk-toggleable {background-color: white;}#sk-container-id-2 label.sk-toggleable__label {cursor: pointer;display: block;width: 100%;margin-bottom: 0;padding: 0.3em;box-sizing: border-box;text-align: center;}#sk-container-id-2 label.sk-toggleable__label-arrow:before {content: \"▸\";float: left;margin-right: 0.25em;color: #696969;}#sk-container-id-2 label.sk-toggleable__label-arrow:hover:before {color: black;}#sk-container-id-2 div.sk-estimator:hover label.sk-toggleable__label-arrow:before {color: black;}#sk-container-id-2 div.sk-toggleable__content {max-height: 0;max-width: 0;overflow: hidden;text-align: left;background-color: #f0f8ff;}#sk-container-id-2 div.sk-toggleable__content pre {margin: 0.2em;color: black;border-radius: 0.25em;background-color: #f0f8ff;}#sk-container-id-2 input.sk-toggleable__control:checked~div.sk-toggleable__content {max-height: 200px;max-width: 100%;overflow: auto;}#sk-container-id-2 input.sk-toggleable__control:checked~label.sk-toggleable__label-arrow:before {content: \"▾\";}#sk-container-id-2 div.sk-estimator input.sk-toggleable__control:checked~label.sk-toggleable__label {background-color: #d4ebff;}#sk-container-id-2 div.sk-label input.sk-toggleable__control:checked~label.sk-toggleable__label {background-color: #d4ebff;}#sk-container-id-2 input.sk-hidden--visually {border: 0;clip: rect(1px 1px 1px 1px);clip: rect(1px, 1px, 1px, 1px);height: 1px;margin: -1px;overflow: hidden;padding: 0;position: absolute;width: 1px;}#sk-container-id-2 div.sk-estimator {font-family: monospace;background-color: #f0f8ff;border: 1px dotted black;border-radius: 0.25em;box-sizing: border-box;margin-bottom: 0.5em;}#sk-container-id-2 div.sk-estimator:hover {background-color: #d4ebff;}#sk-container-id-2 div.sk-parallel-item::after {content: \"\";width: 100%;border-bottom: 1px solid gray;flex-grow: 1;}#sk-container-id-2 div.sk-label:hover label.sk-toggleable__label {background-color: #d4ebff;}#sk-container-id-2 div.sk-serial::before {content: \"\";position: absolute;border-left: 1px solid gray;box-sizing: border-box;top: 0;bottom: 0;left: 50%;z-index: 0;}#sk-container-id-2 div.sk-serial {display: flex;flex-direction: column;align-items: center;background-color: white;padding-right: 0.2em;padding-left: 0.2em;position: relative;}#sk-container-id-2 div.sk-item {position: relative;z-index: 1;}#sk-container-id-2 div.sk-parallel {display: flex;align-items: stretch;justify-content: center;background-color: white;position: relative;}#sk-container-id-2 div.sk-item::before, #sk-container-id-2 div.sk-parallel-item::before {content: \"\";position: absolute;border-left: 1px solid gray;box-sizing: border-box;top: 0;bottom: 0;left: 50%;z-index: -1;}#sk-container-id-2 div.sk-parallel-item {display: flex;flex-direction: column;z-index: 1;position: relative;background-color: white;}#sk-container-id-2 div.sk-parallel-item:first-child::after {align-self: flex-end;width: 50%;}#sk-container-id-2 div.sk-parallel-item:last-child::after {align-self: flex-start;width: 50%;}#sk-container-id-2 div.sk-parallel-item:only-child::after {width: 0;}#sk-container-id-2 div.sk-dashed-wrapped {border: 1px dashed gray;margin: 0 0.4em 0.5em 0.4em;box-sizing: border-box;padding-bottom: 0.4em;background-color: white;}#sk-container-id-2 div.sk-label label {font-family: monospace;font-weight: bold;display: inline-block;line-height: 1.2em;}#sk-container-id-2 div.sk-label-container {text-align: center;}#sk-container-id-2 div.sk-container {/* jupyter's `normalize.less` sets `[hidden] { display: none; }` but bootstrap.min.css set `[hidden] { display: none !important; }` so we also need the `!important` here to be able to override the default hidden behavior on the sphinx rendered scikit-learn.org. See: https://github.com/scikit-learn/scikit-learn/issues/21755 */display: inline-block !important;position: relative;}#sk-container-id-2 div.sk-text-repr-fallback {display: none;}</style><div id=\"sk-container-id-2\" class=\"sk-top-container\"><div class=\"sk-text-repr-fallback\"><pre>GradientBoostingClassifier()</pre><b>In a Jupyter environment, please rerun this cell to show the HTML representation or trust the notebook. <br />On GitHub, the HTML representation is unable to render, please try loading this page with nbviewer.org.</b></div><div class=\"sk-container\" hidden><div class=\"sk-item\"><div class=\"sk-estimator sk-toggleable\"><input class=\"sk-toggleable__control sk-hidden--visually\" id=\"sk-estimator-id-2\" type=\"checkbox\" checked><label for=\"sk-estimator-id-2\" class=\"sk-toggleable__label sk-toggleable__label-arrow\">GradientBoostingClassifier</label><div class=\"sk-toggleable__content\"><pre>GradientBoostingClassifier()</pre></div></div></div></div></div>"
            ]
          },
          "metadata": {},
          "execution_count": 82
        }
      ],
      "source": [
        "lrc.fit(X_train_1,y_train)\n",
        "knn.fit(X_train_1,y_train)\n",
        "dt.fit(X_train_1,y_train)\n",
        "rfc.fit(X_train_1,y_train)\n",
        "gbc.fit(X_train_1,y_train)"
      ]
    },
    {
      "cell_type": "code",
      "execution_count": null,
      "metadata": {
        "id": "qG_XLoCerN5T"
      },
      "outputs": [],
      "source": [
        "lrc_test_score=lrc.score(X_test_1,y_test)\n",
        "knn_test_score=knn.score(X_test_1,y_test)\n",
        "dt_test_score=dt.score(X_test_1,y_test)\n",
        "rfc_test_score=rfc.score(X_test_1,y_test)\n",
        "gbc_test_score=gbc.score(X_test_1,y_test)"
      ]
    },
    {
      "cell_type": "code",
      "source": [
        "lrc_train_score=lrc.score(X_train_1,y_train)\n",
        "knn_train_score=knn.score(X_train_1,y_train)\n",
        "dt_train_score=dt.score(X_train_1,y_train)\n",
        "rfc_train_score=rfc.score(X_train_1,y_train)\n",
        "gbc_train_score=gbc.score(X_train_1,y_train)"
      ],
      "metadata": {
        "id": "IM2zUIpnWfHb"
      },
      "execution_count": null,
      "outputs": []
    },
    {
      "cell_type": "code",
      "source": [
        "print(\"lrc: \",lrc_train_score,lrc_test_score)\n",
        "print(\"knn: \",knn_train_score,knn_test_score)\n",
        "print(\"dt: \",dt_train_score,dt_test_score)\n",
        "print(\"rfc: \",rfc_train_score,rfc_test_score)\n",
        "print(\"gbc: \",gbc_train_score,gbc_test_score)"
      ],
      "metadata": {
        "colab": {
          "base_uri": "https://localhost:8080/"
        },
        "id": "8VrzoF3kW2QB",
        "outputId": "895d2e4d-2451-42ca-ee3e-16da03ae6959"
      },
      "execution_count": null,
      "outputs": [
        {
          "output_type": "stream",
          "name": "stdout",
          "text": [
            "lrc:  0.8130511463844797 0.7916666666666666\n",
            "knn:  0.7777777777777778 0.7430555555555556\n",
            "dt:  0.9470899470899471 0.7708333333333334\n",
            "rfc:  1.0 0.7847222222222222\n",
            "gbc:  0.8941798941798942 0.7569444444444444\n"
          ]
        }
      ]
    },
    {
      "cell_type": "markdown",
      "metadata": {
        "id": "JLI2lOZ2pe76"
      },
      "source": [
        "#Training Model after outlier removal\n",
        "\n",
        "*   KNN, Decision Tree, SVC,Random Forest, Gradient Boosting\n",
        "*   Applying Cross Validation Techniques\n",
        "\n",
        "\n"
      ]
    },
    {
      "cell_type": "code",
      "execution_count": null,
      "metadata": {
        "id": "OsZ9_4LgF5w7"
      },
      "outputs": [],
      "source": [
        "from sklearn.linear_model import LogisticRegression\n",
        "from sklearn.neighbors import KNeighborsClassifier\n",
        "from sklearn.tree import DecisionTreeClassifier\n",
        "from sklearn.ensemble import RandomForestClassifier\n",
        "from sklearn.ensemble import GradientBoostingClassifier"
      ]
    },
    {
      "cell_type": "code",
      "execution_count": null,
      "metadata": {
        "id": "uDI-GRYxkhn8"
      },
      "outputs": [],
      "source": [
        "#applying some parameters to see the variation in results\n",
        "lrc=LogisticRegression(multi_class='multinomial', solver='lbfgs')\n",
        "knn= KNeighborsClassifier(n_neighbors=10, p=1)\n",
        "dt=DecisionTreeClassifier(max_depth=10)\n",
        "rfc=RandomForestClassifier(n_estimators=250, max_depth= 10, max_features='log2', random_state= 0)\n",
        "gbc=GradientBoostingClassifier(n_estimators= 250,subsample=1, learning_rate = 0.01, random_state=0)"
      ]
    },
    {
      "cell_type": "code",
      "execution_count": null,
      "metadata": {
        "colab": {
          "base_uri": "https://localhost:8080/",
          "height": 92
        },
        "id": "tkpNmuc89hAT",
        "outputId": "529be6f9-7819-4719-9701-a08a9866a761"
      },
      "outputs": [
        {
          "output_type": "execute_result",
          "data": {
            "text/plain": [
              "GradientBoostingClassifier(learning_rate=0.01, n_estimators=250, random_state=0,\n",
              "                           subsample=1)"
            ],
            "text/html": [
              "<style>#sk-container-id-4 {color: black;background-color: white;}#sk-container-id-4 pre{padding: 0;}#sk-container-id-4 div.sk-toggleable {background-color: white;}#sk-container-id-4 label.sk-toggleable__label {cursor: pointer;display: block;width: 100%;margin-bottom: 0;padding: 0.3em;box-sizing: border-box;text-align: center;}#sk-container-id-4 label.sk-toggleable__label-arrow:before {content: \"▸\";float: left;margin-right: 0.25em;color: #696969;}#sk-container-id-4 label.sk-toggleable__label-arrow:hover:before {color: black;}#sk-container-id-4 div.sk-estimator:hover label.sk-toggleable__label-arrow:before {color: black;}#sk-container-id-4 div.sk-toggleable__content {max-height: 0;max-width: 0;overflow: hidden;text-align: left;background-color: #f0f8ff;}#sk-container-id-4 div.sk-toggleable__content pre {margin: 0.2em;color: black;border-radius: 0.25em;background-color: #f0f8ff;}#sk-container-id-4 input.sk-toggleable__control:checked~div.sk-toggleable__content {max-height: 200px;max-width: 100%;overflow: auto;}#sk-container-id-4 input.sk-toggleable__control:checked~label.sk-toggleable__label-arrow:before {content: \"▾\";}#sk-container-id-4 div.sk-estimator input.sk-toggleable__control:checked~label.sk-toggleable__label {background-color: #d4ebff;}#sk-container-id-4 div.sk-label input.sk-toggleable__control:checked~label.sk-toggleable__label {background-color: #d4ebff;}#sk-container-id-4 input.sk-hidden--visually {border: 0;clip: rect(1px 1px 1px 1px);clip: rect(1px, 1px, 1px, 1px);height: 1px;margin: -1px;overflow: hidden;padding: 0;position: absolute;width: 1px;}#sk-container-id-4 div.sk-estimator {font-family: monospace;background-color: #f0f8ff;border: 1px dotted black;border-radius: 0.25em;box-sizing: border-box;margin-bottom: 0.5em;}#sk-container-id-4 div.sk-estimator:hover {background-color: #d4ebff;}#sk-container-id-4 div.sk-parallel-item::after {content: \"\";width: 100%;border-bottom: 1px solid gray;flex-grow: 1;}#sk-container-id-4 div.sk-label:hover label.sk-toggleable__label {background-color: #d4ebff;}#sk-container-id-4 div.sk-serial::before {content: \"\";position: absolute;border-left: 1px solid gray;box-sizing: border-box;top: 0;bottom: 0;left: 50%;z-index: 0;}#sk-container-id-4 div.sk-serial {display: flex;flex-direction: column;align-items: center;background-color: white;padding-right: 0.2em;padding-left: 0.2em;position: relative;}#sk-container-id-4 div.sk-item {position: relative;z-index: 1;}#sk-container-id-4 div.sk-parallel {display: flex;align-items: stretch;justify-content: center;background-color: white;position: relative;}#sk-container-id-4 div.sk-item::before, #sk-container-id-4 div.sk-parallel-item::before {content: \"\";position: absolute;border-left: 1px solid gray;box-sizing: border-box;top: 0;bottom: 0;left: 50%;z-index: -1;}#sk-container-id-4 div.sk-parallel-item {display: flex;flex-direction: column;z-index: 1;position: relative;background-color: white;}#sk-container-id-4 div.sk-parallel-item:first-child::after {align-self: flex-end;width: 50%;}#sk-container-id-4 div.sk-parallel-item:last-child::after {align-self: flex-start;width: 50%;}#sk-container-id-4 div.sk-parallel-item:only-child::after {width: 0;}#sk-container-id-4 div.sk-dashed-wrapped {border: 1px dashed gray;margin: 0 0.4em 0.5em 0.4em;box-sizing: border-box;padding-bottom: 0.4em;background-color: white;}#sk-container-id-4 div.sk-label label {font-family: monospace;font-weight: bold;display: inline-block;line-height: 1.2em;}#sk-container-id-4 div.sk-label-container {text-align: center;}#sk-container-id-4 div.sk-container {/* jupyter's `normalize.less` sets `[hidden] { display: none; }` but bootstrap.min.css set `[hidden] { display: none !important; }` so we also need the `!important` here to be able to override the default hidden behavior on the sphinx rendered scikit-learn.org. See: https://github.com/scikit-learn/scikit-learn/issues/21755 */display: inline-block !important;position: relative;}#sk-container-id-4 div.sk-text-repr-fallback {display: none;}</style><div id=\"sk-container-id-4\" class=\"sk-top-container\"><div class=\"sk-text-repr-fallback\"><pre>GradientBoostingClassifier(learning_rate=0.01, n_estimators=250, random_state=0,\n",
              "                           subsample=1)</pre><b>In a Jupyter environment, please rerun this cell to show the HTML representation or trust the notebook. <br />On GitHub, the HTML representation is unable to render, please try loading this page with nbviewer.org.</b></div><div class=\"sk-container\" hidden><div class=\"sk-item\"><div class=\"sk-estimator sk-toggleable\"><input class=\"sk-toggleable__control sk-hidden--visually\" id=\"sk-estimator-id-4\" type=\"checkbox\" checked><label for=\"sk-estimator-id-4\" class=\"sk-toggleable__label sk-toggleable__label-arrow\">GradientBoostingClassifier</label><div class=\"sk-toggleable__content\"><pre>GradientBoostingClassifier(learning_rate=0.01, n_estimators=250, random_state=0,\n",
              "                           subsample=1)</pre></div></div></div></div></div>"
            ]
          },
          "metadata": {},
          "execution_count": 100
        }
      ],
      "source": [
        "lrc.fit(X_new,y_train)\n",
        "knn.fit(X_new,y_train)\n",
        "dt.fit(X_new,y_train)\n",
        "rfc.fit(X_new,y_train)\n",
        "gbc.fit(X_new,y_train)"
      ]
    },
    {
      "cell_type": "code",
      "execution_count": null,
      "metadata": {
        "colab": {
          "base_uri": "https://localhost:8080/"
        },
        "id": "h_PKL-GBnwG2",
        "outputId": "6dd5057b-d71e-4c2b-d1c2-4d7ca2ac32fe"
      },
      "outputs": [
        {
          "output_type": "execute_result",
          "data": {
            "text/plain": [
              "array([0.07721094, 0.05348301, 0.04338383, 0.06319798, 0.05339008,\n",
              "       0.25424347, 0.01097144, 0.0185424 , 0.07531102, 0.14554169,\n",
              "       0.13984889, 0.03828558, 0.00944694, 0.01714274])"
            ]
          },
          "metadata": {},
          "execution_count": 93
        }
      ],
      "source": [
        "dt.feature_importances_"
      ]
    },
    {
      "cell_type": "code",
      "execution_count": null,
      "metadata": {
        "id": "s_aVowng98fS"
      },
      "outputs": [],
      "source": [
        "lrc_train_score=lrc.score(X_new,y_train)\n",
        "knn_train_score=knn.score(X_new,y_train)\n",
        "dt_train_score=dt.score(X_new,y_train)\n",
        "rfc_train_score=rfc.score(X_new,y_train)\n",
        "gbc_train_score=gbc.score(X_new,y_train)"
      ]
    },
    {
      "cell_type": "code",
      "execution_count": null,
      "metadata": {
        "id": "IfdWm2MZVhdV"
      },
      "outputs": [],
      "source": [
        "lrc_test_score=lrc.score(X_test_new,y_test)\n",
        "knn_test_score=knn.score(X_test_new,y_test)\n",
        "dt_test_score=dt.score(X_test_new,y_test)\n",
        "rfc_test_score=rfc.score(X_test_new,y_test)\n",
        "gbc_test_score=gbc.score(X_test_new,y_test)"
      ]
    },
    {
      "cell_type": "code",
      "execution_count": null,
      "metadata": {
        "colab": {
          "base_uri": "https://localhost:8080/"
        },
        "id": "yyYg0-dEWSKr",
        "outputId": "2ee1aafa-b08b-4112-81e0-3cbb91ebcdf9"
      },
      "outputs": [
        {
          "output_type": "stream",
          "name": "stdout",
          "text": [
            "lrc:  0.8130511463844797 0.7916666666666666\n",
            "knn:  0.7777777777777778 0.7430555555555556\n",
            "dt:  0.9470899470899471 0.7708333333333334\n",
            "rfc:  1.0 0.7847222222222222\n",
            "gbc:  0.8941798941798942 0.7569444444444444\n"
          ]
        }
      ],
      "source": [
        "print(\"lrc: \",lrc_train_score,lrc_test_score)\n",
        "print(\"knn: \",knn_train_score,knn_test_score)\n",
        "print(\"dt: \",dt_train_score,dt_test_score)\n",
        "print(\"rfc: \",rfc_train_score,rfc_test_score)\n",
        "print(\"gbc: \",gbc_train_score,gbc_test_score)"
      ]
    },
    {
      "cell_type": "markdown",
      "metadata": {
        "id": "9j7a6gOAuvuN"
      },
      "source": [
        "Scores in this process are better in training data than test data. Since outlier removal is not making a considerable difference in score. so modelling data with hyperparameter tuning is needed to see if there is an improvement in the score. Also comparison cannot be done fully dependent on scores. we may need to evaluate error as well as f1_score. "
      ]
    },
    {
      "cell_type": "markdown",
      "source": [
        "Finding MSE and f1_score for each model"
      ],
      "metadata": {
        "id": "HUzyAKLeYweb"
      }
    },
    {
      "cell_type": "code",
      "execution_count": null,
      "metadata": {
        "id": "tbOXe75EXAcB"
      },
      "outputs": [],
      "source": [
        "y_pred_lrc=lrc.predict(X_test_new)\n",
        "y_pred_knn=knn.predict(X_test_new)\n",
        "y_pred_dt=dt.predict(X_test_new)\n",
        "y_pred_rfc=rfc.predict(X_test_new)\n",
        "y_pred_gbc=gbc.predict(X_test_new)"
      ]
    },
    {
      "cell_type": "code",
      "execution_count": null,
      "metadata": {
        "id": "rO2ATEMO4Fh3"
      },
      "outputs": [],
      "source": [
        "from sklearn.metrics import mean_absolute_error, mean_squared_error, f1_score"
      ]
    },
    {
      "cell_type": "code",
      "source": [
        "#lrc error and f1_score values\n",
        "print(\"MAE:\",mean_absolute_error(y_test,y_pred_lrc))\n",
        "print(\"MSE:\",mean_squared_error(y_test,y_pred_lrc))\n",
        "print(\"f1_score:\",f1_score(y_test,y_pred_lrc, average= 'micro'))"
      ],
      "metadata": {
        "colab": {
          "base_uri": "https://localhost:8080/"
        },
        "id": "0kl2QMtQQltR",
        "outputId": "3d845ba1-c7c1-4d29-f088-34b812c52b2b"
      },
      "execution_count": null,
      "outputs": [
        {
          "output_type": "stream",
          "name": "stdout",
          "text": [
            "MAE: 0.2638888888888889\n",
            "MSE: 0.4166666666666667\n",
            "f1_score: 0.7916666666666666\n"
          ]
        }
      ]
    },
    {
      "cell_type": "code",
      "execution_count": null,
      "metadata": {
        "colab": {
          "base_uri": "https://localhost:8080/"
        },
        "id": "_xk8dkB84VNT",
        "outputId": "2bd55ce1-81ab-4570-cacd-2e75fa35dedf"
      },
      "outputs": [
        {
          "output_type": "stream",
          "name": "stdout",
          "text": [
            "MAE: 0.3611111111111111\n",
            "MSE: 0.6388888888888888\n",
            "f1_score: 0.7430555555555556\n"
          ]
        }
      ],
      "source": [
        "#KNN error and f1_score values\n",
        "print(\"MAE:\",mean_absolute_error(y_test,y_pred_knn))\n",
        "print(\"MSE:\",mean_squared_error(y_test,y_pred_knn))\n",
        "print(\"f1_score:\",f1_score(y_test,y_pred_knn, average= 'micro'))"
      ]
    },
    {
      "cell_type": "code",
      "execution_count": null,
      "metadata": {
        "colab": {
          "base_uri": "https://localhost:8080/"
        },
        "id": "ZdCbCgMtOQTr",
        "outputId": "267f0d06-8a64-454d-915c-097a14e218e9"
      },
      "outputs": [
        {
          "data": {
            "text/plain": [
              "10"
            ]
          },
          "execution_count": 202,
          "metadata": {},
          "output_type": "execute_result"
        }
      ],
      "source": [
        "dt.get_depth()"
      ]
    },
    {
      "cell_type": "code",
      "execution_count": null,
      "metadata": {
        "colab": {
          "base_uri": "https://localhost:8080/"
        },
        "id": "6gvoYHZA5Ch1",
        "outputId": "1e46be3f-f9f3-432e-aa11-b349d9415177"
      },
      "outputs": [
        {
          "output_type": "stream",
          "name": "stdout",
          "text": [
            "MAE: 0.2986111111111111\n",
            "MSE: 0.4652777777777778\n",
            "f1_score: 0.7708333333333333\n"
          ]
        }
      ],
      "source": [
        "#Decision Tree error and f1_score values\n",
        "print(\"MAE:\",mean_absolute_error(y_test,y_pred_dt))\n",
        "print(\"MSE:\",mean_squared_error(y_test,y_pred_dt))\n",
        "print(\"f1_score:\",f1_score(y_test,y_pred_dt, average= 'micro'))"
      ]
    },
    {
      "cell_type": "code",
      "execution_count": null,
      "metadata": {
        "colab": {
          "base_uri": "https://localhost:8080/"
        },
        "id": "XOAV217s5OiK",
        "outputId": "48490f5e-7a43-456f-df76-8dea88250994"
      },
      "outputs": [
        {
          "output_type": "stream",
          "name": "stdout",
          "text": [
            "MAE: 0.2916666666666667\n",
            "MSE: 0.4861111111111111\n",
            "f1_score: 0.7847222222222222\n"
          ]
        }
      ],
      "source": [
        "#Random Forest error and f1_score values\n",
        "print(\"MAE:\",mean_absolute_error(y_test,y_pred_rfc))\n",
        "print(\"MSE:\",mean_squared_error(y_test,y_pred_rfc))\n",
        "print(\"f1_score:\",f1_score(y_test,y_pred_rfc, average= 'micro'))"
      ]
    },
    {
      "cell_type": "code",
      "execution_count": null,
      "metadata": {
        "colab": {
          "base_uri": "https://localhost:8080/"
        },
        "id": "GYFkvGgj5XJu",
        "outputId": "479eb130-3b8a-469b-d926-2fa4991a1315"
      },
      "outputs": [
        {
          "output_type": "stream",
          "name": "stdout",
          "text": [
            "MAE: 0.3333333333333333\n",
            "MSE: 0.5555555555555556\n",
            "f1_score: 0.7569444444444444\n"
          ]
        }
      ],
      "source": [
        "#Gradient Boosting error and f1_score values\n",
        "print(\"MAE:\",mean_absolute_error(y_test,y_pred_gbc))\n",
        "print(\"MSE:\",mean_squared_error(y_test,y_pred_gbc))\n",
        "print(\"f1_score:\",f1_score(y_test,y_pred_gbc, average= 'micro'))"
      ]
    },
    {
      "cell_type": "markdown",
      "metadata": {
        "id": "x2eILQGALa_h"
      },
      "source": [
        "Plotting Confusion Matrix"
      ]
    },
    {
      "cell_type": "code",
      "execution_count": null,
      "metadata": {
        "id": "ooBArXRyLfIh"
      },
      "outputs": [],
      "source": [
        "from sklearn.metrics import confusion_matrix\n",
        "import matplotlib.pyplot as plt\n"
      ]
    },
    {
      "cell_type": "code",
      "execution_count": null,
      "metadata": {
        "id": "ksp2zcCcLhHZ"
      },
      "outputs": [],
      "source": [
        "cm_knn=confusion_matrix(y_test, y_pred_knn)"
      ]
    },
    {
      "cell_type": "code",
      "source": [
        "from sklearn.metrics._plot.confusion_matrix import ConfusionMatrixDisplay\n",
        "fig=ConfusionMatrixDisplay(cm_knn,display_labels = knn.classes_)"
      ],
      "metadata": {
        "id": "wgMTOJyESpdO"
      },
      "execution_count": null,
      "outputs": []
    },
    {
      "cell_type": "code",
      "source": [
        "fig.plot()"
      ],
      "metadata": {
        "colab": {
          "base_uri": "https://localhost:8080/",
          "height": 296
        },
        "id": "B7-gtKowTMGw",
        "outputId": "0933524e-f52e-4e4e-a9bf-442c0429a14c"
      },
      "execution_count": null,
      "outputs": [
        {
          "output_type": "execute_result",
          "data": {
            "text/plain": [
              "<sklearn.metrics._plot.confusion_matrix.ConfusionMatrixDisplay at 0x7f3077673580>"
            ]
          },
          "metadata": {},
          "execution_count": 124
        },
        {
          "output_type": "display_data",
          "data": {
            "text/plain": [
              "<Figure size 432x288 with 2 Axes>"
            ],
            "image/png": "[encoded data removed]"
          },
          "metadata": {
            "needs_background": "light"
          }
        }
      ]
    },
    {
      "cell_type": "code",
      "execution_count": null,
      "metadata": {
        "colab": {
          "base_uri": "https://localhost:8080/",
          "height": 282
        },
        "id": "IgubQzHu4Urc",
        "outputId": "758e3b23-fb09-4cab-f316-89ac34dbdb08"
      },
      "outputs": [
        {
          "output_type": "execute_result",
          "data": {
            "text/plain": [
              "<AxesSubplot:>"
            ]
          },
          "metadata": {},
          "execution_count": 116
        },
        {
          "output_type": "display_data",
          "data": {
            "text/plain": [
              "<Figure size 432x288 with 2 Axes>"
            ],
            "image/png": "[encoded data removed]"
          },
          "metadata": {
            "needs_background": "light"
          }
        }
      ],
      "source": [
        "sns.heatmap(cm_knn)"
      ]
    },
    {
      "cell_type": "code",
      "source": [
        "cm_lrc = confusion_matrix(y_test, y_pred_lrc)\n",
        "fig_lrc=ConfusionMatrixDisplay(cm_lrc,display_labels = lrc.classes_)\n",
        "fig_lrc.plot()"
      ],
      "metadata": {
        "colab": {
          "base_uri": "https://localhost:8080/",
          "height": 296
        },
        "id": "6PfnrqCURfGu",
        "outputId": "688c8f1f-2f77-4484-cfe9-f340172bec64"
      },
      "execution_count": null,
      "outputs": [
        {
          "output_type": "execute_result",
          "data": {
            "text/plain": [
              "<sklearn.metrics._plot.confusion_matrix.ConfusionMatrixDisplay at 0x7f307728d820>"
            ]
          },
          "metadata": {},
          "execution_count": 129
        },
        {
          "output_type": "display_data",
          "data": {
            "text/plain": [
              "<Figure size 432x288 with 2 Axes>"
            ],
            "image/png": "[encoded data removed]"
          },
          "metadata": {
            "needs_background": "light"
          }
        }
      ]
    },
    {
      "cell_type": "code",
      "execution_count": null,
      "metadata": {
        "colab": {
          "base_uri": "https://localhost:8080/",
          "height": 282
        },
        "id": "eo2EZjvhLsYy",
        "outputId": "08fd7871-4ded-4c05-821b-113f615c7a62"
      },
      "outputs": [
        {
          "output_type": "execute_result",
          "data": {
            "text/plain": [
              "<AxesSubplot:>"
            ]
          },
          "metadata": {},
          "execution_count": 120
        },
        {
          "output_type": "display_data",
          "data": {
            "text/plain": [
              "<Figure size 432x288 with 2 Axes>"
            ],
            "image/png": "[encoded data removed]"
          },
          "metadata": {
            "needs_background": "light"
          }
        }
      ],
      "source": [
        "sns.heatmap(confusion_matrix(y_test, y_pred_lrc))"
      ]
    },
    {
      "cell_type": "code",
      "execution_count": null,
      "metadata": {
        "id": "R2qOCsc9L1Wf"
      },
      "outputs": [],
      "source": [
        "cm_rfc = confusion_matrix(y_test, y_pred_rfc)\n",
        "fig_rfc=ConfusionMatrixDisplay(cm_rfc,display_labels = rfc.classes_)"
      ]
    },
    {
      "cell_type": "code",
      "source": [
        "fig_rfc.plot()"
      ],
      "metadata": {
        "colab": {
          "base_uri": "https://localhost:8080/",
          "height": 296
        },
        "id": "mIERX_MXT82L",
        "outputId": "aa0da5a7-c06a-4989-930c-88c016450b1d"
      },
      "execution_count": null,
      "outputs": [
        {
          "output_type": "execute_result",
          "data": {
            "text/plain": [
              "<sklearn.metrics._plot.confusion_matrix.ConfusionMatrixDisplay at 0x7f307741f700>"
            ]
          },
          "metadata": {},
          "execution_count": 127
        },
        {
          "output_type": "display_data",
          "data": {
            "text/plain": [
              "<Figure size 432x288 with 2 Axes>"
            ],
            "image/png": "[encoded data removed]"
          },
          "metadata": {
            "needs_background": "light"
          }
        }
      ]
    },
    {
      "cell_type": "code",
      "execution_count": null,
      "metadata": {
        "colab": {
          "base_uri": "https://localhost:8080/",
          "height": 296
        },
        "id": "-NT8JMIVMLNb",
        "outputId": "50979f56-e355-4f40-9e89-5ad882344d9a"
      },
      "outputs": [
        {
          "output_type": "execute_result",
          "data": {
            "text/plain": [
              "<sklearn.metrics._plot.confusion_matrix.ConfusionMatrixDisplay at 0x7f30772e1cd0>"
            ]
          },
          "metadata": {},
          "execution_count": 128
        },
        {
          "output_type": "display_data",
          "data": {
            "text/plain": [
              "<Figure size 432x288 with 2 Axes>"
            ],
            "image/png": "[encoded data removed]"
          },
          "metadata": {
            "needs_background": "light"
          }
        }
      ],
      "source": [
        "cm_gbc = confusion_matrix(y_test, y_pred_gbc)\n",
        "fig_gbc=ConfusionMatrixDisplay(cm_gbc,display_labels = gbc.classes_)\n",
        "fig_gbc.plot()"
      ]
    },
    {
      "cell_type": "markdown",
      "source": [
        "#SVC"
      ],
      "metadata": {
        "id": "_jfPTFf9QccU"
      }
    },
    {
      "cell_type": "markdown",
      "metadata": {
        "id": "YbftbbNKixn_"
      },
      "source": [
        "SVM - SVC\n",
        "\n",
        "\n"
      ]
    },
    {
      "cell_type": "code",
      "execution_count": null,
      "metadata": {
        "id": "93KDwes5icF5"
      },
      "outputs": [],
      "source": [
        " from sklearn.svm import SVC\n",
        " from sklearn.model_selection import cross_val_score"
      ]
    },
    {
      "cell_type": "code",
      "execution_count": null,
      "metadata": {
        "id": "O8QUv1NmGp40"
      },
      "outputs": [],
      "source": [
        "svc=SVC(C= 5,kernel= 'poly',degree= 5, random_state = 0 )"
      ]
    },
    {
      "cell_type": "code",
      "execution_count": null,
      "metadata": {
        "id": "zx68jEMRnPry"
      },
      "outputs": [],
      "source": [
        "cv_scores= cross_val_score(svc, X_new, y_train, cv=5)"
      ]
    },
    {
      "cell_type": "code",
      "execution_count": null,
      "metadata": {
        "colab": {
          "base_uri": "https://localhost:8080/"
        },
        "id": "HhjJzLZUHZNy",
        "outputId": "ffb6d456-82bb-4be7-db7f-1a6364482f19"
      },
      "outputs": [
        {
          "data": {
            "text/plain": [
              "array([0.66086957, 0.6       , 0.66956522, 0.6173913 , 0.70434783])"
            ]
          },
          "execution_count": 21,
          "metadata": {},
          "output_type": "execute_result"
        }
      ],
      "source": [
        "cv_scores"
      ]
    },
    {
      "cell_type": "code",
      "execution_count": null,
      "metadata": {
        "colab": {
          "base_uri": "https://localhost:8080/",
          "height": 51
        },
        "id": "OPO9GoqDoMHS",
        "outputId": "edb0f3da-a2e4-43cb-9043-0ee7a9d3a842"
      },
      "outputs": [
        {
          "data": {
            "text/html": [
              "<style>#sk-container-id-2 {color: black;background-color: white;}#sk-container-id-2 pre{padding: 0;}#sk-container-id-2 div.sk-toggleable {background-color: white;}#sk-container-id-2 label.sk-toggleable__label {cursor: pointer;display: block;width: 100%;margin-bottom: 0;padding: 0.3em;box-sizing: border-box;text-align: center;}#sk-container-id-2 label.sk-toggleable__label-arrow:before {content: \"▸\";float: left;margin-right: 0.25em;color: #696969;}#sk-container-id-2 label.sk-toggleable__label-arrow:hover:before {color: black;}#sk-container-id-2 div.sk-estimator:hover label.sk-toggleable__label-arrow:before {color: black;}#sk-container-id-2 div.sk-toggleable__content {max-height: 0;max-width: 0;overflow: hidden;text-align: left;background-color: #f0f8ff;}#sk-container-id-2 div.sk-toggleable__content pre {margin: 0.2em;color: black;border-radius: 0.25em;background-color: #f0f8ff;}#sk-container-id-2 input.sk-toggleable__control:checked~div.sk-toggleable__content {max-height: 200px;max-width: 100%;overflow: auto;}#sk-container-id-2 input.sk-toggleable__control:checked~label.sk-toggleable__label-arrow:before {content: \"▾\";}#sk-container-id-2 div.sk-estimator input.sk-toggleable__control:checked~label.sk-toggleable__label {background-color: #d4ebff;}#sk-container-id-2 div.sk-label input.sk-toggleable__control:checked~label.sk-toggleable__label {background-color: #d4ebff;}#sk-container-id-2 input.sk-hidden--visually {border: 0;clip: rect(1px 1px 1px 1px);clip: rect(1px, 1px, 1px, 1px);height: 1px;margin: -1px;overflow: hidden;padding: 0;position: absolute;width: 1px;}#sk-container-id-2 div.sk-estimator {font-family: monospace;background-color: #f0f8ff;border: 1px dotted black;border-radius: 0.25em;box-sizing: border-box;margin-bottom: 0.5em;}#sk-container-id-2 div.sk-estimator:hover {background-color: #d4ebff;}#sk-container-id-2 div.sk-parallel-item::after {content: \"\";width: 100%;border-bottom: 1px solid gray;flex-grow: 1;}#sk-container-id-2 div.sk-label:hover label.sk-toggleable__label {background-color: #d4ebff;}#sk-container-id-2 div.sk-serial::before {content: \"\";position: absolute;border-left: 1px solid gray;box-sizing: border-box;top: 0;bottom: 0;left: 50%;z-index: 0;}#sk-container-id-2 div.sk-serial {display: flex;flex-direction: column;align-items: center;background-color: white;padding-right: 0.2em;padding-left: 0.2em;position: relative;}#sk-container-id-2 div.sk-item {position: relative;z-index: 1;}#sk-container-id-2 div.sk-parallel {display: flex;align-items: stretch;justify-content: center;background-color: white;position: relative;}#sk-container-id-2 div.sk-item::before, #sk-container-id-2 div.sk-parallel-item::before {content: \"\";position: absolute;border-left: 1px solid gray;box-sizing: border-box;top: 0;bottom: 0;left: 50%;z-index: -1;}#sk-container-id-2 div.sk-parallel-item {display: flex;flex-direction: column;z-index: 1;position: relative;background-color: white;}#sk-container-id-2 div.sk-parallel-item:first-child::after {align-self: flex-end;width: 50%;}#sk-container-id-2 div.sk-parallel-item:last-child::after {align-self: flex-start;width: 50%;}#sk-container-id-2 div.sk-parallel-item:only-child::after {width: 0;}#sk-container-id-2 div.sk-dashed-wrapped {border: 1px dashed gray;margin: 0 0.4em 0.5em 0.4em;box-sizing: border-box;padding-bottom: 0.4em;background-color: white;}#sk-container-id-2 div.sk-label label {font-family: monospace;font-weight: bold;display: inline-block;line-height: 1.2em;}#sk-container-id-2 div.sk-label-container {text-align: center;}#sk-container-id-2 div.sk-container {/* jupyter's `normalize.less` sets `[hidden] { display: none; }` but bootstrap.min.css set `[hidden] { display: none !important; }` so we also need the `!important` here to be able to override the default hidden behavior on the sphinx rendered scikit-learn.org. See: https://github.com/scikit-learn/scikit-learn/issues/21755 */display: inline-block !important;position: relative;}#sk-container-id-2 div.sk-text-repr-fallback {display: none;}</style><div id=\"sk-container-id-2\" class=\"sk-top-container\"><div class=\"sk-text-repr-fallback\"><pre>SVC(C=5, degree=5, kernel=&#x27;poly&#x27;, random_state=0)</pre><b>In a Jupyter environment, please rerun this cell to show the HTML representation or trust the notebook. <br />On GitHub, the HTML representation is unable to render, please try loading this page with nbviewer.org.</b></div><div class=\"sk-container\" hidden><div class=\"sk-item\"><div class=\"sk-estimator sk-toggleable\"><input class=\"sk-toggleable__control sk-hidden--visually\" id=\"sk-estimator-id-2\" type=\"checkbox\" checked><label for=\"sk-estimator-id-2\" class=\"sk-toggleable__label sk-toggleable__label-arrow\">SVC</label><div class=\"sk-toggleable__content\"><pre>SVC(C=5, degree=5, kernel=&#x27;poly&#x27;, random_state=0)</pre></div></div></div></div></div>"
            ],
            "text/plain": [
              "SVC(C=5, degree=5, kernel='poly', random_state=0)"
            ]
          },
          "execution_count": 22,
          "metadata": {},
          "output_type": "execute_result"
        }
      ],
      "source": [
        "svc.fit(X_new,y_train)"
      ]
    },
    {
      "cell_type": "code",
      "execution_count": null,
      "metadata": {
        "colab": {
          "base_uri": "https://localhost:8080/"
        },
        "id": "brB0AKlyKMEK",
        "outputId": "fd66eb20-8755-4b00-d173-0b482318c773"
      },
      "outputs": [
        {
          "data": {
            "text/plain": [
              "0.6875"
            ]
          },
          "execution_count": 24,
          "metadata": {},
          "output_type": "execute_result"
        }
      ],
      "source": [
        "svc.score(X_test_new, y_test)"
      ]
    },
    {
      "cell_type": "markdown",
      "metadata": {
        "id": "kTN-aBnKKa7C"
      },
      "source": [
        "Plotting Confusion Matrix"
      ]
    },
    {
      "cell_type": "code",
      "execution_count": null,
      "metadata": {
        "id": "TfsPkP_GKaMA"
      },
      "outputs": [],
      "source": [
        "from sklearn.metrics import confusion_matrix\n",
        "y_pred = svc.predict(X_test_new)"
      ]
    },
    {
      "cell_type": "code",
      "execution_count": null,
      "metadata": {
        "id": "2lc7zSSUK1QH"
      },
      "outputs": [],
      "source": [
        "cm=confusion_matrix(y_test, y_pred)"
      ]
    },
    {
      "cell_type": "code",
      "execution_count": null,
      "metadata": {
        "colab": {
          "base_uri": "https://localhost:8080/",
          "height": 282
        },
        "id": "FvJIchpDL_qH",
        "outputId": "961fa228-405b-4bda-ed17-4eac0ab416ca"
      },
      "outputs": [
        {
          "data": {
            "text/plain": [
              "<AxesSubplot:>"
            ]
          },
          "execution_count": 34,
          "metadata": {},
          "output_type": "execute_result"
        },
        {
          "data": {
            "image/png": "[encoded data removed]",
            "text/plain": [
              "<Figure size 432x288 with 2 Axes>"
            ]
          },
          "metadata": {},
          "output_type": "display_data"
        }
      ],
      "source": [
        "sns.heatmap(cm)"
      ]
    },
    {
      "cell_type": "markdown",
      "metadata": {
        "id": "yMTAykysMNp2"
      },
      "source": [
        "#Parameter Tuning in Models"
      ]
    },
    {
      "cell_type": "markdown",
      "metadata": {
        "id": "lzVa2T9EZMfo"
      },
      "source": [
        "Logistic Regression"
      ]
    },
    {
      "cell_type": "code",
      "execution_count": null,
      "metadata": {
        "id": "hwSSaO8la3Ov"
      },
      "outputs": [],
      "source": [
        "from sklearn.metrics import mean_absolute_error, mean_squared_error, f1_score\n",
        "lrc_train_score=[]\n",
        "lrc_test_score=[]\n",
        "lrc_f1_score=[]\n",
        "lrc_MAE=[]\n",
        "lrc_MSE=[]"
      ]
    },
    {
      "cell_type": "code",
      "execution_count": null,
      "metadata": {
        "colab": {
          "base_uri": "https://localhost:8080/"
        },
        "id": "1HvkL03yMT9s",
        "outputId": "9bf93f26-8101-4a11-ba7f-1ffa3d462392"
      },
      "outputs": [
        {
          "output_type": "stream",
          "name": "stderr",
          "text": [
            "/usr/local/lib/python3.9/dist-packages/sklearn/linear_model/_sag.py:350: ConvergenceWarning: The max_iter was reached which means the coef_ did not converge\n",
            "  warnings.warn(\n"
          ]
        }
      ],
      "source": [
        "from sklearn.linear_model import LogisticRegression\n",
        "\n",
        "for k in ['sag', 'saga','lbfgs']:\n",
        "  lrc=LogisticRegression(multi_class='multinomial', solver=k)\n",
        "  lrc.fit(X_new,y_train)\n",
        "  y_pred=lrc.predict(X_test_new)\n",
        "  lrc_train_score.append(lrc.score(X_new,y_train))\n",
        "  lrc_test_score.append(lrc.score(X_test_new,y_test))\n",
        "  lrc_f1_score.append(f1_score(y_test,y_pred,average='micro'))\n",
        "  lrc_MAE.append(mean_absolute_error(y_test,y_pred))\n",
        "  lrc_MSE.append(mean_squared_error(y_test,y_pred))\n"
      ]
    },
    {
      "cell_type": "code",
      "execution_count": null,
      "metadata": {
        "colab": {
          "base_uri": "https://localhost:8080/"
        },
        "id": "-VJyH85y3dYu",
        "outputId": "c7e99710-3606-4926-ee07-351bc5d38756"
      },
      "outputs": [
        {
          "output_type": "stream",
          "name": "stdout",
          "text": [
            "[0.8130511463844797, 0.8130511463844797, 0.8130511463844797]\n",
            "[0.7916666666666666, 0.7986111111111112, 0.7916666666666666]\n",
            "[0.7916666666666666, 0.7986111111111112, 0.7916666666666666]\n",
            "[0.2638888888888889, 0.2569444444444444, 0.2638888888888889]\n",
            "[0.4166666666666667, 0.4097222222222222, 0.4166666666666667]\n"
          ]
        }
      ],
      "source": [
        "print(lrc_train_score)\n",
        "print(lrc_test_score)\n",
        "print(lrc_f1_score)\n",
        "print(lrc_MAE)\n",
        "print(lrc_MSE)"
      ]
    },
    {
      "cell_type": "markdown",
      "metadata": {
        "id": "FaoxseVB4yrp"
      },
      "source": [
        "KNN Classifier"
      ]
    },
    {
      "cell_type": "code",
      "execution_count": null,
      "metadata": {
        "id": "IIzprHjl8TTr"
      },
      "outputs": [],
      "source": [
        "knn_train_score=[]\n",
        "knn_test_score=[]\n",
        "knn_f1_score=[]\n",
        "knn_MAE=[]\n",
        "knn_MSE=[]"
      ]
    },
    {
      "cell_type": "code",
      "execution_count": null,
      "metadata": {
        "id": "OLLDoLd34KQj"
      },
      "outputs": [],
      "source": [
        "from sklearn.neighbors import KNeighborsClassifier\n",
        "n_neighbors=[2,5,10,12,15,18,19,20,22,25,30]\n",
        "for k in n_neighbors:\n",
        "  knn = KNeighborsClassifier(n_neighbors=k)\n",
        "  knn.fit(X_new,y_train)\n",
        "  y_pred_knn=knn.predict(X_test_new)\n",
        "  knn_train_score.append(knn.score(X_new,y_train))\n",
        "  knn_test_score.append(knn.score(X_test_new,y_test))\n",
        "  knn_f1_score.append(f1_score(y_test,y_pred_knn,average ='micro'))\n",
        "  knn_MAE.append(mean_absolute_error(y_test,y_pred_knn))\n",
        "  knn_MSE.append(mean_squared_error(y_test,y_pred_knn))\n"
      ]
    },
    {
      "cell_type": "code",
      "execution_count": null,
      "metadata": {
        "colab": {
          "base_uri": "https://localhost:8080/"
        },
        "id": "ZhuqvSZvBTat",
        "outputId": "d3f23d9c-40d4-41b5-ef36-126493cb221d"
      },
      "outputs": [
        {
          "output_type": "stream",
          "name": "stdout",
          "text": [
            "[0.8694885361552028, 0.8236331569664903, 0.798941798941799, 0.7671957671957672, 0.7777777777777778, 0.7671957671957672, 0.7601410934744268, 0.7566137566137566, 0.7566137566137566, 0.7442680776014109, 0.7354497354497355]\n",
            "[0.6666666666666666, 0.7361111111111112, 0.6944444444444444, 0.7083333333333334, 0.7152777777777778, 0.7291666666666666, 0.7430555555555556, 0.7361111111111112, 0.7222222222222222, 0.7152777777777778, 0.6944444444444444]\n",
            "[0.6666666666666666, 0.7361111111111113, 0.6944444444444444, 0.7083333333333334, 0.7152777777777778, 0.7291666666666665, 0.7430555555555556, 0.7361111111111113, 0.7222222222222222, 0.7152777777777778, 0.6944444444444444]\n",
            "[0.4305555555555556, 0.3819444444444444, 0.4930555555555556, 0.4791666666666667, 0.4722222222222222, 0.4652777777777778, 0.4236111111111111, 0.4444444444444444, 0.4583333333333333, 0.4583333333333333, 0.5]\n",
            "[0.6944444444444444, 0.7152777777777778, 1.0069444444444444, 0.9930555555555556, 0.9861111111111112, 1.0069444444444444, 0.8819444444444444, 0.9444444444444444, 0.9583333333333334, 0.9305555555555556, 1.0277777777777777]\n"
          ]
        }
      ],
      "source": [
        "print(knn_train_score)\n",
        "print(knn_test_score)\n",
        "print(knn_f1_score)\n",
        "print(knn_MAE)\n",
        "print(knn_MSE)"
      ]
    },
    {
      "cell_type": "code",
      "execution_count": null,
      "metadata": {
        "id": "3EY8gSnICiVs"
      },
      "outputs": [],
      "source": [
        "#good score received at n=19.  0.76 train score and 0.74 f1_score"
      ]
    },
    {
      "cell_type": "markdown",
      "metadata": {
        "id": "Ee1pZg_dDq6a"
      },
      "source": [
        "Decision Tree"
      ]
    },
    {
      "cell_type": "code",
      "execution_count": null,
      "metadata": {
        "id": "I8VsNVGdESI8"
      },
      "outputs": [],
      "source": [
        "dtc_train_score=[]\n",
        "dtc_test_score=[]\n",
        "dtc_f1_score=[]\n",
        "dtc_MAE=[]\n",
        "dtc_MSE=[]"
      ]
    },
    {
      "cell_type": "code",
      "execution_count": null,
      "metadata": {
        "id": "dXKQOUziEsHp"
      },
      "outputs": [],
      "source": [
        "from sklearn.tree import DecisionTreeClassifier\n",
        "max_depth=[2,3,4,5,10,12,15]\n",
        "for k in max_depth:\n",
        "  dtc = DecisionTreeClassifier(max_depth=k, min_samples_split=4,class_weight=\"balanced\")\n",
        "  dtc.fit(X_new,y_train)\n",
        "  y_pred_dtc=dtc.predict(X_test_new)\n",
        "  dtc_train_score.append(dtc.score(X_new,y_train))\n",
        "  dtc_test_score.append(dtc.score(X_test_new,y_test))\n",
        "  dtc_f1_score.append(f1_score(y_test,y_pred_dtc,average ='micro'))\n",
        "  dtc_MAE.append(mean_absolute_error(y_test,y_pred_dtc))\n",
        "  dtc_MSE.append(mean_squared_error(y_test,y_pred_dtc))"
      ]
    },
    {
      "cell_type": "code",
      "execution_count": null,
      "metadata": {
        "colab": {
          "base_uri": "https://localhost:8080/"
        },
        "id": "YfdgoRH0H-gh",
        "outputId": "57f66270-d170-46ec-d05d-b807dbd5be9e"
      },
      "outputs": [
        {
          "name": "stdout",
          "output_type": "stream",
          "text": [
            "[0.5634782608695652, 0.6869565217391305, 0.7286956521739131, 0.7913043478260869, 0.9617391304347827, 0.9791304347826087, 0.9843478260869565]\n",
            "[0.5277777777777778, 0.7013888888888888, 0.7222222222222222, 0.7222222222222222, 0.7430555555555556, 0.7222222222222222, 0.7569444444444444]\n",
            "[0.5277777777777778, 0.7013888888888888, 0.7222222222222222, 0.7222222222222222, 0.7430555555555556, 0.7222222222222222, 0.7569444444444444]\n",
            "[0.9027777777777778, 0.4305555555555556, 0.4027777777777778, 0.375, 0.3472222222222222, 0.3680555555555556, 0.3333333333333333]\n",
            "[2.125, 0.75, 0.7083333333333334, 0.5972222222222222, 0.5555555555555556, 0.5763888888888888, 0.5416666666666666]\n"
          ]
        }
      ],
      "source": [
        "print(dtc_train_score)\n",
        "print(dtc_test_score)\n",
        "print(dtc_f1_score)\n",
        "print(dtc_MAE)\n",
        "print(dtc_MSE)"
      ]
    },
    {
      "cell_type": "code",
      "execution_count": null,
      "metadata": {
        "id": "bbP2jwaOYSk0"
      },
      "outputs": [],
      "source": [
        "from sklearn.metrics import confusion_matrix"
      ]
    },
    {
      "cell_type": "code",
      "execution_count": null,
      "metadata": {
        "id": "INfOwUY5YclS"
      },
      "outputs": [],
      "source": [
        "cm=confusion_matrix(y_test,y_pred_dtc)"
      ]
    },
    {
      "cell_type": "code",
      "execution_count": null,
      "metadata": {
        "colab": {
          "base_uri": "https://localhost:8080/",
          "height": 286
        },
        "id": "_-Z8zkvJY5dq",
        "outputId": "a02681fe-af60-426d-e08f-1f4344eb0c3d"
      },
      "outputs": [
        {
          "data": {
            "text/plain": [
              "<AxesSubplot:>"
            ]
          },
          "execution_count": 112,
          "metadata": {},
          "output_type": "execute_result"
        },
        {
          "data": {
            "image/png": "[encoded data removed]",
            "text/plain": [
              "<Figure size 432x288 with 2 Axes>"
            ]
          },
          "metadata": {},
          "output_type": "display_data"
        }
      ],
      "source": [
        "sns.heatmap(cm)"
      ]
    },
    {
      "cell_type": "markdown",
      "metadata": {
        "id": "q4CuF8GgFqYs"
      },
      "source": [
        "Random Forest Classifier"
      ]
    },
    {
      "cell_type": "code",
      "execution_count": null,
      "metadata": {
        "id": "G1WNQU9mGKae"
      },
      "outputs": [],
      "source": [
        "from sklearn.ensemble import RandomForestClassifier"
      ]
    },
    {
      "cell_type": "code",
      "execution_count": null,
      "metadata": {
        "id": "yU6a-V3_HLcM"
      },
      "outputs": [],
      "source": [
        "max_depth = [2,3,4,5,6,8,10]\n",
        "rfc_train_score=[]\n",
        "rfc_test_score=[]\n",
        "rfc_f1_score=[]\n",
        "rfc_MAE=[]\n",
        "rfc_MSE=[]"
      ]
    },
    {
      "cell_type": "code",
      "execution_count": null,
      "metadata": {
        "id": "qJQp1lo3GPQp"
      },
      "outputs": [],
      "source": [
        "for k in max_depth:\n",
        "  rfc=RandomForestClassifier(n_estimators=300, max_depth= k, random_state= 0)\n",
        "  rfc.fit(X_new,y_train)\n",
        "  y_pred_rfc=rfc.predict(X_test_new)\n",
        "  rfc_train_score.append(rfc.score(X_new,y_train))\n",
        "  rfc_test_score.append(rfc.score(X_test_new,y_test))\n",
        "  rfc_f1_score.append(f1_score(y_test,y_pred_rfc,average ='micro'))\n",
        "  rfc_MAE.append(mean_absolute_error(y_test,y_pred_rfc))\n",
        "  rfc_MSE.append(mean_squared_error(y_test,y_pred_rfc))"
      ]
    },
    {
      "cell_type": "code",
      "execution_count": null,
      "metadata": {
        "colab": {
          "base_uri": "https://localhost:8080/"
        },
        "id": "wnG54JdiIOll",
        "outputId": "ca7ba8a4-c7f1-47e6-c77f-8c8bd2e5b9e0"
      },
      "outputs": [
        {
          "output_type": "stream",
          "name": "stdout",
          "text": [
            "[0.6596119929453262, 0.7160493827160493, 0.7654320987654321, 0.8571428571428571, 0.9206349206349206, 0.9929453262786596, 1.0]\n",
            "[0.6805555555555556, 0.7222222222222222, 0.7361111111111112, 0.75, 0.7708333333333334, 0.7986111111111112, 0.7777777777777778]\n",
            "[0.6805555555555556, 0.7222222222222222, 0.7361111111111113, 0.75, 0.7708333333333333, 0.7986111111111112, 0.7777777777777778]\n",
            "[0.4513888888888889, 0.375, 0.375, 0.3541666666666667, 0.3055555555555556, 0.2708333333333333, 0.2986111111111111]\n",
            "[0.7708333333333334, 0.5972222222222222, 0.6388888888888888, 0.6041666666666666, 0.5, 0.4513888888888889, 0.4930555555555556]\n"
          ]
        }
      ],
      "source": [
        "print(rfc_train_score)\n",
        "print(rfc_test_score)\n",
        "print(rfc_f1_score)\n",
        "print(rfc_MAE)\n",
        "print(rfc_MSE)"
      ]
    },
    {
      "cell_type": "markdown",
      "metadata": {
        "id": "tX6vpMuzZn70"
      },
      "source": [
        "Applying CV in RFClassifier"
      ]
    },
    {
      "cell_type": "code",
      "execution_count": null,
      "metadata": {
        "id": "9Kt4gOXFZmV7"
      },
      "outputs": [],
      "source": [
        "from sklearn.model_selection import GridSearchCV"
      ]
    },
    {
      "cell_type": "code",
      "execution_count": null,
      "metadata": {
        "colab": {
          "base_uri": "https://localhost:8080/",
          "height": 117
        },
        "id": "V058L-0WZ-pj",
        "outputId": "7063b582-0b14-49ce-891a-fe7212badd79"
      },
      "outputs": [
        {
          "output_type": "execute_result",
          "data": {
            "text/plain": [
              "GridSearchCV(cv=5, estimator=RandomForestClassifier(),\n",
              "             param_grid={'max_depth': [3, 4, 5, 6, 8, 10],\n",
              "                         'n_estimators': [100, 200, 300]})"
            ],
            "text/html": [
              "<style>#sk-container-id-4 {color: black;background-color: white;}#sk-container-id-4 pre{padding: 0;}#sk-container-id-4 div.sk-toggleable {background-color: white;}#sk-container-id-4 label.sk-toggleable__label {cursor: pointer;display: block;width: 100%;margin-bottom: 0;padding: 0.3em;box-sizing: border-box;text-align: center;}#sk-container-id-4 label.sk-toggleable__label-arrow:before {content: \"▸\";float: left;margin-right: 0.25em;color: #696969;}#sk-container-id-4 label.sk-toggleable__label-arrow:hover:before {color: black;}#sk-container-id-4 div.sk-estimator:hover label.sk-toggleable__label-arrow:before {color: black;}#sk-container-id-4 div.sk-toggleable__content {max-height: 0;max-width: 0;overflow: hidden;text-align: left;background-color: #f0f8ff;}#sk-container-id-4 div.sk-toggleable__content pre {margin: 0.2em;color: black;border-radius: 0.25em;background-color: #f0f8ff;}#sk-container-id-4 input.sk-toggleable__control:checked~div.sk-toggleable__content {max-height: 200px;max-width: 100%;overflow: auto;}#sk-container-id-4 input.sk-toggleable__control:checked~label.sk-toggleable__label-arrow:before {content: \"▾\";}#sk-container-id-4 div.sk-estimator input.sk-toggleable__control:checked~label.sk-toggleable__label {background-color: #d4ebff;}#sk-container-id-4 div.sk-label input.sk-toggleable__control:checked~label.sk-toggleable__label {background-color: #d4ebff;}#sk-container-id-4 input.sk-hidden--visually {border: 0;clip: rect(1px 1px 1px 1px);clip: rect(1px, 1px, 1px, 1px);height: 1px;margin: -1px;overflow: hidden;padding: 0;position: absolute;width: 1px;}#sk-container-id-4 div.sk-estimator {font-family: monospace;background-color: #f0f8ff;border: 1px dotted black;border-radius: 0.25em;box-sizing: border-box;margin-bottom: 0.5em;}#sk-container-id-4 div.sk-estimator:hover {background-color: #d4ebff;}#sk-container-id-4 div.sk-parallel-item::after {content: \"\";width: 100%;border-bottom: 1px solid gray;flex-grow: 1;}#sk-container-id-4 div.sk-label:hover label.sk-toggleable__label {background-color: #d4ebff;}#sk-container-id-4 div.sk-serial::before {content: \"\";position: absolute;border-left: 1px solid gray;box-sizing: border-box;top: 0;bottom: 0;left: 50%;z-index: 0;}#sk-container-id-4 div.sk-serial {display: flex;flex-direction: column;align-items: center;background-color: white;padding-right: 0.2em;padding-left: 0.2em;position: relative;}#sk-container-id-4 div.sk-item {position: relative;z-index: 1;}#sk-container-id-4 div.sk-parallel {display: flex;align-items: stretch;justify-content: center;background-color: white;position: relative;}#sk-container-id-4 div.sk-item::before, #sk-container-id-4 div.sk-parallel-item::before {content: \"\";position: absolute;border-left: 1px solid gray;box-sizing: border-box;top: 0;bottom: 0;left: 50%;z-index: -1;}#sk-container-id-4 div.sk-parallel-item {display: flex;flex-direction: column;z-index: 1;position: relative;background-color: white;}#sk-container-id-4 div.sk-parallel-item:first-child::after {align-self: flex-end;width: 50%;}#sk-container-id-4 div.sk-parallel-item:last-child::after {align-self: flex-start;width: 50%;}#sk-container-id-4 div.sk-parallel-item:only-child::after {width: 0;}#sk-container-id-4 div.sk-dashed-wrapped {border: 1px dashed gray;margin: 0 0.4em 0.5em 0.4em;box-sizing: border-box;padding-bottom: 0.4em;background-color: white;}#sk-container-id-4 div.sk-label label {font-family: monospace;font-weight: bold;display: inline-block;line-height: 1.2em;}#sk-container-id-4 div.sk-label-container {text-align: center;}#sk-container-id-4 div.sk-container {/* jupyter's `normalize.less` sets `[hidden] { display: none; }` but bootstrap.min.css set `[hidden] { display: none !important; }` so we also need the `!important` here to be able to override the default hidden behavior on the sphinx rendered scikit-learn.org. See: https://github.com/scikit-learn/scikit-learn/issues/21755 */display: inline-block !important;position: relative;}#sk-container-id-4 div.sk-text-repr-fallback {display: none;}</style><div id=\"sk-container-id-4\" class=\"sk-top-container\"><div class=\"sk-text-repr-fallback\"><pre>GridSearchCV(cv=5, estimator=RandomForestClassifier(),\n",
              "             param_grid={&#x27;max_depth&#x27;: [3, 4, 5, 6, 8, 10],\n",
              "                         &#x27;n_estimators&#x27;: [100, 200, 300]})</pre><b>In a Jupyter environment, please rerun this cell to show the HTML representation or trust the notebook. <br />On GitHub, the HTML representation is unable to render, please try loading this page with nbviewer.org.</b></div><div class=\"sk-container\" hidden><div class=\"sk-item sk-dashed-wrapped\"><div class=\"sk-label-container\"><div class=\"sk-label sk-toggleable\"><input class=\"sk-toggleable__control sk-hidden--visually\" id=\"sk-estimator-id-4\" type=\"checkbox\" ><label for=\"sk-estimator-id-4\" class=\"sk-toggleable__label sk-toggleable__label-arrow\">GridSearchCV</label><div class=\"sk-toggleable__content\"><pre>GridSearchCV(cv=5, estimator=RandomForestClassifier(),\n",
              "             param_grid={&#x27;max_depth&#x27;: [3, 4, 5, 6, 8, 10],\n",
              "                         &#x27;n_estimators&#x27;: [100, 200, 300]})</pre></div></div></div><div class=\"sk-parallel\"><div class=\"sk-parallel-item\"><div class=\"sk-item\"><div class=\"sk-label-container\"><div class=\"sk-label sk-toggleable\"><input class=\"sk-toggleable__control sk-hidden--visually\" id=\"sk-estimator-id-5\" type=\"checkbox\" ><label for=\"sk-estimator-id-5\" class=\"sk-toggleable__label sk-toggleable__label-arrow\">estimator: RandomForestClassifier</label><div class=\"sk-toggleable__content\"><pre>RandomForestClassifier()</pre></div></div></div><div class=\"sk-serial\"><div class=\"sk-item\"><div class=\"sk-estimator sk-toggleable\"><input class=\"sk-toggleable__control sk-hidden--visually\" id=\"sk-estimator-id-6\" type=\"checkbox\" ><label for=\"sk-estimator-id-6\" class=\"sk-toggleable__label sk-toggleable__label-arrow\">RandomForestClassifier</label><div class=\"sk-toggleable__content\"><pre>RandomForestClassifier()</pre></div></div></div></div></div></div></div></div></div></div>"
            ]
          },
          "metadata": {},
          "execution_count": 72
        }
      ],
      "source": [
        "tree_params={'n_estimators':[100,200,300],'max_depth':[3,4,5,6,8,10]}\n",
        "gscv=GridSearchCV(RandomForestClassifier(),tree_params,cv=5)\n",
        "gscv.fit(X_new,y_train)"
      ]
    },
    {
      "cell_type": "code",
      "execution_count": null,
      "metadata": {
        "colab": {
          "base_uri": "https://localhost:8080/"
        },
        "id": "GkcUju6tby6X",
        "outputId": "7d4d5b04-c355-42c2-997d-d2ac8e7d7f03"
      },
      "outputs": [
        {
          "output_type": "execute_result",
          "data": {
            "text/plain": [
              "{'max_depth': 6, 'n_estimators': 300}"
            ]
          },
          "metadata": {},
          "execution_count": 73
        }
      ],
      "source": [
        "gscv.best_params_"
      ]
    },
    {
      "cell_type": "code",
      "execution_count": null,
      "metadata": {
        "colab": {
          "base_uri": "https://localhost:8080/"
        },
        "id": "yWMXmSHBb7kq",
        "outputId": "09188282-db85-4c50-c3d8-a4a043b2858b"
      },
      "outputs": [
        {
          "output_type": "execute_result",
          "data": {
            "text/plain": [
              "0.742608695652174"
            ]
          },
          "metadata": {},
          "execution_count": 74
        }
      ],
      "source": [
        "gscv.best_score_"
      ]
    },
    {
      "cell_type": "markdown",
      "metadata": {
        "id": "roiI5MPmIrnT"
      },
      "source": [
        "Gradient Boosting Classifier"
      ]
    },
    {
      "cell_type": "code",
      "execution_count": null,
      "metadata": {
        "id": "-048fc3iIqNr"
      },
      "outputs": [],
      "source": [
        "from sklearn.ensemble import GradientBoostingClassifier\n",
        "learning_rate = [0.0001,0.001,0.01,0.015,0.1]\n",
        "gbc_train_score=[]\n",
        "gbc_test_score=[]\n",
        "gbc_f1_score=[]\n",
        "gbc_MAE=[]\n",
        "gbc_MSE=[]"
      ]
    },
    {
      "cell_type": "code",
      "execution_count": null,
      "metadata": {
        "id": "FQRvhOlWJD7h"
      },
      "outputs": [],
      "source": [
        "\n",
        "for k in learning_rate:\n",
        "  gbc=GradientBoostingClassifier(n_estimators= 300, learning_rate = k, random_state=0)\n",
        "  gbc.fit(X_new,y_train)\n",
        "  y_pred_gbc=gbc.predict(X_test_new)\n",
        "  gbc_train_score.append(gbc.score(X_new,y_train))\n",
        "  gbc_test_score.append(gbc.score(X_test_new,y_test))\n",
        "  gbc_f1_score.append(f1_score(y_test,y_pred_gbc,average ='micro'))\n",
        "  gbc_MAE.append(mean_absolute_error(y_test,y_pred_gbc))\n",
        "  gbc_MSE.append(mean_squared_error(y_test,y_pred_gbc))"
      ]
    },
    {
      "cell_type": "code",
      "execution_count": null,
      "metadata": {
        "colab": {
          "base_uri": "https://localhost:8080/"
        },
        "id": "FX1QSSG6LBKR",
        "outputId": "f390dace-a995-436f-d226-66b157919e88"
      },
      "outputs": [
        {
          "output_type": "stream",
          "name": "stdout",
          "text": [
            "[0.5061728395061729, 0.7619047619047619, 0.9065255731922398, 0.9559082892416225, 1.0]\n",
            "[0.4305555555555556, 0.6875, 0.75, 0.7708333333333334, 0.7916666666666666]\n",
            "[0.4305555555555556, 0.6875, 0.75, 0.7708333333333333, 0.7916666666666666]\n",
            "[0.8819444444444444, 0.4097222222222222, 0.3472222222222222, 0.2916666666666667, 0.2708333333333333]\n",
            "[1.5069444444444444, 0.6319444444444444, 0.5972222222222222, 0.4583333333333333, 0.4375]\n"
          ]
        }
      ],
      "source": [
        "print(gbc_train_score)\n",
        "print(gbc_test_score)\n",
        "print(gbc_f1_score)\n",
        "print(gbc_MAE)\n",
        "print(gbc_MSE)"
      ]
    },
    {
      "cell_type": "code",
      "source": [
        "tree_params={'n_estimators':[100,200,250],'learning_rate':[0.001,0.01,0.015,0.1,0.15]}\n",
        "gscv1=GridSearchCV(GradientBoostingClassifier(),tree_params,cv=5)\n",
        "gscv1.fit(X_new,y_train)"
      ],
      "metadata": {
        "colab": {
          "base_uri": "https://localhost:8080/",
          "height": 117
        },
        "id": "k_QrmMVnbMrN",
        "outputId": "84cac502-75a2-42c6-e733-6be898d0bc1c"
      },
      "execution_count": null,
      "outputs": [
        {
          "output_type": "execute_result",
          "data": {
            "text/plain": [
              "GridSearchCV(cv=5, estimator=GradientBoostingClassifier(),\n",
              "             param_grid={'learning_rate': [0.001, 0.01, 0.015, 0.1, 0.15],\n",
              "                         'n_estimators': [100, 200, 250]})"
            ],
            "text/html": [
              "<style>#sk-container-id-6 {color: black;background-color: white;}#sk-container-id-6 pre{padding: 0;}#sk-container-id-6 div.sk-toggleable {background-color: white;}#sk-container-id-6 label.sk-toggleable__label {cursor: pointer;display: block;width: 100%;margin-bottom: 0;padding: 0.3em;box-sizing: border-box;text-align: center;}#sk-container-id-6 label.sk-toggleable__label-arrow:before {content: \"▸\";float: left;margin-right: 0.25em;color: #696969;}#sk-container-id-6 label.sk-toggleable__label-arrow:hover:before {color: black;}#sk-container-id-6 div.sk-estimator:hover label.sk-toggleable__label-arrow:before {color: black;}#sk-container-id-6 div.sk-toggleable__content {max-height: 0;max-width: 0;overflow: hidden;text-align: left;background-color: #f0f8ff;}#sk-container-id-6 div.sk-toggleable__content pre {margin: 0.2em;color: black;border-radius: 0.25em;background-color: #f0f8ff;}#sk-container-id-6 input.sk-toggleable__control:checked~div.sk-toggleable__content {max-height: 200px;max-width: 100%;overflow: auto;}#sk-container-id-6 input.sk-toggleable__control:checked~label.sk-toggleable__label-arrow:before {content: \"▾\";}#sk-container-id-6 div.sk-estimator input.sk-toggleable__control:checked~label.sk-toggleable__label {background-color: #d4ebff;}#sk-container-id-6 div.sk-label input.sk-toggleable__control:checked~label.sk-toggleable__label {background-color: #d4ebff;}#sk-container-id-6 input.sk-hidden--visually {border: 0;clip: rect(1px 1px 1px 1px);clip: rect(1px, 1px, 1px, 1px);height: 1px;margin: -1px;overflow: hidden;padding: 0;position: absolute;width: 1px;}#sk-container-id-6 div.sk-estimator {font-family: monospace;background-color: #f0f8ff;border: 1px dotted black;border-radius: 0.25em;box-sizing: border-box;margin-bottom: 0.5em;}#sk-container-id-6 div.sk-estimator:hover {background-color: #d4ebff;}#sk-container-id-6 div.sk-parallel-item::after {content: \"\";width: 100%;border-bottom: 1px solid gray;flex-grow: 1;}#sk-container-id-6 div.sk-label:hover label.sk-toggleable__label {background-color: #d4ebff;}#sk-container-id-6 div.sk-serial::before {content: \"\";position: absolute;border-left: 1px solid gray;box-sizing: border-box;top: 0;bottom: 0;left: 50%;z-index: 0;}#sk-container-id-6 div.sk-serial {display: flex;flex-direction: column;align-items: center;background-color: white;padding-right: 0.2em;padding-left: 0.2em;position: relative;}#sk-container-id-6 div.sk-item {position: relative;z-index: 1;}#sk-container-id-6 div.sk-parallel {display: flex;align-items: stretch;justify-content: center;background-color: white;position: relative;}#sk-container-id-6 div.sk-item::before, #sk-container-id-6 div.sk-parallel-item::before {content: \"\";position: absolute;border-left: 1px solid gray;box-sizing: border-box;top: 0;bottom: 0;left: 50%;z-index: -1;}#sk-container-id-6 div.sk-parallel-item {display: flex;flex-direction: column;z-index: 1;position: relative;background-color: white;}#sk-container-id-6 div.sk-parallel-item:first-child::after {align-self: flex-end;width: 50%;}#sk-container-id-6 div.sk-parallel-item:last-child::after {align-self: flex-start;width: 50%;}#sk-container-id-6 div.sk-parallel-item:only-child::after {width: 0;}#sk-container-id-6 div.sk-dashed-wrapped {border: 1px dashed gray;margin: 0 0.4em 0.5em 0.4em;box-sizing: border-box;padding-bottom: 0.4em;background-color: white;}#sk-container-id-6 div.sk-label label {font-family: monospace;font-weight: bold;display: inline-block;line-height: 1.2em;}#sk-container-id-6 div.sk-label-container {text-align: center;}#sk-container-id-6 div.sk-container {/* jupyter's `normalize.less` sets `[hidden] { display: none; }` but bootstrap.min.css set `[hidden] { display: none !important; }` so we also need the `!important` here to be able to override the default hidden behavior on the sphinx rendered scikit-learn.org. See: https://github.com/scikit-learn/scikit-learn/issues/21755 */display: inline-block !important;position: relative;}#sk-container-id-6 div.sk-text-repr-fallback {display: none;}</style><div id=\"sk-container-id-6\" class=\"sk-top-container\"><div class=\"sk-text-repr-fallback\"><pre>GridSearchCV(cv=5, estimator=GradientBoostingClassifier(),\n",
              "             param_grid={&#x27;learning_rate&#x27;: [0.001, 0.01, 0.015, 0.1, 0.15],\n",
              "                         &#x27;n_estimators&#x27;: [100, 200, 250]})</pre><b>In a Jupyter environment, please rerun this cell to show the HTML representation or trust the notebook. <br />On GitHub, the HTML representation is unable to render, please try loading this page with nbviewer.org.</b></div><div class=\"sk-container\" hidden><div class=\"sk-item sk-dashed-wrapped\"><div class=\"sk-label-container\"><div class=\"sk-label sk-toggleable\"><input class=\"sk-toggleable__control sk-hidden--visually\" id=\"sk-estimator-id-8\" type=\"checkbox\" ><label for=\"sk-estimator-id-8\" class=\"sk-toggleable__label sk-toggleable__label-arrow\">GridSearchCV</label><div class=\"sk-toggleable__content\"><pre>GridSearchCV(cv=5, estimator=GradientBoostingClassifier(),\n",
              "             param_grid={&#x27;learning_rate&#x27;: [0.001, 0.01, 0.015, 0.1, 0.15],\n",
              "                         &#x27;n_estimators&#x27;: [100, 200, 250]})</pre></div></div></div><div class=\"sk-parallel\"><div class=\"sk-parallel-item\"><div class=\"sk-item\"><div class=\"sk-label-container\"><div class=\"sk-label sk-toggleable\"><input class=\"sk-toggleable__control sk-hidden--visually\" id=\"sk-estimator-id-9\" type=\"checkbox\" ><label for=\"sk-estimator-id-9\" class=\"sk-toggleable__label sk-toggleable__label-arrow\">estimator: GradientBoostingClassifier</label><div class=\"sk-toggleable__content\"><pre>GradientBoostingClassifier()</pre></div></div></div><div class=\"sk-serial\"><div class=\"sk-item\"><div class=\"sk-estimator sk-toggleable\"><input class=\"sk-toggleable__control sk-hidden--visually\" id=\"sk-estimator-id-10\" type=\"checkbox\" ><label for=\"sk-estimator-id-10\" class=\"sk-toggleable__label sk-toggleable__label-arrow\">GradientBoostingClassifier</label><div class=\"sk-toggleable__content\"><pre>GradientBoostingClassifier()</pre></div></div></div></div></div></div></div></div></div></div>"
            ]
          },
          "metadata": {},
          "execution_count": 141
        }
      ]
    },
    {
      "cell_type": "code",
      "source": [
        "gscv1.best_params_"
      ],
      "metadata": {
        "colab": {
          "base_uri": "https://localhost:8080/"
        },
        "id": "ZuH7AlZ8bt7t",
        "outputId": "0fc39f0c-1f9f-452a-90ae-791d3bcd962d"
      },
      "execution_count": null,
      "outputs": [
        {
          "output_type": "execute_result",
          "data": {
            "text/plain": [
              "{'learning_rate': 0.1, 'n_estimators': 200}"
            ]
          },
          "metadata": {},
          "execution_count": 142
        }
      ]
    },
    {
      "cell_type": "code",
      "source": [
        "gscv1.best_score_"
      ],
      "metadata": {
        "colab": {
          "base_uri": "https://localhost:8080/"
        },
        "id": "gRUcYVn6b3jG",
        "outputId": "0df5970a-25d6-4ace-9b6e-1bc08a5270b0"
      },
      "execution_count": null,
      "outputs": [
        {
          "output_type": "execute_result",
          "data": {
            "text/plain": [
              "0.7408166433783574"
            ]
          },
          "metadata": {},
          "execution_count": 143
        }
      ]
    },
    {
      "cell_type": "markdown",
      "source": [
        "Considering the best model in each category we have best scores for models with given parameters\n",
        "\n",
        "*   Logistic Regression - score: 0.798  k='sag'\n",
        "*   KNN                 - score: 0.74   k=5\n",
        "*   Decision Tree       - score: 0.72   max-depth=4\n",
        "*   RFC                 - score: 0.77   max-depth=4  n-estimator=300  \n",
        "*   GBC                 - score: 0.77   learning_rate=0.1 n-estimator=300\n",
        "\n",
        "\n",
        "\n",
        "\n",
        "\n",
        "\n",
        "\n"
      ],
      "metadata": {
        "id": "AO2oAxlHYYD6"
      }
    },
    {
      "cell_type": "markdown",
      "source": [
        "The best result is shown with Logistic Regression."
      ],
      "metadata": {
        "id": "qvRLp5Dzhqwg"
      }
    },
    {
      "cell_type": "markdown",
      "source": [
        "#Final Model"
      ],
      "metadata": {
        "id": "1j1aFNFoh3T6"
      }
    },
    {
      "cell_type": "code",
      "source": [
        "#scaled data: X_std,X_std_test,y_train,y_test\n",
        "#X and y for train and test after outlier removal: X_train_1,X_test_1,y_train,y_test"
      ],
      "metadata": {
        "id": "UPd2mDsNi_CW"
      },
      "execution_count": null,
      "outputs": []
    },
    {
      "cell_type": "code",
      "source": [
        "X_new = X_train_1\n",
        "X_test_new = X_test_1"
      ],
      "metadata": {
        "id": "9A3C5mBWjrEC"
      },
      "execution_count": null,
      "outputs": []
    },
    {
      "cell_type": "code",
      "source": [
        "from sklearn.linear_model import LogisticRegression\n",
        "\n",
        "\n",
        "lrc=LogisticRegression(multi_class='multinomial', solver='saga')\n",
        "lrc.fit(X_new,y_train)\n",
        "y_pred_lrc=lrc.predict(X_test_new)\n",
        "print(\"lrc_train_score:\",lrc.score(X_new,y_train))\n",
        "print(\"lrc_test_score:\",lrc.score(X_test_new,y_test))\n",
        "print(\"lrc_f1_score:\",f1_score(y_test,y_pred,average='micro'))\n",
        "print(\"lrc_MAE:\",mean_absolute_error(y_test,y_pred))\n",
        "print(\"lrc_MSE:\",mean_squared_error(y_test,y_pred))"
      ],
      "metadata": {
        "colab": {
          "base_uri": "https://localhost:8080/"
        },
        "id": "lkLqZKV1h2iB",
        "outputId": "26b86099-ad02-40cc-b2cd-395c4099caf2"
      },
      "execution_count": null,
      "outputs": [
        {
          "output_type": "stream",
          "name": "stdout",
          "text": [
            "lrc_train_score: 0.8130511463844797\n",
            "lrc_test_score: 0.7986111111111112\n",
            "lrc_f1_score: 0.7986111111111112\n",
            "lrc_MAE: 0.2569444444444444\n",
            "lrc_MSE: 0.4097222222222222\n"
          ]
        },
        {
          "output_type": "stream",
          "name": "stderr",
          "text": [
            "/usr/local/lib/python3.9/dist-packages/sklearn/linear_model/_sag.py:350: ConvergenceWarning: The max_iter was reached which means the coef_ did not converge\n",
            "  warnings.warn(\n"
          ]
        }
      ]
    },
    {
      "cell_type": "code",
      "source": [
        "from sklearn.metrics import confusion_matrix\n",
        "import matplotlib.pyplot as plt\n",
        "from sklearn.metrics._plot.confusion_matrix import ConfusionMatrixDisplay"
      ],
      "metadata": {
        "id": "FeFFOlibkRFr"
      },
      "execution_count": null,
      "outputs": []
    },
    {
      "cell_type": "code",
      "source": [
        "cm_lrc = confusion_matrix(y_test, y_pred_lrc)\n",
        "fig_lrc=ConfusionMatrixDisplay(cm_lrc,display_labels = lrc.classes_)\n",
        "fig_lrc.plot()"
      ],
      "metadata": {
        "colab": {
          "base_uri": "https://localhost:8080/",
          "height": 296
        },
        "id": "kxB9Q5i6YW59",
        "outputId": "998e8df5-9e09-42df-f9d3-1f7b30af8f02"
      },
      "execution_count": null,
      "outputs": [
        {
          "output_type": "execute_result",
          "data": {
            "text/plain": [
              "<sklearn.metrics._plot.confusion_matrix.ConfusionMatrixDisplay at 0x7fc736b8eaf0>"
            ]
          },
          "metadata": {},
          "execution_count": 52
        },
        {
          "output_type": "display_data",
          "data": {
            "text/plain": [
              "<Figure size 432x288 with 2 Axes>"
            ],
            "image/png": "[encoded data removed]"
          },
          "metadata": {
            "needs_background": "light"
          }
        }
      ]
    },
    {
      "cell_type": "markdown",
      "source": [
        "Best score achieved :0.798"
      ],
      "metadata": {
        "id": "K0_lt014mVIh"
      }
    }
  ],
  "metadata": {
    "colab": {
      "collapsed_sections": [
        "7y3Sy1KKRQNb",
        "_jfPTFf9QccU"
      ],
      "provenance": [],
      "authorship_tag": "ABX9TyMmO+MEK4kcLNKauWtCfYAA",
      "include_colab_link": true
    },
    "kernelspec": {
      "display_name": "Python 3",
      "name": "python3"
    },
    "language_info": {
      "name": "python"
    }
  },
  "nbformat": 4,
  "nbformat_minor": 0
}