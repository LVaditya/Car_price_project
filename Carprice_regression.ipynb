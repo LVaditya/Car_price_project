{
  "nbformat": 4,
  "nbformat_minor": 0,
  "metadata": {
    "colab": {
      "provenance": [],
      "authorship_tag": "ABX9TyPNSJr7HFMAXVFMNeUW+/47",
      "include_colab_link": true
    },
    "kernelspec": {
      "name": "python3",
      "display_name": "Python 3"
    },
    "language_info": {
      "name": "python"
    }
  },
  "cells": [
    {
      "cell_type": "markdown",
      "metadata": {
        "id": "view-in-github",
        "colab_type": "text"
      },
      "source": [
        "<a href=\"https://colab.research.google.com/github/LVaditya/Car_price_project/blob/main/Carprice_regression.ipynb\" target=\"_parent\"><img src=\"https://colab.research.google.com/assets/colab-badge.svg\" alt=\"Open In Colab\"/></a>"
      ]
    },
    {
      "cell_type": "code",
      "execution_count": 1,
      "metadata": {
        "id": "Xr35e505fLQb"
      },
      "outputs": [],
      "source": [
        "import pandas as pd\n",
        "import numpy as np\n",
        "import seaborn as sns\n",
        "import matplotlib.pyplot as plt\n"
      ]
    },
    {
      "cell_type": "code",
      "source": [
        "df=pd.read_csv(\"cars_price.csv\")"
      ],
      "metadata": {
        "id": "-_lSXBWgigU5"
      },
      "execution_count": 2,
      "outputs": []
    },
    {
      "cell_type": "code",
      "source": [
        "df.head(10)"
      ],
      "metadata": {
        "id": "WNdIZV4Iircl",
        "colab": {
          "base_uri": "https://localhost:8080/",
          "height": 543
        },
        "outputId": "5c316ca1-9da7-400d-8844-56e0ad4497ef"
      },
      "execution_count": 3,
      "outputs": [
        {
          "output_type": "execute_result",
          "data": {
            "text/plain": [
              "   symboling normalized-losses         make fuel-type aspiration num-of-doors  \\\n",
              "0          3                 ?  alfa-romero       gas        std          two   \n",
              "1          3                 ?  alfa-romero       gas        std          two   \n",
              "2          1                 ?  alfa-romero       gas        std          two   \n",
              "3          2               164         audi       gas        std         four   \n",
              "4          2               164         audi       gas        std         four   \n",
              "5          2                 ?         audi       gas        std          two   \n",
              "6          1               158         audi       gas        std         four   \n",
              "7          1                 ?         audi       gas        std         four   \n",
              "8          1               158         audi       gas      turbo         four   \n",
              "9          0                 ?         audi       gas      turbo          two   \n",
              "\n",
              "    body-style drive-wheels engine-location  wheel-base  ...  engine-size  \\\n",
              "0  convertible          rwd           front        88.6  ...          130   \n",
              "1  convertible          rwd           front        88.6  ...          130   \n",
              "2    hatchback          rwd           front        94.5  ...          152   \n",
              "3        sedan          fwd           front        99.8  ...          109   \n",
              "4        sedan          4wd           front        99.4  ...          136   \n",
              "5        sedan          fwd           front        99.8  ...          136   \n",
              "6        sedan          fwd           front       105.8  ...          136   \n",
              "7        wagon          fwd           front       105.8  ...          136   \n",
              "8        sedan          fwd           front       105.8  ...          131   \n",
              "9    hatchback          4wd           front        99.5  ...          131   \n",
              "\n",
              "   fuel-system  bore  stroke compression-ratio horsepower  peak-rpm city-mpg  \\\n",
              "0         mpfi  3.47    2.68               9.0        111      5000       21   \n",
              "1         mpfi  3.47    2.68               9.0        111      5000       21   \n",
              "2         mpfi  2.68    3.47               9.0        154      5000       19   \n",
              "3         mpfi  3.19     3.4              10.0        102      5500       24   \n",
              "4         mpfi  3.19     3.4               8.0        115      5500       18   \n",
              "5         mpfi  3.19     3.4               8.5        110      5500       19   \n",
              "6         mpfi  3.19     3.4               8.5        110      5500       19   \n",
              "7         mpfi  3.19     3.4               8.5        110      5500       19   \n",
              "8         mpfi  3.13     3.4               8.3        140      5500       17   \n",
              "9         mpfi  3.13     3.4               7.0        160      5500       16   \n",
              "\n",
              "  highway-mpg  price  \n",
              "0          27  13495  \n",
              "1          27  16500  \n",
              "2          26  16500  \n",
              "3          30  13950  \n",
              "4          22  17450  \n",
              "5          25  15250  \n",
              "6          25  17710  \n",
              "7          25  18920  \n",
              "8          20  23875  \n",
              "9          22      ?  \n",
              "\n",
              "[10 rows x 26 columns]"
            ],
            "text/html": [
              "\n",
              "  <div id=\"df-121f9bec-aa5d-4df0-8914-e4be9375459f\">\n",
              "    <div class=\"colab-df-container\">\n",
              "      <div>\n",
              "<style scoped>\n",
              "    .dataframe tbody tr th:only-of-type {\n",
              "        vertical-align: middle;\n",
              "    }\n",
              "\n",
              "    .dataframe tbody tr th {\n",
              "        vertical-align: top;\n",
              "    }\n",
              "\n",
              "    .dataframe thead th {\n",
              "        text-align: right;\n",
              "    }\n",
              "</style>\n",
              "<table border=\"1\" class=\"dataframe\">\n",
              "  <thead>\n",
              "    <tr style=\"text-align: right;\">\n",
              "      <th></th>\n",
              "      <th>symboling</th>\n",
              "      <th>normalized-losses</th>\n",
              "      <th>make</th>\n",
              "      <th>fuel-type</th>\n",
              "      <th>aspiration</th>\n",
              "      <th>num-of-doors</th>\n",
              "      <th>body-style</th>\n",
              "      <th>drive-wheels</th>\n",
              "      <th>engine-location</th>\n",
              "      <th>wheel-base</th>\n",
              "      <th>...</th>\n",
              "      <th>engine-size</th>\n",
              "      <th>fuel-system</th>\n",
              "      <th>bore</th>\n",
              "      <th>stroke</th>\n",
              "      <th>compression-ratio</th>\n",
              "      <th>horsepower</th>\n",
              "      <th>peak-rpm</th>\n",
              "      <th>city-mpg</th>\n",
              "      <th>highway-mpg</th>\n",
              "      <th>price</th>\n",
              "    </tr>\n",
              "  </thead>\n",
              "  <tbody>\n",
              "    <tr>\n",
              "      <th>0</th>\n",
              "      <td>3</td>\n",
              "      <td>?</td>\n",
              "      <td>alfa-romero</td>\n",
              "      <td>gas</td>\n",
              "      <td>std</td>\n",
              "      <td>two</td>\n",
              "      <td>convertible</td>\n",
              "      <td>rwd</td>\n",
              "      <td>front</td>\n",
              "      <td>88.6</td>\n",
              "      <td>...</td>\n",
              "      <td>130</td>\n",
              "      <td>mpfi</td>\n",
              "      <td>3.47</td>\n",
              "      <td>2.68</td>\n",
              "      <td>9.0</td>\n",
              "      <td>111</td>\n",
              "      <td>5000</td>\n",
              "      <td>21</td>\n",
              "      <td>27</td>\n",
              "      <td>13495</td>\n",
              "    </tr>\n",
              "    <tr>\n",
              "      <th>1</th>\n",
              "      <td>3</td>\n",
              "      <td>?</td>\n",
              "      <td>alfa-romero</td>\n",
              "      <td>gas</td>\n",
              "      <td>std</td>\n",
              "      <td>two</td>\n",
              "      <td>convertible</td>\n",
              "      <td>rwd</td>\n",
              "      <td>front</td>\n",
              "      <td>88.6</td>\n",
              "      <td>...</td>\n",
              "      <td>130</td>\n",
              "      <td>mpfi</td>\n",
              "      <td>3.47</td>\n",
              "      <td>2.68</td>\n",
              "      <td>9.0</td>\n",
              "      <td>111</td>\n",
              "      <td>5000</td>\n",
              "      <td>21</td>\n",
              "      <td>27</td>\n",
              "      <td>16500</td>\n",
              "    </tr>\n",
              "    <tr>\n",
              "      <th>2</th>\n",
              "      <td>1</td>\n",
              "      <td>?</td>\n",
              "      <td>alfa-romero</td>\n",
              "      <td>gas</td>\n",
              "      <td>std</td>\n",
              "      <td>two</td>\n",
              "      <td>hatchback</td>\n",
              "      <td>rwd</td>\n",
              "      <td>front</td>\n",
              "      <td>94.5</td>\n",
              "      <td>...</td>\n",
              "      <td>152</td>\n",
              "      <td>mpfi</td>\n",
              "      <td>2.68</td>\n",
              "      <td>3.47</td>\n",
              "      <td>9.0</td>\n",
              "      <td>154</td>\n",
              "      <td>5000</td>\n",
              "      <td>19</td>\n",
              "      <td>26</td>\n",
              "      <td>16500</td>\n",
              "    </tr>\n",
              "    <tr>\n",
              "      <th>3</th>\n",
              "      <td>2</td>\n",
              "      <td>164</td>\n",
              "      <td>audi</td>\n",
              "      <td>gas</td>\n",
              "      <td>std</td>\n",
              "      <td>four</td>\n",
              "      <td>sedan</td>\n",
              "      <td>fwd</td>\n",
              "      <td>front</td>\n",
              "      <td>99.8</td>\n",
              "      <td>...</td>\n",
              "      <td>109</td>\n",
              "      <td>mpfi</td>\n",
              "      <td>3.19</td>\n",
              "      <td>3.4</td>\n",
              "      <td>10.0</td>\n",
              "      <td>102</td>\n",
              "      <td>5500</td>\n",
              "      <td>24</td>\n",
              "      <td>30</td>\n",
              "      <td>13950</td>\n",
              "    </tr>\n",
              "    <tr>\n",
              "      <th>4</th>\n",
              "      <td>2</td>\n",
              "      <td>164</td>\n",
              "      <td>audi</td>\n",
              "      <td>gas</td>\n",
              "      <td>std</td>\n",
              "      <td>four</td>\n",
              "      <td>sedan</td>\n",
              "      <td>4wd</td>\n",
              "      <td>front</td>\n",
              "      <td>99.4</td>\n",
              "      <td>...</td>\n",
              "      <td>136</td>\n",
              "      <td>mpfi</td>\n",
              "      <td>3.19</td>\n",
              "      <td>3.4</td>\n",
              "      <td>8.0</td>\n",
              "      <td>115</td>\n",
              "      <td>5500</td>\n",
              "      <td>18</td>\n",
              "      <td>22</td>\n",
              "      <td>17450</td>\n",
              "    </tr>\n",
              "    <tr>\n",
              "      <th>5</th>\n",
              "      <td>2</td>\n",
              "      <td>?</td>\n",
              "      <td>audi</td>\n",
              "      <td>gas</td>\n",
              "      <td>std</td>\n",
              "      <td>two</td>\n",
              "      <td>sedan</td>\n",
              "      <td>fwd</td>\n",
              "      <td>front</td>\n",
              "      <td>99.8</td>\n",
              "      <td>...</td>\n",
              "      <td>136</td>\n",
              "      <td>mpfi</td>\n",
              "      <td>3.19</td>\n",
              "      <td>3.4</td>\n",
              "      <td>8.5</td>\n",
              "      <td>110</td>\n",
              "      <td>5500</td>\n",
              "      <td>19</td>\n",
              "      <td>25</td>\n",
              "      <td>15250</td>\n",
              "    </tr>\n",
              "    <tr>\n",
              "      <th>6</th>\n",
              "      <td>1</td>\n",
              "      <td>158</td>\n",
              "      <td>audi</td>\n",
              "      <td>gas</td>\n",
              "      <td>std</td>\n",
              "      <td>four</td>\n",
              "      <td>sedan</td>\n",
              "      <td>fwd</td>\n",
              "      <td>front</td>\n",
              "      <td>105.8</td>\n",
              "      <td>...</td>\n",
              "      <td>136</td>\n",
              "      <td>mpfi</td>\n",
              "      <td>3.19</td>\n",
              "      <td>3.4</td>\n",
              "      <td>8.5</td>\n",
              "      <td>110</td>\n",
              "      <td>5500</td>\n",
              "      <td>19</td>\n",
              "      <td>25</td>\n",
              "      <td>17710</td>\n",
              "    </tr>\n",
              "    <tr>\n",
              "      <th>7</th>\n",
              "      <td>1</td>\n",
              "      <td>?</td>\n",
              "      <td>audi</td>\n",
              "      <td>gas</td>\n",
              "      <td>std</td>\n",
              "      <td>four</td>\n",
              "      <td>wagon</td>\n",
              "      <td>fwd</td>\n",
              "      <td>front</td>\n",
              "      <td>105.8</td>\n",
              "      <td>...</td>\n",
              "      <td>136</td>\n",
              "      <td>mpfi</td>\n",
              "      <td>3.19</td>\n",
              "      <td>3.4</td>\n",
              "      <td>8.5</td>\n",
              "      <td>110</td>\n",
              "      <td>5500</td>\n",
              "      <td>19</td>\n",
              "      <td>25</td>\n",
              "      <td>18920</td>\n",
              "    </tr>\n",
              "    <tr>\n",
              "      <th>8</th>\n",
              "      <td>1</td>\n",
              "      <td>158</td>\n",
              "      <td>audi</td>\n",
              "      <td>gas</td>\n",
              "      <td>turbo</td>\n",
              "      <td>four</td>\n",
              "      <td>sedan</td>\n",
              "      <td>fwd</td>\n",
              "      <td>front</td>\n",
              "      <td>105.8</td>\n",
              "      <td>...</td>\n",
              "      <td>131</td>\n",
              "      <td>mpfi</td>\n",
              "      <td>3.13</td>\n",
              "      <td>3.4</td>\n",
              "      <td>8.3</td>\n",
              "      <td>140</td>\n",
              "      <td>5500</td>\n",
              "      <td>17</td>\n",
              "      <td>20</td>\n",
              "      <td>23875</td>\n",
              "    </tr>\n",
              "    <tr>\n",
              "      <th>9</th>\n",
              "      <td>0</td>\n",
              "      <td>?</td>\n",
              "      <td>audi</td>\n",
              "      <td>gas</td>\n",
              "      <td>turbo</td>\n",
              "      <td>two</td>\n",
              "      <td>hatchback</td>\n",
              "      <td>4wd</td>\n",
              "      <td>front</td>\n",
              "      <td>99.5</td>\n",
              "      <td>...</td>\n",
              "      <td>131</td>\n",
              "      <td>mpfi</td>\n",
              "      <td>3.13</td>\n",
              "      <td>3.4</td>\n",
              "      <td>7.0</td>\n",
              "      <td>160</td>\n",
              "      <td>5500</td>\n",
              "      <td>16</td>\n",
              "      <td>22</td>\n",
              "      <td>?</td>\n",
              "    </tr>\n",
              "  </tbody>\n",
              "</table>\n",
              "<p>10 rows × 26 columns</p>\n",
              "</div>\n",
              "      <button class=\"colab-df-convert\" onclick=\"convertToInteractive('df-121f9bec-aa5d-4df0-8914-e4be9375459f')\"\n",
              "              title=\"Convert this dataframe to an interactive table.\"\n",
              "              style=\"display:none;\">\n",
              "        \n",
              "  <svg xmlns=\"http://www.w3.org/2000/svg\" height=\"24px\"viewBox=\"0 0 24 24\"\n",
              "       width=\"24px\">\n",
              "    <path d=\"M0 0h24v24H0V0z\" fill=\"none\"/>\n",
              "    <path d=\"M18.56 5.44l.94 2.06.94-2.06 2.06-.94-2.06-.94-.94-2.06-.94 2.06-2.06.94zm-11 1L8.5 8.5l.94-2.06 2.06-.94-2.06-.94L8.5 2.5l-.94 2.06-2.06.94zm10 10l.94 2.06.94-2.06 2.06-.94-2.06-.94-.94-2.06-.94 2.06-2.06.94z\"/><path d=\"M17.41 7.96l-1.37-1.37c-.4-.4-.92-.59-1.43-.59-.52 0-1.04.2-1.43.59L10.3 9.45l-7.72 7.72c-.78.78-.78 2.05 0 2.83L4 21.41c.39.39.9.59 1.41.59.51 0 1.02-.2 1.41-.59l7.78-7.78 2.81-2.81c.8-.78.8-2.07 0-2.86zM5.41 20L4 18.59l7.72-7.72 1.47 1.35L5.41 20z\"/>\n",
              "  </svg>\n",
              "      </button>\n",
              "      \n",
              "  <style>\n",
              "    .colab-df-container {\n",
              "      display:flex;\n",
              "      flex-wrap:wrap;\n",
              "      gap: 12px;\n",
              "    }\n",
              "\n",
              "    .colab-df-convert {\n",
              "      background-color: #E8F0FE;\n",
              "      border: none;\n",
              "      border-radius: 50%;\n",
              "      cursor: pointer;\n",
              "      display: none;\n",
              "      fill: #1967D2;\n",
              "      height: 32px;\n",
              "      padding: 0 0 0 0;\n",
              "      width: 32px;\n",
              "    }\n",
              "\n",
              "    .colab-df-convert:hover {\n",
              "      background-color: #E2EBFA;\n",
              "      box-shadow: 0px 1px 2px rgba(60, 64, 67, 0.3), 0px 1px 3px 1px rgba(60, 64, 67, 0.15);\n",
              "      fill: #174EA6;\n",
              "    }\n",
              "\n",
              "    [theme=dark] .colab-df-convert {\n",
              "      background-color: #3B4455;\n",
              "      fill: #D2E3FC;\n",
              "    }\n",
              "\n",
              "    [theme=dark] .colab-df-convert:hover {\n",
              "      background-color: #434B5C;\n",
              "      box-shadow: 0px 1px 3px 1px rgba(0, 0, 0, 0.15);\n",
              "      filter: drop-shadow(0px 1px 2px rgba(0, 0, 0, 0.3));\n",
              "      fill: #FFFFFF;\n",
              "    }\n",
              "  </style>\n",
              "\n",
              "      <script>\n",
              "        const buttonEl =\n",
              "          document.querySelector('#df-121f9bec-aa5d-4df0-8914-e4be9375459f button.colab-df-convert');\n",
              "        buttonEl.style.display =\n",
              "          google.colab.kernel.accessAllowed ? 'block' : 'none';\n",
              "\n",
              "        async function convertToInteractive(key) {\n",
              "          const element = document.querySelector('#df-121f9bec-aa5d-4df0-8914-e4be9375459f');\n",
              "          const dataTable =\n",
              "            await google.colab.kernel.invokeFunction('convertToInteractive',\n",
              "                                                     [key], {});\n",
              "          if (!dataTable) return;\n",
              "\n",
              "          const docLinkHtml = 'Like what you see? Visit the ' +\n",
              "            '<a target=\"_blank\" href=https://colab.research.google.com/notebooks/data_table.ipynb>data table notebook</a>'\n",
              "            + ' to learn more about interactive tables.';\n",
              "          element.innerHTML = '';\n",
              "          dataTable['output_type'] = 'display_data';\n",
              "          await google.colab.output.renderOutput(dataTable, element);\n",
              "          const docLink = document.createElement('div');\n",
              "          docLink.innerHTML = docLinkHtml;\n",
              "          element.appendChild(docLink);\n",
              "        }\n",
              "      </script>\n",
              "    </div>\n",
              "  </div>\n",
              "  "
            ]
          },
          "metadata": {},
          "execution_count": 3
        }
      ]
    },
    {
      "cell_type": "code",
      "source": [
        "cols=df.columns       #column names are saved for using it later"
      ],
      "metadata": {
        "id": "kIJLoLZFLMk_"
      },
      "execution_count": 4,
      "outputs": []
    },
    {
      "cell_type": "code",
      "source": [
        "df.info()         #this will give the datatype of each feature"
      ],
      "metadata": {
        "colab": {
          "base_uri": "https://localhost:8080/"
        },
        "id": "2Ovw5ZKTiwTL",
        "outputId": "35b10c17-d74e-493a-eb59-39650987334b"
      },
      "execution_count": null,
      "outputs": [
        {
          "output_type": "stream",
          "name": "stdout",
          "text": [
            "<class 'pandas.core.frame.DataFrame'>\n",
            "RangeIndex: 205 entries, 0 to 204\n",
            "Data columns (total 26 columns):\n",
            " #   Column             Non-Null Count  Dtype  \n",
            "---  ------             --------------  -----  \n",
            " 0   symboling          205 non-null    int64  \n",
            " 1   normalized-losses  205 non-null    object \n",
            " 2   make               205 non-null    object \n",
            " 3   fuel-type          205 non-null    object \n",
            " 4   aspiration         205 non-null    object \n",
            " 5   num-of-doors       205 non-null    object \n",
            " 6   body-style         205 non-null    object \n",
            " 7   drive-wheels       205 non-null    object \n",
            " 8   engine-location    205 non-null    object \n",
            " 9   wheel-base         205 non-null    float64\n",
            " 10  length             205 non-null    float64\n",
            " 11  width              205 non-null    float64\n",
            " 12  height             205 non-null    float64\n",
            " 13  curb-weight        205 non-null    int64  \n",
            " 14  engine-type        205 non-null    object \n",
            " 15  num-of-cylinders   205 non-null    object \n",
            " 16  engine-size        205 non-null    int64  \n",
            " 17  fuel-system        205 non-null    object \n",
            " 18  bore               205 non-null    object \n",
            " 19  stroke             205 non-null    object \n",
            " 20  compression-ratio  205 non-null    float64\n",
            " 21  horsepower         205 non-null    object \n",
            " 22  peak-rpm           205 non-null    object \n",
            " 23  city-mpg           205 non-null    int64  \n",
            " 24  highway-mpg        205 non-null    int64  \n",
            " 25  price              205 non-null    object \n",
            "dtypes: float64(5), int64(5), object(16)\n",
            "memory usage: 41.8+ KB\n"
          ]
        }
      ]
    },
    {
      "cell_type": "code",
      "source": [
        "#from the header we know there are values that are given as '?',replace them to null values to get actual number of null values\n",
        "df.replace('?',np.NaN, inplace= True)"
      ],
      "metadata": {
        "id": "ikG8yc0mi_8X"
      },
      "execution_count": 5,
      "outputs": []
    },
    {
      "cell_type": "code",
      "source": [
        "df.isnull().sum() #we can see there are null values in many features."
      ],
      "metadata": {
        "colab": {
          "base_uri": "https://localhost:8080/"
        },
        "id": "EP0sh2ZNjNHO",
        "outputId": "b0550b10-46e5-4f80-9aaa-df1655347d4f"
      },
      "execution_count": null,
      "outputs": [
        {
          "output_type": "execute_result",
          "data": {
            "text/plain": [
              "symboling             0\n",
              "normalized-losses    41\n",
              "make                  0\n",
              "fuel-type             0\n",
              "aspiration            0\n",
              "num-of-doors          2\n",
              "body-style            0\n",
              "drive-wheels          0\n",
              "engine-location       0\n",
              "wheel-base            0\n",
              "length                0\n",
              "width                 0\n",
              "height                0\n",
              "curb-weight           0\n",
              "engine-type           0\n",
              "num-of-cylinders      0\n",
              "engine-size           0\n",
              "fuel-system           0\n",
              "bore                  4\n",
              "stroke                4\n",
              "compression-ratio     0\n",
              "horsepower            2\n",
              "peak-rpm              2\n",
              "city-mpg              0\n",
              "highway-mpg           0\n",
              "price                 4\n",
              "dtype: int64"
            ]
          },
          "metadata": {},
          "execution_count": 8
        }
      ]
    },
    {
      "cell_type": "markdown",
      "source": [
        "Very high number of null values in feature 'normalized-losses'. We can fill them with median value.for others since only few values we can drop rows with null values."
      ],
      "metadata": {
        "id": "CygqsccssseE"
      }
    },
    {
      "cell_type": "code",
      "source": [
        "df['normalized-losses']=df['normalized-losses'].fillna(df['normalized-losses'].median())"
      ],
      "metadata": {
        "id": "OBFSw8d_h5qQ"
      },
      "execution_count": 6,
      "outputs": []
    },
    {
      "cell_type": "code",
      "source": [
        "df.dropna(axis =0, inplace = True )"
      ],
      "metadata": {
        "id": "1Iiuuxse8Ijj"
      },
      "execution_count": 7,
      "outputs": []
    },
    {
      "cell_type": "code",
      "source": [
        "for each in cols:                                                       #taking value count of each feature\n",
        "  print(each, df[each].value_counts())       #'make' has many unique values. enoding it to numerical values will increase the complexity"
      ],
      "metadata": {
        "colab": {
          "base_uri": "https://localhost:8080/"
        },
        "id": "Phi8sg6ZiajS",
        "outputId": "f184e389-1b39-4540-d74b-d006acd3b907"
      },
      "execution_count": 8,
      "outputs": [
        {
          "output_type": "stream",
          "name": "stdout",
          "text": [
            "symboling  0    63\n",
            " 1    51\n",
            " 2    31\n",
            " 3    23\n",
            "-1    22\n",
            "-2     3\n",
            "Name: symboling, dtype: int64\n",
            "normalized-losses 115.0    34\n",
            "161      11\n",
            "91        8\n",
            "134       6\n",
            "128       6\n",
            "104       6\n",
            "85        5\n",
            "94        5\n",
            "65        5\n",
            "102       5\n",
            "74        5\n",
            "168       5\n",
            "103       5\n",
            "95        5\n",
            "93        4\n",
            "106       4\n",
            "118       4\n",
            "122       4\n",
            "125       3\n",
            "83        3\n",
            "150       3\n",
            "154       3\n",
            "148       3\n",
            "115       3\n",
            "101       3\n",
            "137       3\n",
            "158       2\n",
            "145       2\n",
            "87        2\n",
            "89        2\n",
            "197       2\n",
            "81        2\n",
            "119       2\n",
            "113       2\n",
            "194       2\n",
            "108       2\n",
            "129       2\n",
            "188       2\n",
            "110       2\n",
            "164       2\n",
            "153       2\n",
            "192       2\n",
            "90        1\n",
            "256       1\n",
            "78        1\n",
            "121       1\n",
            "77        1\n",
            "98        1\n",
            "186       1\n",
            "142       1\n",
            "107       1\n",
            "231       1\n",
            "Name: normalized-losses, dtype: int64\n",
            "make toyota           32\n",
            "nissan           18\n",
            "honda            13\n",
            "mitsubishi       13\n",
            "volkswagen       12\n",
            "subaru           12\n",
            "mazda            12\n",
            "volvo            11\n",
            "peugot           11\n",
            "bmw               8\n",
            "dodge             8\n",
            "mercedes-benz     8\n",
            "plymouth          7\n",
            "saab              6\n",
            "audi              6\n",
            "porsche           4\n",
            "alfa-romero       3\n",
            "jaguar            3\n",
            "chevrolet         3\n",
            "isuzu             2\n",
            "mercury           1\n",
            "Name: make, dtype: int64\n",
            "fuel-type gas       174\n",
            "diesel     19\n",
            "Name: fuel-type, dtype: int64\n",
            "aspiration std      158\n",
            "turbo     35\n",
            "Name: aspiration, dtype: int64\n",
            "num-of-doors four    112\n",
            "two      81\n",
            "Name: num-of-doors, dtype: int64\n",
            "body-style sedan          92\n",
            "hatchback      63\n",
            "wagon          24\n",
            "hardtop         8\n",
            "convertible     6\n",
            "Name: body-style, dtype: int64\n",
            "drive-wheels fwd    114\n",
            "rwd     71\n",
            "4wd      8\n",
            "Name: drive-wheels, dtype: int64\n",
            "engine-location front    190\n",
            "rear       3\n",
            "Name: engine-location, dtype: int64\n",
            "wheel-base 94.5     19\n",
            "93.7     19\n",
            "95.7     13\n",
            "96.5      8\n",
            "97.3      7\n",
            "98.4      6\n",
            "104.3     6\n",
            "100.4     6\n",
            "107.9     6\n",
            "99.1      6\n",
            "96.3      6\n",
            "98.8      5\n",
            "93.1      5\n",
            "109.1     5\n",
            "102.4     5\n",
            "95.9      5\n",
            "97.2      5\n",
            "97.0      4\n",
            "114.2     4\n",
            "101.2     4\n",
            "110.0     3\n",
            "89.5      3\n",
            "103.5     3\n",
            "105.8     3\n",
            "96.9      2\n",
            "102.9     2\n",
            "104.5     2\n",
            "91.3      2\n",
            "88.6      2\n",
            "113.0     2\n",
            "99.8      2\n",
            "103.3     2\n",
            "115.6     2\n",
            "86.6      2\n",
            "104.9     2\n",
            "95.1      1\n",
            "99.4      1\n",
            "88.4      1\n",
            "94.3      1\n",
            "96.0      1\n",
            "93.3      1\n",
            "102.0     1\n",
            "93.0      1\n",
            "106.7     1\n",
            "108.0     1\n",
            "96.6      1\n",
            "99.2      1\n",
            "120.9     1\n",
            "102.7     1\n",
            "112.0     1\n",
            "Name: wheel-base, dtype: int64\n",
            "length 157.3    14\n",
            "188.8    11\n",
            "171.7     7\n",
            "186.7     7\n",
            "166.3     7\n",
            "         ..\n",
            "165.6     1\n",
            "187.5     1\n",
            "180.3     1\n",
            "208.1     1\n",
            "199.2     1\n",
            "Name: length, Length: 71, dtype: int64\n",
            "width 63.8    23\n",
            "66.5    21\n",
            "65.4    15\n",
            "68.4    10\n",
            "64.4    10\n",
            "64.0     9\n",
            "63.6     9\n",
            "65.5     8\n",
            "65.2     7\n",
            "64.2     6\n",
            "65.6     6\n",
            "66.3     6\n",
            "67.2     6\n",
            "66.9     5\n",
            "64.8     4\n",
            "68.9     4\n",
            "67.9     4\n",
            "71.7     3\n",
            "63.9     3\n",
            "65.0     3\n",
            "70.3     3\n",
            "71.4     3\n",
            "68.3     2\n",
            "67.7     2\n",
            "64.1     2\n",
            "69.6     2\n",
            "66.1     2\n",
            "64.6     2\n",
            "70.5     1\n",
            "72.0     1\n",
            "68.0     1\n",
            "70.6     1\n",
            "61.8     1\n",
            "66.0     1\n",
            "62.5     1\n",
            "63.4     1\n",
            "60.3     1\n",
            "70.9     1\n",
            "66.4     1\n",
            "66.2     1\n",
            "68.8     1\n",
            "Name: width, dtype: int64\n",
            "height 50.8    14\n",
            "55.7    12\n",
            "54.1    10\n",
            "54.5    10\n",
            "52.0     9\n",
            "54.3     8\n",
            "55.5     8\n",
            "56.7     8\n",
            "52.6     7\n",
            "51.6     7\n",
            "56.1     7\n",
            "50.2     6\n",
            "52.8     6\n",
            "54.9     6\n",
            "53.0     6\n",
            "55.1     5\n",
            "53.7     5\n",
            "50.6     4\n",
            "53.3     4\n",
            "58.7     4\n",
            "52.5     3\n",
            "49.7     3\n",
            "59.1     3\n",
            "53.5     3\n",
            "56.2     3\n",
            "57.5     3\n",
            "54.7     2\n",
            "53.9     2\n",
            "49.4     2\n",
            "48.8     2\n",
            "56.5     2\n",
            "54.4     2\n",
            "51.4     2\n",
            "59.8     2\n",
            "56.3     2\n",
            "55.4     1\n",
            "54.8     1\n",
            "52.4     1\n",
            "51.0     1\n",
            "58.3     1\n",
            "56.0     1\n",
            "53.2     1\n",
            "55.9     1\n",
            "55.6     1\n",
            "53.1     1\n",
            "47.8     1\n",
            "Name: height, dtype: int64\n",
            "curb-weight 2385    3\n",
            "1918    3\n",
            "1989    3\n",
            "2275    3\n",
            "2756    2\n",
            "       ..\n",
            "2370    1\n",
            "2328    1\n",
            "2833    1\n",
            "2921    1\n",
            "3062    1\n",
            "Name: curb-weight, Length: 165, dtype: int64\n",
            "engine-type ohc     141\n",
            "ohcf     15\n",
            "ohcv     13\n",
            "dohc     12\n",
            "l        12\n",
            "Name: engine-type, dtype: int64\n",
            "num-of-cylinders four      153\n",
            "six        24\n",
            "five       10\n",
            "eight       4\n",
            "three       1\n",
            "twelve      1\n",
            "Name: num-of-cylinders, dtype: int64\n",
            "engine-size 92     15\n",
            "97     14\n",
            "122    14\n",
            "108    13\n",
            "98     13\n",
            "110    12\n",
            "90     10\n",
            "109     8\n",
            "120     7\n",
            "141     7\n",
            "146     6\n",
            "121     6\n",
            "181     6\n",
            "152     6\n",
            "91      5\n",
            "156     5\n",
            "136     5\n",
            "183     4\n",
            "130     4\n",
            "194     3\n",
            "171     3\n",
            "164     3\n",
            "209     3\n",
            "140     2\n",
            "134     2\n",
            "234     2\n",
            "258     2\n",
            "326     1\n",
            "173     1\n",
            "131     1\n",
            "161     1\n",
            "79      1\n",
            "151     1\n",
            "61      1\n",
            "103     1\n",
            "111     1\n",
            "304     1\n",
            "308     1\n",
            "119     1\n",
            "145     1\n",
            "Name: engine-size, dtype: int64\n",
            "fuel-system mpfi    88\n",
            "2bbl    64\n",
            "idi     19\n",
            "1bbl    11\n",
            "spdi     9\n",
            "mfi      1\n",
            "spfi     1\n",
            "Name: fuel-system, dtype: int64\n",
            "bore 3.62    23\n",
            "3.19    20\n",
            "3.15    15\n",
            "2.97    12\n",
            "3.03     9\n",
            "3.43     8\n",
            "3.31     8\n",
            "3.78     8\n",
            "3.46     7\n",
            "3.27     7\n",
            "2.91     7\n",
            "3.54     6\n",
            "3.05     6\n",
            "3.58     6\n",
            "3.01     5\n",
            "3.7      5\n",
            "3.39     5\n",
            "3.35     4\n",
            "3.74     3\n",
            "3.59     3\n",
            "3.17     3\n",
            "3.33     2\n",
            "3.24     2\n",
            "3.47     2\n",
            "3.8      2\n",
            "3.63     2\n",
            "3.5      2\n",
            "2.68     1\n",
            "3.08     1\n",
            "2.99     1\n",
            "2.92     1\n",
            "3.61     1\n",
            "3.94     1\n",
            "3.6      1\n",
            "2.54     1\n",
            "3.34     1\n",
            "3.13     1\n",
            "3.76     1\n",
            "Name: bore, dtype: int64\n",
            "stroke 3.4     19\n",
            "3.15    14\n",
            "3.03    14\n",
            "3.23    14\n",
            "3.39    11\n",
            "2.64    11\n",
            "3.29     9\n",
            "3.35     9\n",
            "3.46     8\n",
            "3.27     6\n",
            "3.58     6\n",
            "3.07     6\n",
            "3.41     6\n",
            "3.5      6\n",
            "3.19     6\n",
            "3.52     5\n",
            "3.64     5\n",
            "3.47     4\n",
            "3.54     4\n",
            "3.86     4\n",
            "3.11     3\n",
            "2.9      3\n",
            "3.08     2\n",
            "2.19     2\n",
            "2.68     2\n",
            "3.1      2\n",
            "4.17     2\n",
            "2.8      2\n",
            "3.12     1\n",
            "3.21     1\n",
            "3.16     1\n",
            "2.07     1\n",
            "2.36     1\n",
            "2.76     1\n",
            "3.9      1\n",
            "2.87     1\n",
            "Name: stroke, dtype: int64\n",
            "compression-ratio 9.00     46\n",
            "9.40     22\n",
            "8.50     14\n",
            "9.50     13\n",
            "9.30     11\n",
            "8.00      8\n",
            "9.20      8\n",
            "8.70      7\n",
            "7.00      6\n",
            "8.60      5\n",
            "21.00     5\n",
            "8.40      5\n",
            "7.50      5\n",
            "23.00     5\n",
            "21.50     4\n",
            "9.60      3\n",
            "22.50     3\n",
            "8.30      3\n",
            "7.60      3\n",
            "8.80      3\n",
            "8.10      2\n",
            "7.70      2\n",
            "10.00     2\n",
            "9.31      1\n",
            "9.10      1\n",
            "9.41      1\n",
            "21.90     1\n",
            "22.00     1\n",
            "10.10     1\n",
            "11.50     1\n",
            "7.80      1\n",
            "Name: compression-ratio, dtype: int64\n",
            "horsepower 68     19\n",
            "69     10\n",
            "116     9\n",
            "70      9\n",
            "110     8\n",
            "95      7\n",
            "114     6\n",
            "88      6\n",
            "62      6\n",
            "160     5\n",
            "76      5\n",
            "97      5\n",
            "82      5\n",
            "84      5\n",
            "145     5\n",
            "111     4\n",
            "92      4\n",
            "123     4\n",
            "86      4\n",
            "102     4\n",
            "90      3\n",
            "85      3\n",
            "182     3\n",
            "73      3\n",
            "207     3\n",
            "121     3\n",
            "101     3\n",
            "152     3\n",
            "161     2\n",
            "112     2\n",
            "56      2\n",
            "156     2\n",
            "52      2\n",
            "94      2\n",
            "162     2\n",
            "184     2\n",
            "176     2\n",
            "155     2\n",
            "100     2\n",
            "78      1\n",
            "134     1\n",
            "115     1\n",
            "140     1\n",
            "48      1\n",
            "58      1\n",
            "60      1\n",
            "200     1\n",
            "55      1\n",
            "262     1\n",
            "120     1\n",
            "72      1\n",
            "154     1\n",
            "175     1\n",
            "143     1\n",
            "142     1\n",
            "106     1\n",
            "Name: horsepower, dtype: int64\n",
            "peak-rpm 4800    36\n",
            "5500    35\n",
            "5000    27\n",
            "5200    23\n",
            "5400    11\n",
            "4500     7\n",
            "5800     7\n",
            "5250     7\n",
            "4150     5\n",
            "6000     5\n",
            "4200     5\n",
            "4350     4\n",
            "4750     4\n",
            "5100     3\n",
            "5900     3\n",
            "4250     3\n",
            "4400     3\n",
            "6600     2\n",
            "5600     1\n",
            "4900     1\n",
            "5300     1\n",
            "Name: peak-rpm, dtype: int64\n",
            "city-mpg 31    28\n",
            "19    27\n",
            "24    21\n",
            "27    14\n",
            "26    12\n",
            "23    10\n",
            "17     9\n",
            "21     8\n",
            "25     8\n",
            "30     8\n",
            "28     7\n",
            "37     6\n",
            "38     5\n",
            "16     4\n",
            "22     4\n",
            "15     3\n",
            "20     3\n",
            "18     3\n",
            "29     3\n",
            "14     2\n",
            "13     1\n",
            "49     1\n",
            "45     1\n",
            "47     1\n",
            "32     1\n",
            "35     1\n",
            "34     1\n",
            "33     1\n",
            "Name: city-mpg, dtype: int64\n",
            "highway-mpg 25    19\n",
            "24    17\n",
            "38    17\n",
            "32    16\n",
            "30    15\n",
            "34    14\n",
            "37    13\n",
            "28    12\n",
            "29    10\n",
            "33     9\n",
            "22     7\n",
            "31     6\n",
            "27     5\n",
            "26     3\n",
            "41     3\n",
            "23     3\n",
            "39     2\n",
            "18     2\n",
            "47     2\n",
            "36     2\n",
            "20     2\n",
            "16     2\n",
            "46     2\n",
            "42     2\n",
            "19     2\n",
            "43     2\n",
            "53     1\n",
            "50     1\n",
            "17     1\n",
            "54     1\n",
            "Name: highway-mpg, dtype: int64\n",
            "price 9279     2\n",
            "18150    2\n",
            "7775     2\n",
            "8845     2\n",
            "8921     2\n",
            "        ..\n",
            "6189     1\n",
            "6669     1\n",
            "7689     1\n",
            "9959     1\n",
            "22625    1\n",
            "Name: price, Length: 178, dtype: int64\n"
          ]
        }
      ]
    },
    {
      "cell_type": "markdown",
      "source": [
        "Splitting data into feature matrix and target. In data we can see there are values that are object type. We can keep all the numerical values but need to handle categorical features."
      ],
      "metadata": {
        "id": "zSnTKJZMtjHg"
      }
    },
    {
      "cell_type": "code",
      "source": [
        "y = df['price']"
      ],
      "metadata": {
        "id": "s3TcBS0h_EHJ"
      },
      "execution_count": 9,
      "outputs": []
    },
    {
      "cell_type": "code",
      "source": [
        "X = df.drop('price', axis = 1)"
      ],
      "metadata": {
        "id": "RPXylEjg_bPh"
      },
      "execution_count": 10,
      "outputs": []
    },
    {
      "cell_type": "code",
      "source": [
        "sns.countplot(x='num-of-cylinders',data=df)         #we can see the feature is distributed in an imbalanced manner. There is a possibility\n",
        "                                                    #of not having certain values in test data."
      ],
      "metadata": {
        "colab": {
          "base_uri": "https://localhost:8080/",
          "height": 299
        },
        "id": "la6JEvEeGDuc",
        "outputId": "a5f60e4b-a448-4dda-b575-34e5ae0b50b7"
      },
      "execution_count": 11,
      "outputs": [
        {
          "output_type": "execute_result",
          "data": {
            "text/plain": [
              "<Axes: xlabel='num-of-cylinders', ylabel='count'>"
            ]
          },
          "metadata": {},
          "execution_count": 11
        },
        {
          "output_type": "display_data",
          "data": {
            "text/plain": [
              "<Figure size 432x288 with 1 Axes>"
            ],
            "image/png": "[encoded data removed]"
          },
          "metadata": {
            "needs_background": "light"
          }
        }
      ]
    },
    {
      "cell_type": "code",
      "source": [
        "plt.scatter(df['price'],df['body-style'])       #visualizing how body-style affects price\n",
        "plt.xlabel('price of the car')\n",
        "plt.ylabel('body-style')\n",
        "plt.title('price  vs  body-style')"
      ],
      "metadata": {
        "colab": {
          "base_uri": "https://localhost:8080/",
          "height": 312
        },
        "id": "6MeoLl3IIRII",
        "outputId": "3260a313-0282-4e0c-a050-9ca4f22e7793"
      },
      "execution_count": 19,
      "outputs": [
        {
          "output_type": "execute_result",
          "data": {
            "text/plain": [
              "Text(0.5, 1.0, 'price  vs  body-style')"
            ]
          },
          "metadata": {},
          "execution_count": 19
        },
        {
          "output_type": "display_data",
          "data": {
            "text/plain": [
              "<Figure size 432x288 with 1 Axes>"
            ],
            "image/png": "[encoded data removed]"
          },
          "metadata": {
            "needs_background": "light"
          }
        }
      ]
    },
    {
      "cell_type": "markdown",
      "source": [
        "Splitting data into train and test"
      ],
      "metadata": {
        "id": "1gOyaiUd91yB"
      }
    },
    {
      "cell_type": "code",
      "source": [
        "from sklearn.model_selection import train_test_split"
      ],
      "metadata": {
        "id": "yr8o3W9Q9zT1"
      },
      "execution_count": 32,
      "outputs": []
    },
    {
      "cell_type": "code",
      "source": [
        "X_train, X_test, y_train, y_test= train_test_split(X,y, test_size=0.2, random_state = 0)"
      ],
      "metadata": {
        "id": "-4Ona-9R-yFQ"
      },
      "execution_count": 33,
      "outputs": []
    },
    {
      "cell_type": "code",
      "source": [
        "y_train"
      ],
      "metadata": {
        "colab": {
          "base_uri": "https://localhost:8080/"
        },
        "id": "KLfvfwiLHRl-",
        "outputId": "4321b77a-b584-42d7-9daf-02d11cbacc07"
      },
      "execution_count": null,
      "outputs": [
        {
          "output_type": "execute_result",
          "data": {
            "text/plain": [
              "137    11694\n",
              "8      23875\n",
              "171     7975\n",
              "135    10198\n",
              "131     9960\n",
              "       ...  \n",
              "103    16900\n",
              "67      5389\n",
              "117    32528\n",
              "47      6095\n",
              "172     7995\n",
              "Name: price, Length: 154, dtype: object"
            ]
          },
          "metadata": {},
          "execution_count": 56
        }
      ]
    },
    {
      "cell_type": "code",
      "source": [
        "sns.pairplot(df,\n",
        "             x_vars=['make','num-of-cylinders','fuel-system', 'body-style','price'],\n",
        "             y_vars=['make','num-of-cylinders','fuel-system', 'body-style','price']\n",
        "             )\n",
        "plt.grid()\n",
        "plt.show()"
      ],
      "metadata": {
        "colab": {
          "base_uri": "https://localhost:8080/",
          "height": 903
        },
        "id": "XsmTlIR6LeLv",
        "outputId": "c52864e3-b260-4b80-eac2-34ba28eb8ff1"
      },
      "execution_count": 31,
      "outputs": [
        {
          "output_type": "display_data",
          "data": {
            "text/plain": [
              "<Figure size 900x900 with 30 Axes>"
            ],
            "image/png": "[encoded data removed]"
          },
          "metadata": {
            "needs_background": "light"
          }
        }
      ]
    },
    {
      "cell_type": "code",
      "source": [
        "sns.pairplot(df,\n",
        "             x_vars=[ 'wheel-base', 'length', 'width', 'height','price'],\n",
        "             y_vars=['wheel-base', 'length', 'width', 'height','price']\n",
        "             )\n",
        "plt.grid()                                        #realation of the features is shown. \n",
        "plt.show()                                        #these features should be considered for modelling the data"
      ],
      "metadata": {
        "colab": {
          "base_uri": "https://localhost:8080/",
          "height": 903
        },
        "id": "QH8bCxXtNO6w",
        "outputId": "741b3eae-68d9-48ae-d465-28b12100696e"
      },
      "execution_count": 26,
      "outputs": [
        {
          "output_type": "display_data",
          "data": {
            "text/plain": [
              "<Figure size 900x900 with 30 Axes>"
            ],
            "image/png": "[encoded data removed]"
          },
          "metadata": {
            "needs_background": "light"
          }
        }
      ]
    },
    {
      "cell_type": "markdown",
      "source": [
        "converting categorical features into numerical."
      ],
      "metadata": {
        "id": "lVkLmIeZpxf2"
      }
    },
    {
      "cell_type": "code",
      "source": [
        "cols\n"
      ],
      "metadata": {
        "colab": {
          "base_uri": "https://localhost:8080/"
        },
        "id": "pb3nsNBalZjD",
        "outputId": "b28e88f2-8e5e-4a75-fcbc-c7bf3a8eb383"
      },
      "execution_count": 34,
      "outputs": [
        {
          "output_type": "execute_result",
          "data": {
            "text/plain": [
              "Index(['symboling', 'normalized-losses', 'make', 'fuel-type', 'aspiration',\n",
              "       'num-of-doors', 'body-style', 'drive-wheels', 'engine-location',\n",
              "       'wheel-base', 'length', 'width', 'height', 'curb-weight', 'engine-type',\n",
              "       'num-of-cylinders', 'engine-size', 'fuel-system', 'bore', 'stroke',\n",
              "       'compression-ratio', 'horsepower', 'peak-rpm', 'city-mpg',\n",
              "       'highway-mpg', 'price'],\n",
              "      dtype='object')"
            ]
          },
          "metadata": {},
          "execution_count": 34
        }
      ]
    },
    {
      "cell_type": "code",
      "source": [
        "#considering features that have categorical features to be encoded\n",
        "cols_to_dummy=['fuel-type','aspiration','num-of-doors', 'drive-wheels','engine-location','engine-type']"
      ],
      "metadata": {
        "id": "33TdK7aTLWOs"
      },
      "execution_count": 35,
      "outputs": []
    },
    {
      "cell_type": "code",
      "source": [
        "X_train=pd.get_dummies(X_train, columns=cols_to_dummy)"
      ],
      "metadata": {
        "id": "JfamYsfpmEKl"
      },
      "execution_count": 36,
      "outputs": []
    },
    {
      "cell_type": "code",
      "source": [
        "#droping features with large number of unique values and can cause increase in complexity of model\n",
        "X_train = X_train.drop(['make','num-of-cylinders','fuel-system', 'body-style'], axis = 1)"
      ],
      "metadata": {
        "id": "KzjbpeBUiBjZ"
      },
      "execution_count": 37,
      "outputs": []
    },
    {
      "cell_type": "code",
      "source": [
        "X_train"
      ],
      "metadata": {
        "colab": {
          "base_uri": "https://localhost:8080/",
          "height": 505
        },
        "id": "Duj4VH0_m7JK",
        "outputId": "af745448-1d5f-4d1d-c228-d3ab5bb3ebc4"
      },
      "execution_count": null,
      "outputs": [
        {
          "output_type": "execute_result",
          "data": {
            "text/plain": [
              "     symboling normalized-losses  wheel-base  length  width  height  \\\n",
              "149          0                85        96.9   173.6   65.4    54.9   \n",
              "8            1               158       105.8   192.7   71.4    55.9   \n",
              "183          2               122        97.3   171.7   65.5    55.7   \n",
              "147          0                89        97.0   173.5   65.4    53.0   \n",
              "143          0               102        97.2   172.0   65.4    52.5   \n",
              "..         ...               ...         ...     ...    ...     ...   \n",
              "112          0               161       107.9   186.7   68.4    56.7   \n",
              "76           2               161        93.7   157.3   64.4    50.8   \n",
              "126          3             115.0        89.5   168.9   65.0    51.6   \n",
              "51           1               104        93.1   159.1   64.2    54.1   \n",
              "184          2                94        97.3   171.7   65.5    55.7   \n",
              "\n",
              "     curb-weight  engine-size  bore stroke  ...  drive-wheels_4wd  \\\n",
              "149         2650          108  3.62   2.64  ...                 1   \n",
              "8           3086          131  3.13    3.4  ...                 0   \n",
              "183         2209          109  3.19    3.4  ...                 0   \n",
              "147         2455          108  3.62   2.64  ...                 0   \n",
              "143         2340          108  3.62   2.64  ...                 0   \n",
              "..           ...          ...   ...    ...  ...               ...   \n",
              "112         3252          152   3.7   3.52  ...                 0   \n",
              "76          1918           92  2.97   3.23  ...                 0   \n",
              "126         2756          194  3.74    2.9  ...                 0   \n",
              "51          1900           91  3.03   3.15  ...                 0   \n",
              "184         2264           97  3.01    3.4  ...                 0   \n",
              "\n",
              "    drive-wheels_fwd drive-wheels_rwd  engine-location_front  \\\n",
              "149                0                0                      1   \n",
              "8                  1                0                      1   \n",
              "183                1                0                      1   \n",
              "147                1                0                      1   \n",
              "143                1                0                      1   \n",
              "..               ...              ...                    ...   \n",
              "112                0                1                      1   \n",
              "76                 1                0                      1   \n",
              "126                0                1                      0   \n",
              "51                 1                0                      1   \n",
              "184                1                0                      1   \n",
              "\n",
              "     engine-location_rear  engine-type_dohc  engine-type_l  engine-type_ohc  \\\n",
              "149                     0                 0              0                0   \n",
              "8                       0                 0              0                1   \n",
              "183                     0                 0              0                1   \n",
              "147                     0                 0              0                0   \n",
              "143                     0                 0              0                0   \n",
              "..                    ...               ...            ...              ...   \n",
              "112                     0                 0              1                0   \n",
              "76                      0                 0              0                1   \n",
              "126                     1                 0              0                0   \n",
              "51                      0                 0              0                1   \n",
              "184                     0                 0              0                1   \n",
              "\n",
              "     engine-type_ohcf  engine-type_ohcv  \n",
              "149                 1                 0  \n",
              "8                   0                 0  \n",
              "183                 0                 0  \n",
              "147                 1                 0  \n",
              "143                 1                 0  \n",
              "..                ...               ...  \n",
              "112                 0                 0  \n",
              "76                  0                 0  \n",
              "126                 1                 0  \n",
              "51                  0                 0  \n",
              "184                 0                 0  \n",
              "\n",
              "[154 rows x 31 columns]"
            ],
            "text/html": [
              "\n",
              "  <div id=\"df-bb733a6e-a422-4381-976c-69159fb6a3c1\">\n",
              "    <div class=\"colab-df-container\">\n",
              "      <div>\n",
              "<style scoped>\n",
              "    .dataframe tbody tr th:only-of-type {\n",
              "        vertical-align: middle;\n",
              "    }\n",
              "\n",
              "    .dataframe tbody tr th {\n",
              "        vertical-align: top;\n",
              "    }\n",
              "\n",
              "    .dataframe thead th {\n",
              "        text-align: right;\n",
              "    }\n",
              "</style>\n",
              "<table border=\"1\" class=\"dataframe\">\n",
              "  <thead>\n",
              "    <tr style=\"text-align: right;\">\n",
              "      <th></th>\n",
              "      <th>symboling</th>\n",
              "      <th>normalized-losses</th>\n",
              "      <th>wheel-base</th>\n",
              "      <th>length</th>\n",
              "      <th>width</th>\n",
              "      <th>height</th>\n",
              "      <th>curb-weight</th>\n",
              "      <th>engine-size</th>\n",
              "      <th>bore</th>\n",
              "      <th>stroke</th>\n",
              "      <th>...</th>\n",
              "      <th>drive-wheels_4wd</th>\n",
              "      <th>drive-wheels_fwd</th>\n",
              "      <th>drive-wheels_rwd</th>\n",
              "      <th>engine-location_front</th>\n",
              "      <th>engine-location_rear</th>\n",
              "      <th>engine-type_dohc</th>\n",
              "      <th>engine-type_l</th>\n",
              "      <th>engine-type_ohc</th>\n",
              "      <th>engine-type_ohcf</th>\n",
              "      <th>engine-type_ohcv</th>\n",
              "    </tr>\n",
              "  </thead>\n",
              "  <tbody>\n",
              "    <tr>\n",
              "      <th>149</th>\n",
              "      <td>0</td>\n",
              "      <td>85</td>\n",
              "      <td>96.9</td>\n",
              "      <td>173.6</td>\n",
              "      <td>65.4</td>\n",
              "      <td>54.9</td>\n",
              "      <td>2650</td>\n",
              "      <td>108</td>\n",
              "      <td>3.62</td>\n",
              "      <td>2.64</td>\n",
              "      <td>...</td>\n",
              "      <td>1</td>\n",
              "      <td>0</td>\n",
              "      <td>0</td>\n",
              "      <td>1</td>\n",
              "      <td>0</td>\n",
              "      <td>0</td>\n",
              "      <td>0</td>\n",
              "      <td>0</td>\n",
              "      <td>1</td>\n",
              "      <td>0</td>\n",
              "    </tr>\n",
              "    <tr>\n",
              "      <th>8</th>\n",
              "      <td>1</td>\n",
              "      <td>158</td>\n",
              "      <td>105.8</td>\n",
              "      <td>192.7</td>\n",
              "      <td>71.4</td>\n",
              "      <td>55.9</td>\n",
              "      <td>3086</td>\n",
              "      <td>131</td>\n",
              "      <td>3.13</td>\n",
              "      <td>3.4</td>\n",
              "      <td>...</td>\n",
              "      <td>0</td>\n",
              "      <td>1</td>\n",
              "      <td>0</td>\n",
              "      <td>1</td>\n",
              "      <td>0</td>\n",
              "      <td>0</td>\n",
              "      <td>0</td>\n",
              "      <td>1</td>\n",
              "      <td>0</td>\n",
              "      <td>0</td>\n",
              "    </tr>\n",
              "    <tr>\n",
              "      <th>183</th>\n",
              "      <td>2</td>\n",
              "      <td>122</td>\n",
              "      <td>97.3</td>\n",
              "      <td>171.7</td>\n",
              "      <td>65.5</td>\n",
              "      <td>55.7</td>\n",
              "      <td>2209</td>\n",
              "      <td>109</td>\n",
              "      <td>3.19</td>\n",
              "      <td>3.4</td>\n",
              "      <td>...</td>\n",
              "      <td>0</td>\n",
              "      <td>1</td>\n",
              "      <td>0</td>\n",
              "      <td>1</td>\n",
              "      <td>0</td>\n",
              "      <td>0</td>\n",
              "      <td>0</td>\n",
              "      <td>1</td>\n",
              "      <td>0</td>\n",
              "      <td>0</td>\n",
              "    </tr>\n",
              "    <tr>\n",
              "      <th>147</th>\n",
              "      <td>0</td>\n",
              "      <td>89</td>\n",
              "      <td>97.0</td>\n",
              "      <td>173.5</td>\n",
              "      <td>65.4</td>\n",
              "      <td>53.0</td>\n",
              "      <td>2455</td>\n",
              "      <td>108</td>\n",
              "      <td>3.62</td>\n",
              "      <td>2.64</td>\n",
              "      <td>...</td>\n",
              "      <td>0</td>\n",
              "      <td>1</td>\n",
              "      <td>0</td>\n",
              "      <td>1</td>\n",
              "      <td>0</td>\n",
              "      <td>0</td>\n",
              "      <td>0</td>\n",
              "      <td>0</td>\n",
              "      <td>1</td>\n",
              "      <td>0</td>\n",
              "    </tr>\n",
              "    <tr>\n",
              "      <th>143</th>\n",
              "      <td>0</td>\n",
              "      <td>102</td>\n",
              "      <td>97.2</td>\n",
              "      <td>172.0</td>\n",
              "      <td>65.4</td>\n",
              "      <td>52.5</td>\n",
              "      <td>2340</td>\n",
              "      <td>108</td>\n",
              "      <td>3.62</td>\n",
              "      <td>2.64</td>\n",
              "      <td>...</td>\n",
              "      <td>0</td>\n",
              "      <td>1</td>\n",
              "      <td>0</td>\n",
              "      <td>1</td>\n",
              "      <td>0</td>\n",
              "      <td>0</td>\n",
              "      <td>0</td>\n",
              "      <td>0</td>\n",
              "      <td>1</td>\n",
              "      <td>0</td>\n",
              "    </tr>\n",
              "    <tr>\n",
              "      <th>...</th>\n",
              "      <td>...</td>\n",
              "      <td>...</td>\n",
              "      <td>...</td>\n",
              "      <td>...</td>\n",
              "      <td>...</td>\n",
              "      <td>...</td>\n",
              "      <td>...</td>\n",
              "      <td>...</td>\n",
              "      <td>...</td>\n",
              "      <td>...</td>\n",
              "      <td>...</td>\n",
              "      <td>...</td>\n",
              "      <td>...</td>\n",
              "      <td>...</td>\n",
              "      <td>...</td>\n",
              "      <td>...</td>\n",
              "      <td>...</td>\n",
              "      <td>...</td>\n",
              "      <td>...</td>\n",
              "      <td>...</td>\n",
              "      <td>...</td>\n",
              "    </tr>\n",
              "    <tr>\n",
              "      <th>112</th>\n",
              "      <td>0</td>\n",
              "      <td>161</td>\n",
              "      <td>107.9</td>\n",
              "      <td>186.7</td>\n",
              "      <td>68.4</td>\n",
              "      <td>56.7</td>\n",
              "      <td>3252</td>\n",
              "      <td>152</td>\n",
              "      <td>3.7</td>\n",
              "      <td>3.52</td>\n",
              "      <td>...</td>\n",
              "      <td>0</td>\n",
              "      <td>0</td>\n",
              "      <td>1</td>\n",
              "      <td>1</td>\n",
              "      <td>0</td>\n",
              "      <td>0</td>\n",
              "      <td>1</td>\n",
              "      <td>0</td>\n",
              "      <td>0</td>\n",
              "      <td>0</td>\n",
              "    </tr>\n",
              "    <tr>\n",
              "      <th>76</th>\n",
              "      <td>2</td>\n",
              "      <td>161</td>\n",
              "      <td>93.7</td>\n",
              "      <td>157.3</td>\n",
              "      <td>64.4</td>\n",
              "      <td>50.8</td>\n",
              "      <td>1918</td>\n",
              "      <td>92</td>\n",
              "      <td>2.97</td>\n",
              "      <td>3.23</td>\n",
              "      <td>...</td>\n",
              "      <td>0</td>\n",
              "      <td>1</td>\n",
              "      <td>0</td>\n",
              "      <td>1</td>\n",
              "      <td>0</td>\n",
              "      <td>0</td>\n",
              "      <td>0</td>\n",
              "      <td>1</td>\n",
              "      <td>0</td>\n",
              "      <td>0</td>\n",
              "    </tr>\n",
              "    <tr>\n",
              "      <th>126</th>\n",
              "      <td>3</td>\n",
              "      <td>115.0</td>\n",
              "      <td>89.5</td>\n",
              "      <td>168.9</td>\n",
              "      <td>65.0</td>\n",
              "      <td>51.6</td>\n",
              "      <td>2756</td>\n",
              "      <td>194</td>\n",
              "      <td>3.74</td>\n",
              "      <td>2.9</td>\n",
              "      <td>...</td>\n",
              "      <td>0</td>\n",
              "      <td>0</td>\n",
              "      <td>1</td>\n",
              "      <td>0</td>\n",
              "      <td>1</td>\n",
              "      <td>0</td>\n",
              "      <td>0</td>\n",
              "      <td>0</td>\n",
              "      <td>1</td>\n",
              "      <td>0</td>\n",
              "    </tr>\n",
              "    <tr>\n",
              "      <th>51</th>\n",
              "      <td>1</td>\n",
              "      <td>104</td>\n",
              "      <td>93.1</td>\n",
              "      <td>159.1</td>\n",
              "      <td>64.2</td>\n",
              "      <td>54.1</td>\n",
              "      <td>1900</td>\n",
              "      <td>91</td>\n",
              "      <td>3.03</td>\n",
              "      <td>3.15</td>\n",
              "      <td>...</td>\n",
              "      <td>0</td>\n",
              "      <td>1</td>\n",
              "      <td>0</td>\n",
              "      <td>1</td>\n",
              "      <td>0</td>\n",
              "      <td>0</td>\n",
              "      <td>0</td>\n",
              "      <td>1</td>\n",
              "      <td>0</td>\n",
              "      <td>0</td>\n",
              "    </tr>\n",
              "    <tr>\n",
              "      <th>184</th>\n",
              "      <td>2</td>\n",
              "      <td>94</td>\n",
              "      <td>97.3</td>\n",
              "      <td>171.7</td>\n",
              "      <td>65.5</td>\n",
              "      <td>55.7</td>\n",
              "      <td>2264</td>\n",
              "      <td>97</td>\n",
              "      <td>3.01</td>\n",
              "      <td>3.4</td>\n",
              "      <td>...</td>\n",
              "      <td>0</td>\n",
              "      <td>1</td>\n",
              "      <td>0</td>\n",
              "      <td>1</td>\n",
              "      <td>0</td>\n",
              "      <td>0</td>\n",
              "      <td>0</td>\n",
              "      <td>1</td>\n",
              "      <td>0</td>\n",
              "      <td>0</td>\n",
              "    </tr>\n",
              "  </tbody>\n",
              "</table>\n",
              "<p>154 rows × 31 columns</p>\n",
              "</div>\n",
              "      <button class=\"colab-df-convert\" onclick=\"convertToInteractive('df-bb733a6e-a422-4381-976c-69159fb6a3c1')\"\n",
              "              title=\"Convert this dataframe to an interactive table.\"\n",
              "              style=\"display:none;\">\n",
              "        \n",
              "  <svg xmlns=\"http://www.w3.org/2000/svg\" height=\"24px\"viewBox=\"0 0 24 24\"\n",
              "       width=\"24px\">\n",
              "    <path d=\"M0 0h24v24H0V0z\" fill=\"none\"/>\n",
              "    <path d=\"M18.56 5.44l.94 2.06.94-2.06 2.06-.94-2.06-.94-.94-2.06-.94 2.06-2.06.94zm-11 1L8.5 8.5l.94-2.06 2.06-.94-2.06-.94L8.5 2.5l-.94 2.06-2.06.94zm10 10l.94 2.06.94-2.06 2.06-.94-2.06-.94-.94-2.06-.94 2.06-2.06.94z\"/><path d=\"M17.41 7.96l-1.37-1.37c-.4-.4-.92-.59-1.43-.59-.52 0-1.04.2-1.43.59L10.3 9.45l-7.72 7.72c-.78.78-.78 2.05 0 2.83L4 21.41c.39.39.9.59 1.41.59.51 0 1.02-.2 1.41-.59l7.78-7.78 2.81-2.81c.8-.78.8-2.07 0-2.86zM5.41 20L4 18.59l7.72-7.72 1.47 1.35L5.41 20z\"/>\n",
              "  </svg>\n",
              "      </button>\n",
              "      \n",
              "  <style>\n",
              "    .colab-df-container {\n",
              "      display:flex;\n",
              "      flex-wrap:wrap;\n",
              "      gap: 12px;\n",
              "    }\n",
              "\n",
              "    .colab-df-convert {\n",
              "      background-color: #E8F0FE;\n",
              "      border: none;\n",
              "      border-radius: 50%;\n",
              "      cursor: pointer;\n",
              "      display: none;\n",
              "      fill: #1967D2;\n",
              "      height: 32px;\n",
              "      padding: 0 0 0 0;\n",
              "      width: 32px;\n",
              "    }\n",
              "\n",
              "    .colab-df-convert:hover {\n",
              "      background-color: #E2EBFA;\n",
              "      box-shadow: 0px 1px 2px rgba(60, 64, 67, 0.3), 0px 1px 3px 1px rgba(60, 64, 67, 0.15);\n",
              "      fill: #174EA6;\n",
              "    }\n",
              "\n",
              "    [theme=dark] .colab-df-convert {\n",
              "      background-color: #3B4455;\n",
              "      fill: #D2E3FC;\n",
              "    }\n",
              "\n",
              "    [theme=dark] .colab-df-convert:hover {\n",
              "      background-color: #434B5C;\n",
              "      box-shadow: 0px 1px 3px 1px rgba(0, 0, 0, 0.15);\n",
              "      filter: drop-shadow(0px 1px 2px rgba(0, 0, 0, 0.3));\n",
              "      fill: #FFFFFF;\n",
              "    }\n",
              "  </style>\n",
              "\n",
              "      <script>\n",
              "        const buttonEl =\n",
              "          document.querySelector('#df-bb733a6e-a422-4381-976c-69159fb6a3c1 button.colab-df-convert');\n",
              "        buttonEl.style.display =\n",
              "          google.colab.kernel.accessAllowed ? 'block' : 'none';\n",
              "\n",
              "        async function convertToInteractive(key) {\n",
              "          const element = document.querySelector('#df-bb733a6e-a422-4381-976c-69159fb6a3c1');\n",
              "          const dataTable =\n",
              "            await google.colab.kernel.invokeFunction('convertToInteractive',\n",
              "                                                     [key], {});\n",
              "          if (!dataTable) return;\n",
              "\n",
              "          const docLinkHtml = 'Like what you see? Visit the ' +\n",
              "            '<a target=\"_blank\" href=https://colab.research.google.com/notebooks/data_table.ipynb>data table notebook</a>'\n",
              "            + ' to learn more about interactive tables.';\n",
              "          element.innerHTML = '';\n",
              "          dataTable['output_type'] = 'display_data';\n",
              "          await google.colab.output.renderOutput(dataTable, element);\n",
              "          const docLink = document.createElement('div');\n",
              "          docLink.innerHTML = docLinkHtml;\n",
              "          element.appendChild(docLink);\n",
              "        }\n",
              "      </script>\n",
              "    </div>\n",
              "  </div>\n",
              "  "
            ]
          },
          "metadata": {},
          "execution_count": 39
        }
      ]
    },
    {
      "cell_type": "code",
      "source": [
        "X_test=pd.get_dummies(X_test, columns=cols_to_dummy)"
      ],
      "metadata": {
        "id": "psl7S7hanapQ"
      },
      "execution_count": 38,
      "outputs": []
    },
    {
      "cell_type": "code",
      "source": [
        "X_test = X_test.drop(['make','num-of-cylinders','fuel-system', 'body-style'], axis = 1)"
      ],
      "metadata": {
        "id": "SZcbKL1XJiv8"
      },
      "execution_count": 39,
      "outputs": []
    },
    {
      "cell_type": "code",
      "source": [
        "X_train.info()"
      ],
      "metadata": {
        "colab": {
          "base_uri": "https://localhost:8080/"
        },
        "id": "tyS6LF0JnxLZ",
        "outputId": "61515c99-851b-4ecc-a269-cc963a203510"
      },
      "execution_count": null,
      "outputs": [
        {
          "output_type": "stream",
          "name": "stdout",
          "text": [
            "<class 'pandas.core.frame.DataFrame'>\n",
            "Int64Index: 154 entries, 149 to 184\n",
            "Data columns (total 31 columns):\n",
            " #   Column                 Non-Null Count  Dtype  \n",
            "---  ------                 --------------  -----  \n",
            " 0   symboling              154 non-null    int64  \n",
            " 1   normalized-losses      154 non-null    object \n",
            " 2   wheel-base             154 non-null    float64\n",
            " 3   length                 154 non-null    float64\n",
            " 4   width                  154 non-null    float64\n",
            " 5   height                 154 non-null    float64\n",
            " 6   curb-weight            154 non-null    int64  \n",
            " 7   engine-size            154 non-null    int64  \n",
            " 8   bore                   154 non-null    object \n",
            " 9   stroke                 154 non-null    object \n",
            " 10  compression-ratio      154 non-null    float64\n",
            " 11  horsepower             154 non-null    object \n",
            " 12  peak-rpm               154 non-null    object \n",
            " 13  city-mpg               154 non-null    int64  \n",
            " 14  highway-mpg            154 non-null    int64  \n",
            " 15  fuel-type_diesel       154 non-null    uint8  \n",
            " 16  fuel-type_gas          154 non-null    uint8  \n",
            " 17  aspiration_std         154 non-null    uint8  \n",
            " 18  aspiration_turbo       154 non-null    uint8  \n",
            " 19  num-of-doors_four      154 non-null    uint8  \n",
            " 20  num-of-doors_two       154 non-null    uint8  \n",
            " 21  drive-wheels_4wd       154 non-null    uint8  \n",
            " 22  drive-wheels_fwd       154 non-null    uint8  \n",
            " 23  drive-wheels_rwd       154 non-null    uint8  \n",
            " 24  engine-location_front  154 non-null    uint8  \n",
            " 25  engine-location_rear   154 non-null    uint8  \n",
            " 26  engine-type_dohc       154 non-null    uint8  \n",
            " 27  engine-type_l          154 non-null    uint8  \n",
            " 28  engine-type_ohc        154 non-null    uint8  \n",
            " 29  engine-type_ohcf       154 non-null    uint8  \n",
            " 30  engine-type_ohcv       154 non-null    uint8  \n",
            "dtypes: float64(5), int64(5), object(5), uint8(16)\n",
            "memory usage: 21.7+ KB\n"
          ]
        }
      ]
    },
    {
      "cell_type": "markdown",
      "source": [
        "We have to convert the datatype of  features that had null values from object to float"
      ],
      "metadata": {
        "id": "KZ4waaoCp8jQ"
      }
    },
    {
      "cell_type": "code",
      "source": [
        "X_train['normalized-losses']=X_train['normalized-losses'].astype(float)\n",
        "X_train['bore']=X_train['bore'].astype(float)\n",
        "X_train['stroke']=X_train['stroke'].astype(float)\n",
        "X_train['horsepower']=X_train['horsepower'].astype(float)\n",
        "X_train['peak-rpm']=X_train['peak-rpm'].astype(int)"
      ],
      "metadata": {
        "id": "d8lJKz-tn6nB"
      },
      "execution_count": 40,
      "outputs": []
    },
    {
      "cell_type": "code",
      "source": [
        "X_test['normalized-losses']=X_test['normalized-losses'].astype(float)\n",
        "X_test['bore']=X_test['bore'].astype(float)\n",
        "X_test['stroke']=X_test['stroke'].astype(float)\n",
        "X_test['horsepower']=X_test['horsepower'].astype(float)\n",
        "X_test['peak-rpm']=X_test['peak-rpm'].astype(int)"
      ],
      "metadata": {
        "id": "ThlrlfMooC6q"
      },
      "execution_count": 41,
      "outputs": []
    },
    {
      "cell_type": "markdown",
      "source": [
        "We have a data with no missing values and categorical features. We can continue with the other preprocessing technique."
      ],
      "metadata": {
        "id": "QrNZiz2fo2hK"
      }
    },
    {
      "cell_type": "markdown",
      "source": [
        "BoxPlot"
      ],
      "metadata": {
        "id": "x_1rgePiUuY_"
      }
    },
    {
      "cell_type": "code",
      "source": [
        "col_af_drop= X_train.columns      #Column names after dropping features as well as encoding categorical features\n"
      ],
      "metadata": {
        "id": "sXNSp0bnFD9j"
      },
      "execution_count": null,
      "outputs": []
    },
    {
      "cell_type": "code",
      "source": [
        "#to compare the distribution of each feature we can plot a boxplot and see if scaling or other preprocessing techniques are required\n",
        "\n",
        "sns.boxplot(data=X_train)                     # from boxplot it is clear that scaling is required"
      ],
      "metadata": {
        "colab": {
          "base_uri": "https://localhost:8080/",
          "height": 283
        },
        "id": "QUpEUBskoug6",
        "outputId": "d3fe71ee-b339-464d-c950-ab2c1dc0f9c8"
      },
      "execution_count": null,
      "outputs": [
        {
          "output_type": "execute_result",
          "data": {
            "text/plain": [
              "<Axes: >"
            ]
          },
          "metadata": {},
          "execution_count": 26
        },
        {
          "output_type": "display_data",
          "data": {
            "text/plain": [
              "<Figure size 432x288 with 1 Axes>"
            ],
            "image/png": "[encoded data removed]"
          },
          "metadata": {
            "needs_background": "light"
          }
        }
      ]
    },
    {
      "cell_type": "code",
      "source": [
        "X_train.var()"
      ],
      "metadata": {
        "colab": {
          "base_uri": "https://localhost:8080/"
        },
        "id": "v2HlKJTasChG",
        "outputId": "98a418e6-67c3-4dd6-f7cd-ddd3e86bba18"
      },
      "execution_count": 42,
      "outputs": [
        {
          "output_type": "execute_result",
          "data": {
            "text/plain": [
              "symboling                     1.597997\n",
              "normalized-losses           976.161149\n",
              "wheel-base                   41.180659\n",
              "length                      168.042132\n",
              "width                         4.707687\n",
              "height                        5.580759\n",
              "curb-weight              286987.861175\n",
              "engine-size                1640.946651\n",
              "bore                          0.077048\n",
              "stroke                        0.101080\n",
              "compression-ratio            18.280131\n",
              "horsepower                 1328.731390\n",
              "peak-rpm                 204337.068161\n",
              "city-mpg                     42.826628\n",
              "highway-mpg                  49.757109\n",
              "fuel-type_diesel              0.103896\n",
              "fuel-type_gas                 0.103896\n",
              "aspiration_std                0.161828\n",
              "aspiration_turbo              0.161828\n",
              "num-of-doors_four             0.244461\n",
              "num-of-doors_two              0.244461\n",
              "drive-wheels_4wd              0.043672\n",
              "drive-wheels_fwd              0.245522\n",
              "drive-wheels_rwd              0.236313\n",
              "engine-location_front         0.012902\n",
              "engine-location_rear          0.012902\n",
              "engine-type_dohc              0.055386\n",
              "engine-type_l                 0.061115\n",
              "engine-type_ohc               0.196630\n",
              "engine-type_ohcf              0.066760\n",
              "engine-type_ohcv              0.066760\n",
              "dtype: float64"
            ]
          },
          "metadata": {},
          "execution_count": 42
        }
      ]
    },
    {
      "cell_type": "code",
      "source": [
        "from sklearn.feature_selection import VarianceThreshold     #for feature selection we can use variance method. \n",
        "VT= VarianceThreshold(threshold=1)                          #Selecting only features with variance above 3\n",
        "X_var=VT.fit_transform(X_train)"
      ],
      "metadata": {
        "id": "JJe_SS6useqa"
      },
      "execution_count": 46,
      "outputs": []
    },
    {
      "cell_type": "code",
      "source": [
        "VT.get_support()"
      ],
      "metadata": {
        "colab": {
          "base_uri": "https://localhost:8080/"
        },
        "id": "nIXgJArzxVLt",
        "outputId": "f64fcd13-ea13-4473-9a96-d4e3d6111491"
      },
      "execution_count": 47,
      "outputs": [
        {
          "output_type": "execute_result",
          "data": {
            "text/plain": [
              "array([ True,  True,  True,  True,  True,  True,  True,  True, False,\n",
              "       False,  True,  True,  True,  True,  True, False, False, False,\n",
              "       False, False, False, False, False, False, False, False, False,\n",
              "       False, False, False, False])"
            ]
          },
          "metadata": {},
          "execution_count": 47
        }
      ]
    },
    {
      "cell_type": "code",
      "source": [
        "X_var_test=VT.transform(X_test)                                 #Applying variance threshold to test data"
      ],
      "metadata": {
        "id": "wyMOvNrXs4Ob"
      },
      "execution_count": 48,
      "outputs": []
    },
    {
      "cell_type": "code",
      "source": [
        "#Applying scaling to the data\n",
        "from sklearn.preprocessing import StandardScaler"
      ],
      "metadata": {
        "id": "1Q_tTFIXqoMP"
      },
      "execution_count": 49,
      "outputs": []
    },
    {
      "cell_type": "code",
      "source": [
        "ss = StandardScaler()"
      ],
      "metadata": {
        "id": "TORt7ZH5rFnP"
      },
      "execution_count": 50,
      "outputs": []
    },
    {
      "cell_type": "code",
      "source": [
        "X_std = ss.fit_transform(X_var)\n",
        "X_std_test = ss.transform(X_var_test)"
      ],
      "metadata": {
        "id": "bpJDXSghrMFC"
      },
      "execution_count": 51,
      "outputs": []
    },
    {
      "cell_type": "code",
      "source": [
        "sns.boxplot(data=X_std)           #now the data is scaled and we can start modelling our algorithm"
      ],
      "metadata": {
        "colab": {
          "base_uri": "https://localhost:8080/",
          "height": 282
        },
        "id": "vTHHE0SuuXvO",
        "outputId": "f3f8ddb4-efc7-4687-9cba-4c3ed769f524"
      },
      "execution_count": 52,
      "outputs": [
        {
          "output_type": "execute_result",
          "data": {
            "text/plain": [
              "<Axes: >"
            ]
          },
          "metadata": {},
          "execution_count": 52
        },
        {
          "output_type": "display_data",
          "data": {
            "text/plain": [
              "<Figure size 432x288 with 1 Axes>"
            ],
            "image/png": "[encoded data removed]"
          },
          "metadata": {
            "needs_background": "light"
          }
        }
      ]
    },
    {
      "cell_type": "code",
      "source": [
        "X_new = X_std\n",
        "X_new_test = X_std_test"
      ],
      "metadata": {
        "id": "mBvvZXmKwBJS"
      },
      "execution_count": 53,
      "outputs": []
    },
    {
      "cell_type": "markdown",
      "source": [
        "#Linear Regression"
      ],
      "metadata": {
        "id": "tbowXTWOHEM9"
      }
    },
    {
      "cell_type": "code",
      "source": [
        "from sklearn.linear_model import LinearRegression"
      ],
      "metadata": {
        "id": "QHOPnHQXG74h"
      },
      "execution_count": 54,
      "outputs": []
    },
    {
      "cell_type": "code",
      "source": [
        "lr=LinearRegression()"
      ],
      "metadata": {
        "id": "kAEMyMEhHXHO"
      },
      "execution_count": 55,
      "outputs": []
    },
    {
      "cell_type": "code",
      "source": [
        "lr.fit(X_new,y_train)"
      ],
      "metadata": {
        "colab": {
          "base_uri": "https://localhost:8080/",
          "height": 74
        },
        "id": "scfL9SroHveH",
        "outputId": "68ce24bd-4bc5-4970-a769-0ae42a69df4f"
      },
      "execution_count": 56,
      "outputs": [
        {
          "output_type": "execute_result",
          "data": {
            "text/plain": [
              "LinearRegression()"
            ],
            "text/html": [
              "<style>#sk-container-id-1 {color: black;background-color: white;}#sk-container-id-1 pre{padding: 0;}#sk-container-id-1 div.sk-toggleable {background-color: white;}#sk-container-id-1 label.sk-toggleable__label {cursor: pointer;display: block;width: 100%;margin-bottom: 0;padding: 0.3em;box-sizing: border-box;text-align: center;}#sk-container-id-1 label.sk-toggleable__label-arrow:before {content: \"▸\";float: left;margin-right: 0.25em;color: #696969;}#sk-container-id-1 label.sk-toggleable__label-arrow:hover:before {color: black;}#sk-container-id-1 div.sk-estimator:hover label.sk-toggleable__label-arrow:before {color: black;}#sk-container-id-1 div.sk-toggleable__content {max-height: 0;max-width: 0;overflow: hidden;text-align: left;background-color: #f0f8ff;}#sk-container-id-1 div.sk-toggleable__content pre {margin: 0.2em;color: black;border-radius: 0.25em;background-color: #f0f8ff;}#sk-container-id-1 input.sk-toggleable__control:checked~div.sk-toggleable__content {max-height: 200px;max-width: 100%;overflow: auto;}#sk-container-id-1 input.sk-toggleable__control:checked~label.sk-toggleable__label-arrow:before {content: \"▾\";}#sk-container-id-1 div.sk-estimator input.sk-toggleable__control:checked~label.sk-toggleable__label {background-color: #d4ebff;}#sk-container-id-1 div.sk-label input.sk-toggleable__control:checked~label.sk-toggleable__label {background-color: #d4ebff;}#sk-container-id-1 input.sk-hidden--visually {border: 0;clip: rect(1px 1px 1px 1px);clip: rect(1px, 1px, 1px, 1px);height: 1px;margin: -1px;overflow: hidden;padding: 0;position: absolute;width: 1px;}#sk-container-id-1 div.sk-estimator {font-family: monospace;background-color: #f0f8ff;border: 1px dotted black;border-radius: 0.25em;box-sizing: border-box;margin-bottom: 0.5em;}#sk-container-id-1 div.sk-estimator:hover {background-color: #d4ebff;}#sk-container-id-1 div.sk-parallel-item::after {content: \"\";width: 100%;border-bottom: 1px solid gray;flex-grow: 1;}#sk-container-id-1 div.sk-label:hover label.sk-toggleable__label {background-color: #d4ebff;}#sk-container-id-1 div.sk-serial::before {content: \"\";position: absolute;border-left: 1px solid gray;box-sizing: border-box;top: 0;bottom: 0;left: 50%;z-index: 0;}#sk-container-id-1 div.sk-serial {display: flex;flex-direction: column;align-items: center;background-color: white;padding-right: 0.2em;padding-left: 0.2em;position: relative;}#sk-container-id-1 div.sk-item {position: relative;z-index: 1;}#sk-container-id-1 div.sk-parallel {display: flex;align-items: stretch;justify-content: center;background-color: white;position: relative;}#sk-container-id-1 div.sk-item::before, #sk-container-id-1 div.sk-parallel-item::before {content: \"\";position: absolute;border-left: 1px solid gray;box-sizing: border-box;top: 0;bottom: 0;left: 50%;z-index: -1;}#sk-container-id-1 div.sk-parallel-item {display: flex;flex-direction: column;z-index: 1;position: relative;background-color: white;}#sk-container-id-1 div.sk-parallel-item:first-child::after {align-self: flex-end;width: 50%;}#sk-container-id-1 div.sk-parallel-item:last-child::after {align-self: flex-start;width: 50%;}#sk-container-id-1 div.sk-parallel-item:only-child::after {width: 0;}#sk-container-id-1 div.sk-dashed-wrapped {border: 1px dashed gray;margin: 0 0.4em 0.5em 0.4em;box-sizing: border-box;padding-bottom: 0.4em;background-color: white;}#sk-container-id-1 div.sk-label label {font-family: monospace;font-weight: bold;display: inline-block;line-height: 1.2em;}#sk-container-id-1 div.sk-label-container {text-align: center;}#sk-container-id-1 div.sk-container {/* jupyter's `normalize.less` sets `[hidden] { display: none; }` but bootstrap.min.css set `[hidden] { display: none !important; }` so we also need the `!important` here to be able to override the default hidden behavior on the sphinx rendered scikit-learn.org. See: https://github.com/scikit-learn/scikit-learn/issues/21755 */display: inline-block !important;position: relative;}#sk-container-id-1 div.sk-text-repr-fallback {display: none;}</style><div id=\"sk-container-id-1\" class=\"sk-top-container\"><div class=\"sk-text-repr-fallback\"><pre>LinearRegression()</pre><b>In a Jupyter environment, please rerun this cell to show the HTML representation or trust the notebook. <br />On GitHub, the HTML representation is unable to render, please try loading this page with nbviewer.org.</b></div><div class=\"sk-container\" hidden><div class=\"sk-item\"><div class=\"sk-estimator sk-toggleable\"><input class=\"sk-toggleable__control sk-hidden--visually\" id=\"sk-estimator-id-1\" type=\"checkbox\" checked><label for=\"sk-estimator-id-1\" class=\"sk-toggleable__label sk-toggleable__label-arrow\">LinearRegression</label><div class=\"sk-toggleable__content\"><pre>LinearRegression()</pre></div></div></div></div></div>"
            ]
          },
          "metadata": {},
          "execution_count": 56
        }
      ]
    },
    {
      "cell_type": "code",
      "source": [
        "lr.score(X_new,y_train)"
      ],
      "metadata": {
        "colab": {
          "base_uri": "https://localhost:8080/"
        },
        "id": "j2vlVY6IIzgD",
        "outputId": "fd020233-4d66-41f0-e409-2dda0eea0b3c"
      },
      "execution_count": 57,
      "outputs": [
        {
          "output_type": "execute_result",
          "data": {
            "text/plain": [
              "0.8400255379081034"
            ]
          },
          "metadata": {},
          "execution_count": 57
        }
      ]
    },
    {
      "cell_type": "code",
      "source": [
        "lr.score(X_new_test,y_test)"
      ],
      "metadata": {
        "colab": {
          "base_uri": "https://localhost:8080/"
        },
        "id": "m8844uCmIaYz",
        "outputId": "7c84e84e-de6e-4527-cf08-406e7d0dc284"
      },
      "execution_count": 58,
      "outputs": [
        {
          "output_type": "execute_result",
          "data": {
            "text/plain": [
              "0.8587550033250411"
            ]
          },
          "metadata": {},
          "execution_count": 58
        }
      ]
    },
    {
      "cell_type": "code",
      "source": [
        "lr.coef_"
      ],
      "metadata": {
        "colab": {
          "base_uri": "https://localhost:8080/"
        },
        "id": "D5qeUMLrJB8R",
        "outputId": "aa492756-df92-42e2-c8d6-f23ce594969a"
      },
      "execution_count": 59,
      "outputs": [
        {
          "output_type": "execute_result",
          "data": {
            "text/plain": [
              "array([-101.68935808,  -17.94796689, -374.14472838, -718.68274585,\n",
              "       1589.42743582,  947.55439259,  643.79288434, 5050.41070408,\n",
              "        839.40549908, 1735.25451094,  886.33629132, -802.77963911,\n",
              "       1057.37850679])"
            ]
          },
          "metadata": {},
          "execution_count": 59
        }
      ]
    },
    {
      "cell_type": "code",
      "source": [
        "lr.intercept_"
      ],
      "metadata": {
        "colab": {
          "base_uri": "https://localhost:8080/"
        },
        "id": "q2oraTrkVdgm",
        "outputId": "8dec8b36-f069-479c-dbb5-c643d3b34621"
      },
      "execution_count": 60,
      "outputs": [
        {
          "output_type": "execute_result",
          "data": {
            "text/plain": [
              "13438.116883116876"
            ]
          },
          "metadata": {},
          "execution_count": 60
        }
      ]
    },
    {
      "cell_type": "code",
      "source": [
        "y_pred = lr.predict(X_new_test)\n"
      ],
      "metadata": {
        "id": "LmjQzJW9J3nH"
      },
      "execution_count": 61,
      "outputs": []
    },
    {
      "cell_type": "code",
      "source": [
        "from sklearn import metrics\n",
        "from sklearn.metrics import mean_squared_error, r2_score"
      ],
      "metadata": {
        "id": "TmZYF13HJquD"
      },
      "execution_count": 62,
      "outputs": []
    },
    {
      "cell_type": "code",
      "source": [
        "metrics.mean_absolute_error(y_test,y_pred)"
      ],
      "metadata": {
        "colab": {
          "base_uri": "https://localhost:8080/"
        },
        "id": "L_IltDwmKKVK",
        "outputId": "cf749341-e9bd-4218-8862-c1ddd099bc24"
      },
      "execution_count": 63,
      "outputs": [
        {
          "output_type": "execute_result",
          "data": {
            "text/plain": [
              "1968.7586881394168"
            ]
          },
          "metadata": {},
          "execution_count": 63
        }
      ]
    },
    {
      "cell_type": "code",
      "source": [
        "metrics.mean_squared_error(y_test,y_pred)"
      ],
      "metadata": {
        "colab": {
          "base_uri": "https://localhost:8080/"
        },
        "id": "_s0ofF2qKZyK",
        "outputId": "4985a6bb-2859-428b-a770-481ebad569f9"
      },
      "execution_count": 64,
      "outputs": [
        {
          "output_type": "execute_result",
          "data": {
            "text/plain": [
              "8129305.796456468"
            ]
          },
          "metadata": {},
          "execution_count": 64
        }
      ]
    },
    {
      "cell_type": "code",
      "source": [
        "metrics.r2_score(y_test,y_pred)"
      ],
      "metadata": {
        "colab": {
          "base_uri": "https://localhost:8080/"
        },
        "id": "QBk5Ed4zKgAY",
        "outputId": "ad8440a6-9e79-4bdd-e68f-a15ab8b03d30"
      },
      "execution_count": 65,
      "outputs": [
        {
          "output_type": "execute_result",
          "data": {
            "text/plain": [
              "0.8587550033250411"
            ]
          },
          "metadata": {},
          "execution_count": 65
        }
      ]
    },
    {
      "cell_type": "markdown",
      "source": [
        "Linear Regression gives a model with an accuracy of 85%"
      ],
      "metadata": {
        "id": "I_Mp-jdeVni2"
      }
    },
    {
      "cell_type": "markdown",
      "source": [
        "#SGD Regressor\n"
      ],
      "metadata": {
        "id": "4yVOTuSKWKqR"
      }
    },
    {
      "cell_type": "code",
      "source": [
        "from sklearn.linear_model import SGDRegressor"
      ],
      "metadata": {
        "id": "fOin39ZwWIvD"
      },
      "execution_count": 66,
      "outputs": []
    },
    {
      "cell_type": "code",
      "source": [
        "sgd = SGDRegressor()\n",
        "sgd.fit(X_std,y_train)"
      ],
      "metadata": {
        "colab": {
          "base_uri": "https://localhost:8080/",
          "height": 74
        },
        "id": "mCFh9p3oWZO9",
        "outputId": "d6defd91-2a1a-4c50-bf25-8a50d564ce7f"
      },
      "execution_count": 77,
      "outputs": [
        {
          "output_type": "execute_result",
          "data": {
            "text/plain": [
              "SGDRegressor()"
            ],
            "text/html": [
              "<style>#sk-container-id-5 {color: black;background-color: white;}#sk-container-id-5 pre{padding: 0;}#sk-container-id-5 div.sk-toggleable {background-color: white;}#sk-container-id-5 label.sk-toggleable__label {cursor: pointer;display: block;width: 100%;margin-bottom: 0;padding: 0.3em;box-sizing: border-box;text-align: center;}#sk-container-id-5 label.sk-toggleable__label-arrow:before {content: \"▸\";float: left;margin-right: 0.25em;color: #696969;}#sk-container-id-5 label.sk-toggleable__label-arrow:hover:before {color: black;}#sk-container-id-5 div.sk-estimator:hover label.sk-toggleable__label-arrow:before {color: black;}#sk-container-id-5 div.sk-toggleable__content {max-height: 0;max-width: 0;overflow: hidden;text-align: left;background-color: #f0f8ff;}#sk-container-id-5 div.sk-toggleable__content pre {margin: 0.2em;color: black;border-radius: 0.25em;background-color: #f0f8ff;}#sk-container-id-5 input.sk-toggleable__control:checked~div.sk-toggleable__content {max-height: 200px;max-width: 100%;overflow: auto;}#sk-container-id-5 input.sk-toggleable__control:checked~label.sk-toggleable__label-arrow:before {content: \"▾\";}#sk-container-id-5 div.sk-estimator input.sk-toggleable__control:checked~label.sk-toggleable__label {background-color: #d4ebff;}#sk-container-id-5 div.sk-label input.sk-toggleable__control:checked~label.sk-toggleable__label {background-color: #d4ebff;}#sk-container-id-5 input.sk-hidden--visually {border: 0;clip: rect(1px 1px 1px 1px);clip: rect(1px, 1px, 1px, 1px);height: 1px;margin: -1px;overflow: hidden;padding: 0;position: absolute;width: 1px;}#sk-container-id-5 div.sk-estimator {font-family: monospace;background-color: #f0f8ff;border: 1px dotted black;border-radius: 0.25em;box-sizing: border-box;margin-bottom: 0.5em;}#sk-container-id-5 div.sk-estimator:hover {background-color: #d4ebff;}#sk-container-id-5 div.sk-parallel-item::after {content: \"\";width: 100%;border-bottom: 1px solid gray;flex-grow: 1;}#sk-container-id-5 div.sk-label:hover label.sk-toggleable__label {background-color: #d4ebff;}#sk-container-id-5 div.sk-serial::before {content: \"\";position: absolute;border-left: 1px solid gray;box-sizing: border-box;top: 0;bottom: 0;left: 50%;z-index: 0;}#sk-container-id-5 div.sk-serial {display: flex;flex-direction: column;align-items: center;background-color: white;padding-right: 0.2em;padding-left: 0.2em;position: relative;}#sk-container-id-5 div.sk-item {position: relative;z-index: 1;}#sk-container-id-5 div.sk-parallel {display: flex;align-items: stretch;justify-content: center;background-color: white;position: relative;}#sk-container-id-5 div.sk-item::before, #sk-container-id-5 div.sk-parallel-item::before {content: \"\";position: absolute;border-left: 1px solid gray;box-sizing: border-box;top: 0;bottom: 0;left: 50%;z-index: -1;}#sk-container-id-5 div.sk-parallel-item {display: flex;flex-direction: column;z-index: 1;position: relative;background-color: white;}#sk-container-id-5 div.sk-parallel-item:first-child::after {align-self: flex-end;width: 50%;}#sk-container-id-5 div.sk-parallel-item:last-child::after {align-self: flex-start;width: 50%;}#sk-container-id-5 div.sk-parallel-item:only-child::after {width: 0;}#sk-container-id-5 div.sk-dashed-wrapped {border: 1px dashed gray;margin: 0 0.4em 0.5em 0.4em;box-sizing: border-box;padding-bottom: 0.4em;background-color: white;}#sk-container-id-5 div.sk-label label {font-family: monospace;font-weight: bold;display: inline-block;line-height: 1.2em;}#sk-container-id-5 div.sk-label-container {text-align: center;}#sk-container-id-5 div.sk-container {/* jupyter's `normalize.less` sets `[hidden] { display: none; }` but bootstrap.min.css set `[hidden] { display: none !important; }` so we also need the `!important` here to be able to override the default hidden behavior on the sphinx rendered scikit-learn.org. See: https://github.com/scikit-learn/scikit-learn/issues/21755 */display: inline-block !important;position: relative;}#sk-container-id-5 div.sk-text-repr-fallback {display: none;}</style><div id=\"sk-container-id-5\" class=\"sk-top-container\"><div class=\"sk-text-repr-fallback\"><pre>SGDRegressor()</pre><b>In a Jupyter environment, please rerun this cell to show the HTML representation or trust the notebook. <br />On GitHub, the HTML representation is unable to render, please try loading this page with nbviewer.org.</b></div><div class=\"sk-container\" hidden><div class=\"sk-item\"><div class=\"sk-estimator sk-toggleable\"><input class=\"sk-toggleable__control sk-hidden--visually\" id=\"sk-estimator-id-5\" type=\"checkbox\" checked><label for=\"sk-estimator-id-5\" class=\"sk-toggleable__label sk-toggleable__label-arrow\">SGDRegressor</label><div class=\"sk-toggleable__content\"><pre>SGDRegressor()</pre></div></div></div></div></div>"
            ]
          },
          "metadata": {},
          "execution_count": 77
        }
      ]
    },
    {
      "cell_type": "code",
      "source": [
        "sgd.score(X_std,y_train)"
      ],
      "metadata": {
        "colab": {
          "base_uri": "https://localhost:8080/"
        },
        "id": "UVm1IL_NXOaG",
        "outputId": "6b8efce5-5f07-4ca2-eb04-bd089c360a53"
      },
      "execution_count": 78,
      "outputs": [
        {
          "output_type": "execute_result",
          "data": {
            "text/plain": [
              "0.8386752405523631"
            ]
          },
          "metadata": {},
          "execution_count": 78
        }
      ]
    },
    {
      "cell_type": "code",
      "source": [
        "sgd.score(X_std_test,y_test)"
      ],
      "metadata": {
        "colab": {
          "base_uri": "https://localhost:8080/"
        },
        "id": "xMsvzTGUXZxr",
        "outputId": "aa30a84b-453a-4115-af41-937500ace1d1"
      },
      "execution_count": 79,
      "outputs": [
        {
          "output_type": "execute_result",
          "data": {
            "text/plain": [
              "0.8574066469563938"
            ]
          },
          "metadata": {},
          "execution_count": 79
        }
      ]
    },
    {
      "cell_type": "code",
      "source": [
        "y_pred = sgd.predict(X_std_test)"
      ],
      "metadata": {
        "id": "F3fdBG6BXhey"
      },
      "execution_count": 70,
      "outputs": []
    },
    {
      "cell_type": "code",
      "source": [
        "metrics.r2_score(y_test, y_pred)"
      ],
      "metadata": {
        "colab": {
          "base_uri": "https://localhost:8080/"
        },
        "id": "mWLw9ujOXuew",
        "outputId": "d088c575-2c84-4e0e-9ddc-ce059fac7e6c"
      },
      "execution_count": 71,
      "outputs": [
        {
          "output_type": "execute_result",
          "data": {
            "text/plain": [
              "0.8583506236940738"
            ]
          },
          "metadata": {},
          "execution_count": 71
        }
      ]
    },
    {
      "cell_type": "markdown",
      "source": [
        "SGD Regressor gives a score of 85.8%"
      ],
      "metadata": {
        "id": "OX1mEK1AV56D"
      }
    },
    {
      "cell_type": "markdown",
      "source": [
        "#Ridge Regressor"
      ],
      "metadata": {
        "id": "crN834NIY5f_"
      }
    },
    {
      "cell_type": "code",
      "source": [
        "from sklearn.linear_model import Ridge"
      ],
      "metadata": {
        "id": "S-vQ_w55Y4Fs"
      },
      "execution_count": 82,
      "outputs": []
    },
    {
      "cell_type": "code",
      "source": [
        "lambda_values=[0.001,0.01,0.1,0.2,0.3,0.5]\n",
        "rd_train_score=[]\n",
        "rd_test_score=[]\n",
        "rd_r2_score=[]\n",
        "rd_MSE=[]\n"
      ],
      "metadata": {
        "id": "8s1p_I4vZRuM"
      },
      "execution_count": 83,
      "outputs": []
    },
    {
      "cell_type": "code",
      "source": [
        "for k in lambda_values:\n",
        "  rd = Ridge(alpha = k)\n",
        "  rd.fit(X_new, y_train)\n",
        "  y_pred_rd= rd.predict(X_new_test)\n",
        "  rd_train_score.append(rd.score(X_new,y_train))\n",
        "  rd_test_score.append(rd.score(X_new_test,y_test))\n",
        "  rd_r2_score.append(metrics.r2_score(y_test, y_pred_rd))\n",
        "  rd_MSE.append(metrics.mean_squared_error(y_test, y_pred_rd))"
      ],
      "metadata": {
        "id": "wd0hDiagjMXB"
      },
      "execution_count": 84,
      "outputs": []
    },
    {
      "cell_type": "code",
      "source": [
        "print(rd_test_score)\n",
        "print(rd_train_score)\n",
        "print(rd_r2_score)\n",
        "print(rd_MSE)"
      ],
      "metadata": {
        "colab": {
          "base_uri": "https://localhost:8080/"
        },
        "id": "L1upk2MWEM6j",
        "outputId": "01497b2b-e347-4e83-95d9-175133ce0256"
      },
      "execution_count": 86,
      "outputs": [
        {
          "output_type": "stream",
          "name": "stdout",
          "text": [
            "[0.8587559607974206, 0.8587646120194548, 0.8588543507418367, 0.8589603950172027, 0.8590723418384865, 0.8593112014982222]\n",
            "[0.8400255377481954, 0.8400255219684036, 0.8400239928900006, 0.8400195585745165, 0.8400125008033282, 0.8399913865416018]\n",
            "[0.8587559607974206, 0.8587646120194548, 0.8588543507418367, 0.8589603950172027, 0.8590723418384865, 0.8593112014982222]\n",
            "[8129250.689472524, 8128752.771450049, 8123587.891042249, 8117484.550303054, 8111041.490622492, 8097294.007439797]\n"
          ]
        }
      ]
    },
    {
      "cell_type": "markdown",
      "source": [
        "The best score with Ridge regressor obtained is 0.859 with alpha value=0.5"
      ],
      "metadata": {
        "id": "7QmiFlOnXmX-"
      }
    },
    {
      "cell_type": "markdown",
      "source": [
        "#Decision Tree Regressor"
      ],
      "metadata": {
        "id": "Djzq8zzs_sL5"
      }
    },
    {
      "cell_type": "code",
      "source": [
        "from sklearn.tree import DecisionTreeRegressor"
      ],
      "metadata": {
        "id": "Lxk-Q1dvsU8Y"
      },
      "execution_count": null,
      "outputs": []
    },
    {
      "cell_type": "code",
      "source": [
        "train_score=[]\n",
        "test_score=[]"
      ],
      "metadata": {
        "id": "8-qUccTotmrT"
      },
      "execution_count": null,
      "outputs": []
    },
    {
      "cell_type": "code",
      "source": [
        "max_depths = np.arange(1,16)\n",
        "for n in max_depths:\n",
        "  dtc= DecisionTreeRegressor(max_depth=n)\n",
        "  dtc.fit(X_std, y_train)\n",
        "  train_score.append(dtc.score(X_std, y_train))\n",
        "  test_score.append(dtc.score(X_std_test, y_test))\n",
        "\n",
        "print(train_score)\n",
        "print(test_score)\n"
      ],
      "metadata": {
        "colab": {
          "base_uri": "https://localhost:8080/"
        },
        "id": "ghkvtpaVs3KL",
        "outputId": "ce75f8f2-814d-41fa-ce22-b99b4f4dedd3"
      },
      "execution_count": null,
      "outputs": [
        {
          "output_type": "stream",
          "name": "stdout",
          "text": [
            "[0.6494994071195079, 0.8764567126461323, 0.9201435831480544, 0.9529207206933925, 0.9738779322267949, 0.9865273159583328, 0.992331338825514, 0.9964314113475009, 0.9978467505739779, 0.9983358969732501, 0.9991294136592065, 0.9991562480005024, 0.9991581421932972, 0.9991581421932972, 0.9991581421932972]\n",
            "[0.7278414668975559, 0.8923188163268675, 0.889412805961936, 0.8518772007236506, 0.8687955275600655, 0.902162823189013, 0.8506496235917895, 0.8366473442076566, 0.9016799025315774, 0.8883825972624421, 0.9139450378803343, 0.8571096506533371, 0.8883300449303327, 0.9102741580877703, 0.8710041777504173]\n"
          ]
        }
      ]
    },
    {
      "cell_type": "markdown",
      "source": [
        "We get a model with good score and without overfitting at **max_depth = 2**. But score is **0.89**"
      ],
      "metadata": {
        "id": "zJpjEvKu_PDN"
      }
    },
    {
      "cell_type": "markdown",
      "source": [
        "#Gradient Boosting Regressor"
      ],
      "metadata": {
        "id": "449Opmkm5HWI"
      }
    },
    {
      "cell_type": "code",
      "source": [
        "from sklearn.ensemble import GradientBoostingRegressor\n",
        "from sklearn.model_selection import GridSearchCV"
      ],
      "metadata": {
        "id": "GoxKnrVIu9M2"
      },
      "execution_count": null,
      "outputs": []
    },
    {
      "cell_type": "code",
      "source": [
        "param_grid={'n_estimators':[100,200,300],'learning_rate':[0.001,0.01,0.1,0.15,0.2]}"
      ],
      "metadata": {
        "id": "-91G7sMgvJmi"
      },
      "execution_count": null,
      "outputs": []
    },
    {
      "cell_type": "code",
      "source": [
        "gscv = GridSearchCV(GradientBoostingRegressor(),param_grid, cv=5)\n",
        "#applying Grid Search CV to get parameters"
      ],
      "metadata": {
        "id": "5GENJm-swKOv"
      },
      "execution_count": null,
      "outputs": []
    },
    {
      "cell_type": "code",
      "source": [
        "gscv.fit(X_std,y_train)"
      ],
      "metadata": {
        "colab": {
          "base_uri": "https://localhost:8080/",
          "height": 117
        },
        "id": "2gdEOOlAwqne",
        "outputId": "e0268b73-99c4-4011-ae63-4ce0c6fa5b91"
      },
      "execution_count": null,
      "outputs": [
        {
          "output_type": "execute_result",
          "data": {
            "text/plain": [
              "GridSearchCV(cv=5, estimator=GradientBoostingRegressor(),\n",
              "             param_grid={'learning_rate': [0.001, 0.01, 0.1, 0.15, 0.2],\n",
              "                         'n_estimators': [100, 200, 300]})"
            ],
            "text/html": [
              "<style>#sk-container-id-5 {color: black;background-color: white;}#sk-container-id-5 pre{padding: 0;}#sk-container-id-5 div.sk-toggleable {background-color: white;}#sk-container-id-5 label.sk-toggleable__label {cursor: pointer;display: block;width: 100%;margin-bottom: 0;padding: 0.3em;box-sizing: border-box;text-align: center;}#sk-container-id-5 label.sk-toggleable__label-arrow:before {content: \"▸\";float: left;margin-right: 0.25em;color: #696969;}#sk-container-id-5 label.sk-toggleable__label-arrow:hover:before {color: black;}#sk-container-id-5 div.sk-estimator:hover label.sk-toggleable__label-arrow:before {color: black;}#sk-container-id-5 div.sk-toggleable__content {max-height: 0;max-width: 0;overflow: hidden;text-align: left;background-color: #f0f8ff;}#sk-container-id-5 div.sk-toggleable__content pre {margin: 0.2em;color: black;border-radius: 0.25em;background-color: #f0f8ff;}#sk-container-id-5 input.sk-toggleable__control:checked~div.sk-toggleable__content {max-height: 200px;max-width: 100%;overflow: auto;}#sk-container-id-5 input.sk-toggleable__control:checked~label.sk-toggleable__label-arrow:before {content: \"▾\";}#sk-container-id-5 div.sk-estimator input.sk-toggleable__control:checked~label.sk-toggleable__label {background-color: #d4ebff;}#sk-container-id-5 div.sk-label input.sk-toggleable__control:checked~label.sk-toggleable__label {background-color: #d4ebff;}#sk-container-id-5 input.sk-hidden--visually {border: 0;clip: rect(1px 1px 1px 1px);clip: rect(1px, 1px, 1px, 1px);height: 1px;margin: -1px;overflow: hidden;padding: 0;position: absolute;width: 1px;}#sk-container-id-5 div.sk-estimator {font-family: monospace;background-color: #f0f8ff;border: 1px dotted black;border-radius: 0.25em;box-sizing: border-box;margin-bottom: 0.5em;}#sk-container-id-5 div.sk-estimator:hover {background-color: #d4ebff;}#sk-container-id-5 div.sk-parallel-item::after {content: \"\";width: 100%;border-bottom: 1px solid gray;flex-grow: 1;}#sk-container-id-5 div.sk-label:hover label.sk-toggleable__label {background-color: #d4ebff;}#sk-container-id-5 div.sk-serial::before {content: \"\";position: absolute;border-left: 1px solid gray;box-sizing: border-box;top: 0;bottom: 0;left: 50%;z-index: 0;}#sk-container-id-5 div.sk-serial {display: flex;flex-direction: column;align-items: center;background-color: white;padding-right: 0.2em;padding-left: 0.2em;position: relative;}#sk-container-id-5 div.sk-item {position: relative;z-index: 1;}#sk-container-id-5 div.sk-parallel {display: flex;align-items: stretch;justify-content: center;background-color: white;position: relative;}#sk-container-id-5 div.sk-item::before, #sk-container-id-5 div.sk-parallel-item::before {content: \"\";position: absolute;border-left: 1px solid gray;box-sizing: border-box;top: 0;bottom: 0;left: 50%;z-index: -1;}#sk-container-id-5 div.sk-parallel-item {display: flex;flex-direction: column;z-index: 1;position: relative;background-color: white;}#sk-container-id-5 div.sk-parallel-item:first-child::after {align-self: flex-end;width: 50%;}#sk-container-id-5 div.sk-parallel-item:last-child::after {align-self: flex-start;width: 50%;}#sk-container-id-5 div.sk-parallel-item:only-child::after {width: 0;}#sk-container-id-5 div.sk-dashed-wrapped {border: 1px dashed gray;margin: 0 0.4em 0.5em 0.4em;box-sizing: border-box;padding-bottom: 0.4em;background-color: white;}#sk-container-id-5 div.sk-label label {font-family: monospace;font-weight: bold;display: inline-block;line-height: 1.2em;}#sk-container-id-5 div.sk-label-container {text-align: center;}#sk-container-id-5 div.sk-container {/* jupyter's `normalize.less` sets `[hidden] { display: none; }` but bootstrap.min.css set `[hidden] { display: none !important; }` so we also need the `!important` here to be able to override the default hidden behavior on the sphinx rendered scikit-learn.org. See: https://github.com/scikit-learn/scikit-learn/issues/21755 */display: inline-block !important;position: relative;}#sk-container-id-5 div.sk-text-repr-fallback {display: none;}</style><div id=\"sk-container-id-5\" class=\"sk-top-container\"><div class=\"sk-text-repr-fallback\"><pre>GridSearchCV(cv=5, estimator=GradientBoostingRegressor(),\n",
              "             param_grid={&#x27;learning_rate&#x27;: [0.001, 0.01, 0.1, 0.15, 0.2],\n",
              "                         &#x27;n_estimators&#x27;: [100, 200, 300]})</pre><b>In a Jupyter environment, please rerun this cell to show the HTML representation or trust the notebook. <br />On GitHub, the HTML representation is unable to render, please try loading this page with nbviewer.org.</b></div><div class=\"sk-container\" hidden><div class=\"sk-item sk-dashed-wrapped\"><div class=\"sk-label-container\"><div class=\"sk-label sk-toggleable\"><input class=\"sk-toggleable__control sk-hidden--visually\" id=\"sk-estimator-id-5\" type=\"checkbox\" ><label for=\"sk-estimator-id-5\" class=\"sk-toggleable__label sk-toggleable__label-arrow\">GridSearchCV</label><div class=\"sk-toggleable__content\"><pre>GridSearchCV(cv=5, estimator=GradientBoostingRegressor(),\n",
              "             param_grid={&#x27;learning_rate&#x27;: [0.001, 0.01, 0.1, 0.15, 0.2],\n",
              "                         &#x27;n_estimators&#x27;: [100, 200, 300]})</pre></div></div></div><div class=\"sk-parallel\"><div class=\"sk-parallel-item\"><div class=\"sk-item\"><div class=\"sk-label-container\"><div class=\"sk-label sk-toggleable\"><input class=\"sk-toggleable__control sk-hidden--visually\" id=\"sk-estimator-id-6\" type=\"checkbox\" ><label for=\"sk-estimator-id-6\" class=\"sk-toggleable__label sk-toggleable__label-arrow\">estimator: GradientBoostingRegressor</label><div class=\"sk-toggleable__content\"><pre>GradientBoostingRegressor()</pre></div></div></div><div class=\"sk-serial\"><div class=\"sk-item\"><div class=\"sk-estimator sk-toggleable\"><input class=\"sk-toggleable__control sk-hidden--visually\" id=\"sk-estimator-id-7\" type=\"checkbox\" ><label for=\"sk-estimator-id-7\" class=\"sk-toggleable__label sk-toggleable__label-arrow\">GradientBoostingRegressor</label><div class=\"sk-toggleable__content\"><pre>GradientBoostingRegressor()</pre></div></div></div></div></div></div></div></div></div></div>"
            ]
          },
          "metadata": {},
          "execution_count": 88
        }
      ]
    },
    {
      "cell_type": "code",
      "source": [
        "gscv.best_params_"
      ],
      "metadata": {
        "colab": {
          "base_uri": "https://localhost:8080/"
        },
        "id": "AExZoNMAw7vt",
        "outputId": "f39e1b80-ce6d-4c56-f470-8993c54de794"
      },
      "execution_count": null,
      "outputs": [
        {
          "output_type": "execute_result",
          "data": {
            "text/plain": [
              "{'learning_rate': 0.1, 'n_estimators': 100}"
            ]
          },
          "metadata": {},
          "execution_count": 89
        }
      ]
    },
    {
      "cell_type": "code",
      "source": [
        "gscv.best_score_"
      ],
      "metadata": {
        "colab": {
          "base_uri": "https://localhost:8080/"
        },
        "id": "EewdeT54xBGb",
        "outputId": "1390fbac-46d9-4cf6-e39b-5ae345ccef5a"
      },
      "execution_count": null,
      "outputs": [
        {
          "output_type": "execute_result",
          "data": {
            "text/plain": [
              "0.8992759272854045"
            ]
          },
          "metadata": {},
          "execution_count": 90
        }
      ]
    },
    {
      "cell_type": "markdown",
      "source": [
        "Based on result from Gridsearch CV tuning hyperparameter for Gradient Boosting Regressor to obtain better result"
      ],
      "metadata": {
        "id": "sH32vpKd-1bw"
      }
    },
    {
      "cell_type": "code",
      "source": [
        "test_score=[]\n",
        "train_score=[]\n",
        "gbc_r2_score=[]\n",
        "MSE=[]"
      ],
      "metadata": {
        "id": "Bu8EqQUs6aXu"
      },
      "execution_count": null,
      "outputs": []
    },
    {
      "cell_type": "code",
      "source": [
        "learning_rate=[0.01,0.1,0.15]\n",
        "for k in learning_rate:\n",
        "  gbc = GradientBoostingRegressor(n_estimators=200, learning_rate=k)\n",
        "  gbc.fit(X_std,y_train)\n",
        "  y_pred = gbc.predict(X_std_test)\n",
        "  test_score.append(gbc.score(X_std_test, y_test))\n",
        "  train_score.append(gbc.score(X_std, y_train))\n",
        "  gbc_r2_score.append(metrics.r2_score(y_test, y_pred))\n",
        "  MSE.append(metrics.mean_squared_error(y_test, y_pred))"
      ],
      "metadata": {
        "id": "Iyqy2kef5bp9"
      },
      "execution_count": null,
      "outputs": []
    },
    {
      "cell_type": "code",
      "source": [
        "print(test_score)\n",
        "print(train_score)\n",
        "print(gbc_r2_score)\n",
        "print(MSE)"
      ],
      "metadata": {
        "colab": {
          "base_uri": "https://localhost:8080/"
        },
        "id": "nB2Slp6T8RSv",
        "outputId": "fa47dd09-b624-47e5-f25b-40bb29769600"
      },
      "execution_count": null,
      "outputs": [
        {
          "output_type": "stream",
          "name": "stdout",
          "text": [
            "[0.9400490481231971, 0.9415610889788862, 0.9469836565094957]\n",
            "[0.9458896821779462, 0.9979675880362038, 0.9987886341241721]\n",
            "[0.9400490481231971, 0.9415610889788862, 0.9469836565094957]\n",
            "[3450455.8183870865, 3363430.8420552225, 3051336.8868993893]\n"
          ]
        }
      ]
    },
    {
      "cell_type": "markdown",
      "source": [
        "The Gradient Boosting Regressor gives best result with parameters **n_estimators= 200** and **learning rate= 0.01**. The score obtained is **0.94**"
      ],
      "metadata": {
        "id": "3CyqsuWnX46s"
      }
    },
    {
      "cell_type": "markdown",
      "source": [
        "#Random Forest Regressor"
      ],
      "metadata": {
        "id": "QcqsqqBBxOAX"
      }
    },
    {
      "cell_type": "code",
      "source": [
        "from sklearn.ensemble import RandomForestRegressor"
      ],
      "metadata": {
        "id": "2bg4tYI9yQvI"
      },
      "execution_count": null,
      "outputs": []
    },
    {
      "cell_type": "code",
      "source": [
        "param_grid_1={'n_estimators':[100,150,200,300],'max_depth':[1,2,3,4,5,6,7,8]}"
      ],
      "metadata": {
        "id": "u1DpTFUuxR8U"
      },
      "execution_count": null,
      "outputs": []
    },
    {
      "cell_type": "code",
      "source": [
        "gscv_rf = GridSearchCV(RandomForestRegressor(), param_grid_1, cv=5)"
      ],
      "metadata": {
        "id": "fRFfKNwcx5KI"
      },
      "execution_count": null,
      "outputs": []
    },
    {
      "cell_type": "code",
      "source": [
        "gscv_rf.fit(X_std,y_train)"
      ],
      "metadata": {
        "colab": {
          "base_uri": "https://localhost:8080/",
          "height": 117
        },
        "id": "WbcQPb6cxM6D",
        "outputId": "5d3b3ec3-948d-4cea-e0e9-040641c6ab0a"
      },
      "execution_count": null,
      "outputs": [
        {
          "output_type": "execute_result",
          "data": {
            "text/plain": [
              "GridSearchCV(cv=5, estimator=RandomForestRegressor(),\n",
              "             param_grid={'max_depth': [1, 2, 3, 4, 5, 6, 7, 8],\n",
              "                         'n_estimators': [100, 150, 200, 300]})"
            ],
            "text/html": [
              "<style>#sk-container-id-6 {color: black;background-color: white;}#sk-container-id-6 pre{padding: 0;}#sk-container-id-6 div.sk-toggleable {background-color: white;}#sk-container-id-6 label.sk-toggleable__label {cursor: pointer;display: block;width: 100%;margin-bottom: 0;padding: 0.3em;box-sizing: border-box;text-align: center;}#sk-container-id-6 label.sk-toggleable__label-arrow:before {content: \"▸\";float: left;margin-right: 0.25em;color: #696969;}#sk-container-id-6 label.sk-toggleable__label-arrow:hover:before {color: black;}#sk-container-id-6 div.sk-estimator:hover label.sk-toggleable__label-arrow:before {color: black;}#sk-container-id-6 div.sk-toggleable__content {max-height: 0;max-width: 0;overflow: hidden;text-align: left;background-color: #f0f8ff;}#sk-container-id-6 div.sk-toggleable__content pre {margin: 0.2em;color: black;border-radius: 0.25em;background-color: #f0f8ff;}#sk-container-id-6 input.sk-toggleable__control:checked~div.sk-toggleable__content {max-height: 200px;max-width: 100%;overflow: auto;}#sk-container-id-6 input.sk-toggleable__control:checked~label.sk-toggleable__label-arrow:before {content: \"▾\";}#sk-container-id-6 div.sk-estimator input.sk-toggleable__control:checked~label.sk-toggleable__label {background-color: #d4ebff;}#sk-container-id-6 div.sk-label input.sk-toggleable__control:checked~label.sk-toggleable__label {background-color: #d4ebff;}#sk-container-id-6 input.sk-hidden--visually {border: 0;clip: rect(1px 1px 1px 1px);clip: rect(1px, 1px, 1px, 1px);height: 1px;margin: -1px;overflow: hidden;padding: 0;position: absolute;width: 1px;}#sk-container-id-6 div.sk-estimator {font-family: monospace;background-color: #f0f8ff;border: 1px dotted black;border-radius: 0.25em;box-sizing: border-box;margin-bottom: 0.5em;}#sk-container-id-6 div.sk-estimator:hover {background-color: #d4ebff;}#sk-container-id-6 div.sk-parallel-item::after {content: \"\";width: 100%;border-bottom: 1px solid gray;flex-grow: 1;}#sk-container-id-6 div.sk-label:hover label.sk-toggleable__label {background-color: #d4ebff;}#sk-container-id-6 div.sk-serial::before {content: \"\";position: absolute;border-left: 1px solid gray;box-sizing: border-box;top: 0;bottom: 0;left: 50%;z-index: 0;}#sk-container-id-6 div.sk-serial {display: flex;flex-direction: column;align-items: center;background-color: white;padding-right: 0.2em;padding-left: 0.2em;position: relative;}#sk-container-id-6 div.sk-item {position: relative;z-index: 1;}#sk-container-id-6 div.sk-parallel {display: flex;align-items: stretch;justify-content: center;background-color: white;position: relative;}#sk-container-id-6 div.sk-item::before, #sk-container-id-6 div.sk-parallel-item::before {content: \"\";position: absolute;border-left: 1px solid gray;box-sizing: border-box;top: 0;bottom: 0;left: 50%;z-index: -1;}#sk-container-id-6 div.sk-parallel-item {display: flex;flex-direction: column;z-index: 1;position: relative;background-color: white;}#sk-container-id-6 div.sk-parallel-item:first-child::after {align-self: flex-end;width: 50%;}#sk-container-id-6 div.sk-parallel-item:last-child::after {align-self: flex-start;width: 50%;}#sk-container-id-6 div.sk-parallel-item:only-child::after {width: 0;}#sk-container-id-6 div.sk-dashed-wrapped {border: 1px dashed gray;margin: 0 0.4em 0.5em 0.4em;box-sizing: border-box;padding-bottom: 0.4em;background-color: white;}#sk-container-id-6 div.sk-label label {font-family: monospace;font-weight: bold;display: inline-block;line-height: 1.2em;}#sk-container-id-6 div.sk-label-container {text-align: center;}#sk-container-id-6 div.sk-container {/* jupyter's `normalize.less` sets `[hidden] { display: none; }` but bootstrap.min.css set `[hidden] { display: none !important; }` so we also need the `!important` here to be able to override the default hidden behavior on the sphinx rendered scikit-learn.org. See: https://github.com/scikit-learn/scikit-learn/issues/21755 */display: inline-block !important;position: relative;}#sk-container-id-6 div.sk-text-repr-fallback {display: none;}</style><div id=\"sk-container-id-6\" class=\"sk-top-container\"><div class=\"sk-text-repr-fallback\"><pre>GridSearchCV(cv=5, estimator=RandomForestRegressor(),\n",
              "             param_grid={&#x27;max_depth&#x27;: [1, 2, 3, 4, 5, 6, 7, 8],\n",
              "                         &#x27;n_estimators&#x27;: [100, 150, 200, 300]})</pre><b>In a Jupyter environment, please rerun this cell to show the HTML representation or trust the notebook. <br />On GitHub, the HTML representation is unable to render, please try loading this page with nbviewer.org.</b></div><div class=\"sk-container\" hidden><div class=\"sk-item sk-dashed-wrapped\"><div class=\"sk-label-container\"><div class=\"sk-label sk-toggleable\"><input class=\"sk-toggleable__control sk-hidden--visually\" id=\"sk-estimator-id-8\" type=\"checkbox\" ><label for=\"sk-estimator-id-8\" class=\"sk-toggleable__label sk-toggleable__label-arrow\">GridSearchCV</label><div class=\"sk-toggleable__content\"><pre>GridSearchCV(cv=5, estimator=RandomForestRegressor(),\n",
              "             param_grid={&#x27;max_depth&#x27;: [1, 2, 3, 4, 5, 6, 7, 8],\n",
              "                         &#x27;n_estimators&#x27;: [100, 150, 200, 300]})</pre></div></div></div><div class=\"sk-parallel\"><div class=\"sk-parallel-item\"><div class=\"sk-item\"><div class=\"sk-label-container\"><div class=\"sk-label sk-toggleable\"><input class=\"sk-toggleable__control sk-hidden--visually\" id=\"sk-estimator-id-9\" type=\"checkbox\" ><label for=\"sk-estimator-id-9\" class=\"sk-toggleable__label sk-toggleable__label-arrow\">estimator: RandomForestRegressor</label><div class=\"sk-toggleable__content\"><pre>RandomForestRegressor()</pre></div></div></div><div class=\"sk-serial\"><div class=\"sk-item\"><div class=\"sk-estimator sk-toggleable\"><input class=\"sk-toggleable__control sk-hidden--visually\" id=\"sk-estimator-id-10\" type=\"checkbox\" ><label for=\"sk-estimator-id-10\" class=\"sk-toggleable__label sk-toggleable__label-arrow\">RandomForestRegressor</label><div class=\"sk-toggleable__content\"><pre>RandomForestRegressor()</pre></div></div></div></div></div></div></div></div></div></div>"
            ]
          },
          "metadata": {},
          "execution_count": 102
        }
      ]
    },
    {
      "cell_type": "code",
      "source": [
        "gscv_rf.best_params_"
      ],
      "metadata": {
        "colab": {
          "base_uri": "https://localhost:8080/"
        },
        "id": "sGQm5uoDy_RY",
        "outputId": "eea34f2f-73e7-4cde-e740-21110513a2c8"
      },
      "execution_count": null,
      "outputs": [
        {
          "output_type": "execute_result",
          "data": {
            "text/plain": [
              "{'max_depth': 7, 'n_estimators': 200}"
            ]
          },
          "metadata": {},
          "execution_count": 103
        }
      ]
    },
    {
      "cell_type": "code",
      "source": [
        "gscv_rf.best_score_"
      ],
      "metadata": {
        "colab": {
          "base_uri": "https://localhost:8080/"
        },
        "id": "Kn4k5QKezEye",
        "outputId": "25514342-a4aa-44dd-890b-6261643cf758"
      },
      "execution_count": null,
      "outputs": [
        {
          "output_type": "execute_result",
          "data": {
            "text/plain": [
              "0.898978587014055"
            ]
          },
          "metadata": {},
          "execution_count": 104
        }
      ]
    },
    {
      "cell_type": "markdown",
      "source": [
        "Based on the result of GridSearch CV doing hyperparameter tuning to obtain better result"
      ],
      "metadata": {
        "id": "tF7e643R-isk"
      }
    },
    {
      "cell_type": "code",
      "source": [
        "rfc_test_score=[]\n",
        "rfc_train_score=[]\n",
        "rfc_r2_score=[]\n",
        "rfc_MSE=[]"
      ],
      "metadata": {
        "id": "jvH4Fhqa9BAR"
      },
      "execution_count": null,
      "outputs": []
    },
    {
      "cell_type": "code",
      "source": [
        "max_depth=[2,3,4,6,7,8]\n",
        "for k in max_depth:\n",
        "  rfc = RandomForestRegressor(n_estimators=200, max_depth=k)\n",
        "  rfc.fit(X_std,y_train)\n",
        "  y_pred = rfc.predict(X_std_test)\n",
        "  rfc_test_score.append(rfc.score(X_std_test, y_test))\n",
        "  rfc_train_score.append(rfc.score(X_std, y_train))\n",
        "  rfc_r2_score.append(metrics.r2_score(y_test, y_pred))\n",
        "  rfc_MSE.append(metrics.mean_squared_error(y_test, y_pred))"
      ],
      "metadata": {
        "id": "GsjGjsXL9Hk8"
      },
      "execution_count": null,
      "outputs": []
    },
    {
      "cell_type": "code",
      "source": [
        "print(rfc_test_score)\n",
        "print(rfc_train_score)\n",
        "print(rfc_r2_score)\n",
        "print(rfc_MSE)"
      ],
      "metadata": {
        "colab": {
          "base_uri": "https://localhost:8080/"
        },
        "id": "uPaa4Cmo95tM",
        "outputId": "74717d4b-ac3a-4a3a-84ed-69984d41787e"
      },
      "execution_count": null,
      "outputs": [
        {
          "output_type": "stream",
          "name": "stdout",
          "text": [
            "[0.9250928686279166, 0.9488656214334877, 0.9502498399570074, 0.9560230099111686, 0.9562842871312304, 0.9589637586354469]\n",
            "[0.9007703155769186, 0.9399257407294593, 0.961815991097093, 0.9804706448892502, 0.984708940118365, 0.9868723280084083]\n",
            "[0.9250928686279166, 0.9488656214334877, 0.9502498399570074, 0.9560230099111686, 0.9562842871312304, 0.9589637586354469]\n",
            "[4311253.436186051, 2943021.0617339606, 2863352.854493272, 2531080.1009295247, 2516042.3829959263, 2361826.348846456]\n"
          ]
        }
      ]
    },
    {
      "cell_type": "markdown",
      "source": [
        "Comparing the score values of different models the best result is obtained **Random Forest Regressor** with parameters n_estimators = 200 and max_depth = 3.\n",
        "The score in this case is **0.948**"
      ],
      "metadata": {
        "id": "0-sJINEnFEhk"
      }
    },
    {
      "cell_type": "markdown",
      "source": [
        "#Final Model"
      ],
      "metadata": {
        "id": "-xUu1gJcMp62"
      }
    },
    {
      "cell_type": "code",
      "source": [
        "rfc_1= RandomForestRegressor(n_estimators = 200, max_depth = 3)\n",
        "rfc_1.fit(X_new, y_train)"
      ],
      "metadata": {
        "colab": {
          "base_uri": "https://localhost:8080/",
          "height": 74
        },
        "id": "aPv9YrCdF-lE",
        "outputId": "72882651-9e5e-4cbf-dad2-609d3e6ab8f9"
      },
      "execution_count": null,
      "outputs": [
        {
          "output_type": "execute_result",
          "data": {
            "text/plain": [
              "RandomForestRegressor(max_depth=3, n_estimators=200)"
            ],
            "text/html": [
              "<style>#sk-container-id-7 {color: black;background-color: white;}#sk-container-id-7 pre{padding: 0;}#sk-container-id-7 div.sk-toggleable {background-color: white;}#sk-container-id-7 label.sk-toggleable__label {cursor: pointer;display: block;width: 100%;margin-bottom: 0;padding: 0.3em;box-sizing: border-box;text-align: center;}#sk-container-id-7 label.sk-toggleable__label-arrow:before {content: \"▸\";float: left;margin-right: 0.25em;color: #696969;}#sk-container-id-7 label.sk-toggleable__label-arrow:hover:before {color: black;}#sk-container-id-7 div.sk-estimator:hover label.sk-toggleable__label-arrow:before {color: black;}#sk-container-id-7 div.sk-toggleable__content {max-height: 0;max-width: 0;overflow: hidden;text-align: left;background-color: #f0f8ff;}#sk-container-id-7 div.sk-toggleable__content pre {margin: 0.2em;color: black;border-radius: 0.25em;background-color: #f0f8ff;}#sk-container-id-7 input.sk-toggleable__control:checked~div.sk-toggleable__content {max-height: 200px;max-width: 100%;overflow: auto;}#sk-container-id-7 input.sk-toggleable__control:checked~label.sk-toggleable__label-arrow:before {content: \"▾\";}#sk-container-id-7 div.sk-estimator input.sk-toggleable__control:checked~label.sk-toggleable__label {background-color: #d4ebff;}#sk-container-id-7 div.sk-label input.sk-toggleable__control:checked~label.sk-toggleable__label {background-color: #d4ebff;}#sk-container-id-7 input.sk-hidden--visually {border: 0;clip: rect(1px 1px 1px 1px);clip: rect(1px, 1px, 1px, 1px);height: 1px;margin: -1px;overflow: hidden;padding: 0;position: absolute;width: 1px;}#sk-container-id-7 div.sk-estimator {font-family: monospace;background-color: #f0f8ff;border: 1px dotted black;border-radius: 0.25em;box-sizing: border-box;margin-bottom: 0.5em;}#sk-container-id-7 div.sk-estimator:hover {background-color: #d4ebff;}#sk-container-id-7 div.sk-parallel-item::after {content: \"\";width: 100%;border-bottom: 1px solid gray;flex-grow: 1;}#sk-container-id-7 div.sk-label:hover label.sk-toggleable__label {background-color: #d4ebff;}#sk-container-id-7 div.sk-serial::before {content: \"\";position: absolute;border-left: 1px solid gray;box-sizing: border-box;top: 0;bottom: 0;left: 50%;z-index: 0;}#sk-container-id-7 div.sk-serial {display: flex;flex-direction: column;align-items: center;background-color: white;padding-right: 0.2em;padding-left: 0.2em;position: relative;}#sk-container-id-7 div.sk-item {position: relative;z-index: 1;}#sk-container-id-7 div.sk-parallel {display: flex;align-items: stretch;justify-content: center;background-color: white;position: relative;}#sk-container-id-7 div.sk-item::before, #sk-container-id-7 div.sk-parallel-item::before {content: \"\";position: absolute;border-left: 1px solid gray;box-sizing: border-box;top: 0;bottom: 0;left: 50%;z-index: -1;}#sk-container-id-7 div.sk-parallel-item {display: flex;flex-direction: column;z-index: 1;position: relative;background-color: white;}#sk-container-id-7 div.sk-parallel-item:first-child::after {align-self: flex-end;width: 50%;}#sk-container-id-7 div.sk-parallel-item:last-child::after {align-self: flex-start;width: 50%;}#sk-container-id-7 div.sk-parallel-item:only-child::after {width: 0;}#sk-container-id-7 div.sk-dashed-wrapped {border: 1px dashed gray;margin: 0 0.4em 0.5em 0.4em;box-sizing: border-box;padding-bottom: 0.4em;background-color: white;}#sk-container-id-7 div.sk-label label {font-family: monospace;font-weight: bold;display: inline-block;line-height: 1.2em;}#sk-container-id-7 div.sk-label-container {text-align: center;}#sk-container-id-7 div.sk-container {/* jupyter's `normalize.less` sets `[hidden] { display: none; }` but bootstrap.min.css set `[hidden] { display: none !important; }` so we also need the `!important` here to be able to override the default hidden behavior on the sphinx rendered scikit-learn.org. See: https://github.com/scikit-learn/scikit-learn/issues/21755 */display: inline-block !important;position: relative;}#sk-container-id-7 div.sk-text-repr-fallback {display: none;}</style><div id=\"sk-container-id-7\" class=\"sk-top-container\"><div class=\"sk-text-repr-fallback\"><pre>RandomForestRegressor(max_depth=3, n_estimators=200)</pre><b>In a Jupyter environment, please rerun this cell to show the HTML representation or trust the notebook. <br />On GitHub, the HTML representation is unable to render, please try loading this page with nbviewer.org.</b></div><div class=\"sk-container\" hidden><div class=\"sk-item\"><div class=\"sk-estimator sk-toggleable\"><input class=\"sk-toggleable__control sk-hidden--visually\" id=\"sk-estimator-id-11\" type=\"checkbox\" checked><label for=\"sk-estimator-id-11\" class=\"sk-toggleable__label sk-toggleable__label-arrow\">RandomForestRegressor</label><div class=\"sk-toggleable__content\"><pre>RandomForestRegressor(max_depth=3, n_estimators=200)</pre></div></div></div></div></div>"
            ]
          },
          "metadata": {},
          "execution_count": 116
        }
      ]
    },
    {
      "cell_type": "code",
      "source": [
        "y_pred_rf = rfc_1.predict(X_new_test)"
      ],
      "metadata": {
        "id": "mniNE5SAz7xz"
      },
      "execution_count": null,
      "outputs": []
    },
    {
      "cell_type": "code",
      "source": [
        "train_score=rfc_1.score(X_new, y_train)\n",
        "test_score = rfc_1.score(X_new_test, y_test)\n",
        "r2_score=metrics.r2_score(y_test, y_pred_rf)\n",
        "\n",
        "print(\"train_score:\",train_score)\n",
        "print(\"test_score:\",test_score)\n",
        "print(\"r2_score:\",r2_score)"
      ],
      "metadata": {
        "colab": {
          "base_uri": "https://localhost:8080/"
        },
        "id": "uSEDav2c0Fy8",
        "outputId": "d052d93a-4d64-4932-bc47-bc60c1c56361"
      },
      "execution_count": null,
      "outputs": [
        {
          "output_type": "stream",
          "name": "stdout",
          "text": [
            "train_score: 0.941236595717762\n",
            "test_score: 0.9470822879557069\n",
            "r2_score: 0.9470822879557069\n"
          ]
        }
      ]
    },
    {
      "cell_type": "markdown",
      "source": [
        "The final model is Random Forest Regressor with max score of **0.947**"
      ],
      "metadata": {
        "id": "rkV23vJBJYDR"
      }
    }
  ]
}